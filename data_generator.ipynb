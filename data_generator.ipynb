{
 "cells": [
  {
   "cell_type": "code",
   "execution_count": 54,
   "metadata": {},
   "outputs": [],
   "source": [
    "from tensorflow import keras\n",
    "import random \n",
    "import numpy as np\n",
    "import pandas as pd\n",
    "import math"
   ]
  },
  {
   "cell_type": "code",
   "execution_count": 67,
   "metadata": {},
   "outputs": [],
   "source": [
    "class DraftGenerator(keras.utils.Sequence) :\n",
    "  \n",
    "    indices = None\n",
    "    batch_size = None\n",
    "    columns = None\n",
    "    card_names = None\n",
    "    \n",
    "    def __init__(self, filename, start, end, batch_size, columns, card_names) :\n",
    "        self.columns = columns\n",
    "        self.batch_size = batch_size\n",
    "        self.filename = filename\n",
    "        self.card_names = card_names\n",
    "        self.indices = list(range(start, end, batch_size))\n",
    "        random.shuffle(self.indices)\n",
    "\n",
    "    \n",
    "    def __len__(self) :\n",
    "        return len(self.indices)\n",
    "  \n",
    "  \n",
    "    def __getitem__(self, idx):\n",
    "        #print(idx)\n",
    "        data = pd.read_csv(self.filename, index_col=0, skiprows = range(1, self.indices[idx]), nrows = self.batch_size)\n",
    "        #print(data.columns)\n",
    "        x = data[self.columns]\n",
    "        y = data[\"pick\"]\n",
    "        y_index = [self.card_names.index(y_name) for y_name in y]\n",
    "        y = keras.utils.to_categorical(y_index, len(self.card_names))\n",
    "        return (x,y)\n",
    "    \n"
   ]
  },
  {
   "cell_type": "code",
   "execution_count": 104,
   "metadata": {},
   "outputs": [],
   "source": [
    "class DraftChunkGenerator(keras.utils.Sequence) :\n",
    "  \n",
    "    indices = None\n",
    "    batch_size = None\n",
    "    columns = None\n",
    "    card_names = None\n",
    "    drafts_iterator = None\n",
    "    start = None\n",
    "    end = None\n",
    "    \n",
    "    def __init__(self, filename, start, end, batch_size, columns, card_names) :\n",
    "        self.columns = columns\n",
    "        self.batch_size = batch_size\n",
    "        self.filename = filename\n",
    "        self.card_names = card_names\n",
    "        self.start = start\n",
    "        self.end = end\n",
    "        self.initialize_generator()\n",
    "        \n",
    "    def initialize_generator(self):\n",
    "        self.drafts_iterator = pd.read_csv(self.filename, skiprows = range(1, self.start), \n",
    "                                           nrows = self.end - self.start, chunksize=self.batch_size)\n",
    "        \n",
    "    def on_epoch_end(self):\n",
    "        self.initialize_generator()\n",
    "    \n",
    "    def __len__(self) :\n",
    "        return math.ceil((self.end-self.start) / self.batch_size)\n",
    "  \n",
    "    def __getitem__(self, idx):\n",
    "        #print(idx)\n",
    "        data = next(self.drafts_iterator)\n",
    "        #print(data.columns)\n",
    "        x = data[self.columns]\n",
    "        y = data[\"pick\"]\n",
    "        y_index = [self.card_names.index(y_name) for y_name in y]\n",
    "        y = keras.utils.to_categorical(y_index, len(self.card_names))\n",
    "        return ()\n",
    "\n",
    "\n"
   ]
  },
  {
   "cell_type": "code",
   "execution_count": 145,
   "metadata": {},
   "outputs": [],
   "source": [
    "class DraftReadFileGenerator(keras.utils.Sequence) :\n",
    "  \n",
    "    indices = None\n",
    "    batch_size = None\n",
    "    columns = None\n",
    "    card_names = None\n",
    "    x = None\n",
    "    y = None\n",
    "    start = None\n",
    "    end = None\n",
    "    current = None\n",
    "    \n",
    "    def __init__(self, filename, start, end, batch_size, read_size, columns, card_names) :\n",
    "        self.columns = columns\n",
    "        self.batch_size = batch_size\n",
    "        self.read_size = read_size \n",
    "        self.filename = filename\n",
    "        self.card_names = card_names\n",
    "        self.start = start\n",
    "        self.end = end\n",
    "        self.current = 0\n",
    "        self.initialize_generator()\n",
    "        \n",
    "    def initialize_generator(self):\n",
    "        local_start = self.start + self.current*self.read_size\n",
    "        data = pd.read_csv(self.filename, skiprows = range(1, local_start), nrows = self.read_size)\n",
    "        self.x = data[self.columns]\n",
    "        y = data[\"pick\"]\n",
    "        y_index = [self.card_names.index(y_name) for y_name in y]\n",
    "        self.y = keras.utils.to_categorical(y_index, len(self.card_names))\n",
    "        self.indices = list(range(0, self.read_size, self.batch_size))\n",
    "        random.shuffle(self.indices)\n",
    "        \n",
    "    def on_epoch_end(self):\n",
    "        self.current = 0\n",
    "        self.initialize_generator()\n",
    "    \n",
    "    def __len__(self) :\n",
    "        return math.ceil((self.end-self.start) / self.batch_size)\n",
    "  \n",
    "    def __getitem__(self, idx):\n",
    "        part = idx // (self.read_size / self.batch_size)\n",
    "        idx = int(idx % (self.read_size / self.batch_size))\n",
    "        if part != self.current:\n",
    "            self.current += 1\n",
    "            self.initialize_generator()\n",
    "        start = self.indices[idx] \n",
    "        end = start + self.batch_size\n",
    "        return (self.x.iloc[start:end], self.y[start:end])\n",
    "\n",
    "    def all_data(self):\n",
    "        data = pd.read_csv(self.filename, skiprows = range(1, self.start), nrows = self.end-self.start)\n",
    "        self.x = data[self.columns]\n",
    "        y = data[\"pick\"]\n",
    "        y_index = [self.card_names.index(y_name) for y_name in y]\n",
    "        self.y = keras.utils.to_categorical(y_index, len(self.card_names))\n",
    "        return x, y\n",
    "\n"
   ]
  },
  {
   "cell_type": "code",
   "execution_count": 49,
   "metadata": {},
   "outputs": [],
   "source": [
    "#all_drafts_iterator = pd.read_csv(\"./data/VOW_prepared.csv\", chunksize=10000)"
   ]
  },
  {
   "cell_type": "code",
   "execution_count": 60,
   "metadata": {},
   "outputs": [],
   "source": [
    "#relevant_drafts = pd.read_csv(\"./data/VOW_prepared.csv\", index_col=0, nrows = 1)\n",
    "#card_names = [c.split(\"_\")[1] for c in relevant_drafts.columns if \"pool_\" in c]"
   ]
  },
  {
   "cell_type": "code",
   "execution_count": 8,
   "metadata": {},
   "outputs": [],
   "source": [
    "#card_names = [c.split(\"_\")[1] for c in relevant_drafts.columns if \"pool_\" in c]"
   ]
  },
  {
   "cell_type": "code",
   "execution_count": 68,
   "metadata": {},
   "outputs": [],
   "source": [
    "#a = DraftGenerator(\"./Data/VOW_prepared.csv\", 100, 10000, 128, [\"R\", \"G\", \"W\"], card_names)"
   ]
  },
  {
   "cell_type": "code",
   "execution_count": 64,
   "metadata": {},
   "outputs": [
    {
     "data": {
      "text/plain": [
       "78"
      ]
     },
     "execution_count": 64,
     "metadata": {},
     "output_type": "execute_result"
    }
   ],
   "source": [
    "#len(a)"
   ]
  },
  {
   "cell_type": "code",
   "execution_count": 69,
   "metadata": {},
   "outputs": [
    {
     "name": "stdout",
     "output_type": "stream",
     "text": [
      "3.87 s ± 44.7 ms per loop (mean ± std. dev. of 7 runs, 1 loop each)\n"
     ]
    }
   ],
   "source": [
    "#%%timeit\n",
    "#for _ in a:\n",
    "#    continue"
   ]
  },
  {
   "cell_type": "code",
   "execution_count": 110,
   "metadata": {},
   "outputs": [],
   "source": [
    "#b = DraftChunkGenerator(\"./Data/VOW_prepared.csv\", 100, 10000, 128, [\"R\", \"G\", \"W\"], card_names)"
   ]
  },
  {
   "cell_type": "code",
   "execution_count": 111,
   "metadata": {},
   "outputs": [
    {
     "data": {
      "text/plain": [
       "78"
      ]
     },
     "execution_count": 111,
     "metadata": {},
     "output_type": "execute_result"
    }
   ],
   "source": [
    "#len(b)"
   ]
  },
  {
   "cell_type": "code",
   "execution_count": 112,
   "metadata": {},
   "outputs": [
    {
     "name": "stdout",
     "output_type": "stream",
     "text": [
      "2.68 s ± 12.5 ms per loop (mean ± std. dev. of 7 runs, 1 loop each)\n"
     ]
    }
   ],
   "source": [
    "#%%timeit\n",
    "#for _ in b:\n",
    "#    continue\n",
    "#b.on_epoch_end()"
   ]
  },
  {
   "cell_type": "code",
   "execution_count": 142,
   "metadata": {},
   "outputs": [],
   "source": [
    "#c = DraftReadFileGenerator(\"./Data/VOW_prepared.csv\", 100, 30000, 128, 12800, [\"R\", \"G\", \"W\"], card_names)"
   ]
  },
  {
   "cell_type": "code",
   "execution_count": 143,
   "metadata": {},
   "outputs": [
    {
     "name": "stdout",
     "output_type": "stream",
     "text": [
      "1.47 s ± 19.5 ms per loop (mean ± std. dev. of 7 runs, 1 loop each)\n"
     ]
    }
   ],
   "source": [
    "#%%timeit\n",
    "#for _ in c:\n",
    "#    continue\n",
    "#c.on_epoch_end()"
   ]
  }
 ],
 "metadata": {
  "kernelspec": {
   "display_name": "Python 3",
   "language": "python",
   "name": "python3"
  },
  "language_info": {
   "codemirror_mode": {
    "name": "ipython",
    "version": 3
   },
   "file_extension": ".py",
   "mimetype": "text/x-python",
   "name": "python",
   "nbconvert_exporter": "python",
   "pygments_lexer": "ipython3",
   "version": "3.7.0"
  }
 },
 "nbformat": 4,
 "nbformat_minor": 4
}
