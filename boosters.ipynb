{
 "cells": [
  {
   "cell_type": "code",
   "execution_count": 153,
   "id": "7e779c24-382a-413d-ab47-d5ee9fdb0aa6",
   "metadata": {},
   "outputs": [],
   "source": [
    "import pandas as pd\n",
    "import random"
   ]
  },
  {
   "cell_type": "code",
   "execution_count": 4,
   "id": "c1a338d4-45b4-40da-81e8-9bef8b3ab7fa",
   "metadata": {},
   "outputs": [],
   "source": [
    "%run \"card_loader.ipynb\""
   ]
  },
  {
   "cell_type": "code",
   "execution_count": 155,
   "id": "975d7f21-0a0d-48b7-a805-123ca9bd4270",
   "metadata": {},
   "outputs": [],
   "source": [
    "def from_edition(cards, edition):\n",
    "    return cards[\"setCode\"] == edition\n",
    "    #return cards[\"printings\"].apply(lambda printings: edition in printings)\n",
    "\n",
    "def from_rarity(cards, rarity):\n",
    "    return cards[\"rarity\"] == rarity\n",
    "\n",
    "def not_basic(cards):\n",
    "    basic = [\"Island\", \"Plains\", \"Swamp\", \"Mountain\", \"Forest\"]\n",
    "    return cards.name.apply(lambda name: name not in basic) \n",
    "\n",
    "def only_color(cards, color):\n",
    "    return cards.colors == color\n",
    "\n",
    "def is_saga(cards):\n",
    "    return cards.type.apply(lambda x : \"Saga\" in x)\n",
    "    \n",
    "def from_type(cards, card_type):\n",
    "    return cards.type == card_type"
   ]
  },
  {
   "cell_type": "code",
   "execution_count": 178,
   "id": "e05b8cd9-5c7a-45aa-8b87-44b3232f9c94",
   "metadata": {},
   "outputs": [],
   "source": [
    "def find_unique(subset):\n",
    "    #print(set(subset.name))\n",
    "    subset = subset[subset.name.apply(lambda x: \"A-\" not in x)]\n",
    "    ids = [subset[subset.name_short == name].iloc[0].id for name in set(subset.name_short)]\n",
    "    return subset.loc[subset['id'].isin(ids)]"
   ]
  },
  {
   "cell_type": "code",
   "execution_count": 176,
   "id": "ce4f4244-49ee-41a2-8b9f-67a54fe63909",
   "metadata": {},
   "outputs": [],
   "source": [
    "def booster_neo():\n",
    "    relevant = cards[from_edition(cards, \"NEO\") & not_basic(cards)]\n",
    "    uncommons = find_unique(relevant[from_rarity(relevant, \"uncommon\") & (~is_saga(relevant))])\n",
    "    rares = find_unique(relevant[from_rarity(relevant, \"rare\")])\n",
    "    mythics = find_unique(relevant[from_rarity(relevant, \"mythic\")])\n",
    "    \n",
    "    sagas = find_unique(relevant[is_saga(relevant)  & (from_rarity(relevant, \"common\") | from_rarity(relevant, \"uncommon\"))])\n",
    "    \n",
    "    commons = find_unique(relevant[from_rarity(relevant, \"common\") & (~from_type(relevant, \"Land\"))])\n",
    "    lands = find_unique(relevant[from_rarity(relevant, \"common\") & from_type(relevant, \"Land\") & (~is_saga(relevant))])\n",
    "    commons_red = find_unique(relevant[from_rarity(relevant, \"common\") & only_color(relevant, \"R\") & (~is_saga(relevant))])\n",
    "    commons_white = find_unique(relevant[from_rarity(relevant, \"common\") & only_color(relevant, \"W\") & (~is_saga(relevant))])\n",
    "    commons_green = find_unique(relevant[from_rarity(relevant, \"common\") & only_color(relevant, \"G\") & (~is_saga(relevant))])\n",
    "    commons_black = find_unique(relevant[from_rarity(relevant, \"common\") & only_color(relevant, \"B\") & (~is_saga(relevant))])\n",
    "    commons_blue = find_unique(relevant[from_rarity(relevant, \"common\") & only_color(relevant, \"U\") & (~is_saga(relevant))])\n",
    "    \n",
    "    name_rare = rares.sample(1).name_short\n",
    "    if random.random() < 1/7:\n",
    "        name_rare = mythics.sample(1).name_short\n",
    "        \n",
    "    name_uncommon = uncommons.sample(3).name_short\n",
    "    name_saga = sagas.sample(1).name_short\n",
    "    \n",
    "    name_red = commons_red.sample(1).name_short\n",
    "    name_white = commons_white.sample(1).name_short\n",
    "    name_green = commons_green.sample(1).name_short\n",
    "    name_black = commons_black.sample(1).name_short\n",
    "    name_blue = commons_blue.sample(1).name_short\n",
    "    \n",
    "    used_names = list(name_red) + list(name_white) + list(name_green) + list(name_black) + list(name_blue)\n",
    "    commons = commons[commons.name.apply(lambda x: x not in used_names)]\n",
    "    \n",
    "    name_common = commons.sample(4).name_short\n",
    "    name_land = lands.sample(1).name_short\n",
    "    \n",
    "    return list(name_rare) + list(name_uncommon) + list(name_saga)+list(name_red)+list(name_white) + \\\n",
    "          list(name_green) + list(name_black) +list(name_blue) +list(name_common) +list(name_land)"
   ]
  }
 ],
 "metadata": {
  "kernelspec": {
   "display_name": "Python 3",
   "language": "python",
   "name": "python3"
  },
  "language_info": {
   "codemirror_mode": {
    "name": "ipython",
    "version": 3
   },
   "file_extension": ".py",
   "mimetype": "text/x-python",
   "name": "python",
   "nbconvert_exporter": "python",
   "pygments_lexer": "ipython3",
   "version": "3.7.0"
  }
 },
 "nbformat": 4,
 "nbformat_minor": 5
}
