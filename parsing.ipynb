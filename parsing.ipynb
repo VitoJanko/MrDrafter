{
 "cells": [
  {
   "cell_type": "code",
   "execution_count": 1,
   "id": "fff7ed0d-edeb-4eb2-a85f-21b7cbcf1021",
   "metadata": {},
   "outputs": [],
   "source": [
    "import pandas as pd\n",
    "from sklearn.ensemble import RandomForestClassifier\n",
    "from sklearn.metrics import accuracy_score"
   ]
  },
  {
   "cell_type": "code",
   "execution_count": 2,
   "id": "43119f1e-c39e-4d95-81b8-4d25579d7442",
   "metadata": {},
   "outputs": [],
   "source": [
    "import numpy as np"
   ]
  },
  {
   "cell_type": "markdown",
   "id": "f31c076e-5df3-4ee4-b5dd-862f5245b202",
   "metadata": {},
   "source": [
    "#### Load card dataset"
   ]
  },
  {
   "cell_type": "code",
   "execution_count": 8,
   "id": "f93144ea-f4e1-4fef-9d5a-b181ba43b0e2",
   "metadata": {},
   "outputs": [
    {
     "name": "stderr",
     "output_type": "stream",
     "text": [
      "c:\\users\\vitoj\\appdata\\local\\programs\\python\\python38\\lib\\site-packages\\IPython\\core\\interactiveshell.py:3146: DtypeWarning: Columns (3,9,11,14,17,21,24,47,59,60,69,76) have mixed types.Specify dtype option on import or set low_memory=False.\n",
      "  has_raised = await self.run_ast_nodes(code_ast.body, cell_name,\n"
     ]
    }
   ],
   "source": [
    "cards = pd.read_csv(\"data/cards.csv\")"
   ]
  },
  {
   "cell_type": "code",
   "execution_count": 5,
   "id": "e5081f6c-4800-4999-ade3-72ab702c52f5",
   "metadata": {},
   "outputs": [],
   "source": [
    "#cards.columns"
   ]
  },
  {
   "cell_type": "code",
   "execution_count": 4,
   "id": "2bb278c3-8c9a-42eb-a6bc-09eb5bb023b4",
   "metadata": {},
   "outputs": [],
   "source": [
    "def shorten(name):\n",
    "    if \"//\" not in name:\n",
    "        return name\n",
    "    return name.split(\"//\")[0][:-1]"
   ]
  },
  {
   "cell_type": "code",
   "execution_count": 5,
   "id": "58e57543-6c5b-4ee4-a822-086da67e74e7",
   "metadata": {},
   "outputs": [],
   "source": [
    "cards[\"name_short\"] = cards[\"name\"].apply(lambda name: shorten(name))"
   ]
  },
  {
   "cell_type": "markdown",
   "id": "55cfe74d-ff9e-4db8-809e-6f695e3190e1",
   "metadata": {},
   "source": [
    "#### Isolate best drafts"
   ]
  },
  {
   "cell_type": "code",
   "execution_count": 10,
   "id": "557faa1d-67a9-4c30-b51a-940ae78e32fd",
   "metadata": {},
   "outputs": [],
   "source": [
    "all_drafts = pd.read_csv(\"draft_data_public.MID.PremierDraft.csv\", nrows=100000)"
   ]
  },
  {
   "cell_type": "code",
   "execution_count": 11,
   "id": "408e970f-af4d-4278-acab-90074a0f8cac",
   "metadata": {},
   "outputs": [
    {
     "data": {
      "text/plain": [
       "Index(['user_match_win_rate_bucket', 'user_n_matches_bucket', 'draft_id',\n",
       "       'draft_time', 'expansion', 'event_type', 'user_rank',\n",
       "       'event_match_wins', 'event_match_losses', 'pack_number',\n",
       "       ...\n",
       "       'pool_Vanquish the Horde', 'pool_Vengeful Strangler',\n",
       "       'pool_Village Watch', 'pool_Vivisection', 'pool_Voldaren Ambusher',\n",
       "       'pool_Voldaren Stinger', 'pool_Wake to Slaughter', 'pool_Willow Geist',\n",
       "       'pool_Winterthorn Blessing', 'pool_Wrenn and Seven'],\n",
       "      dtype='object', length=558)"
      ]
     },
     "execution_count": 11,
     "metadata": {},
     "output_type": "execute_result"
    }
   ],
   "source": [
    "all_drafts.columns"
   ]
  },
  {
   "cell_type": "code",
   "execution_count": 123,
   "id": "dcfac9c0-b44e-4b66-8526-70007374168a",
   "metadata": {},
   "outputs": [],
   "source": [
    "def remove_bad_drafts(df):\n",
    "    drafts = df.draft_id.unique()\n",
    "    suitable_rank = [\"platinum\", \"diamond\", \"mythic\"]\n",
    "    relevant_draft_ids = []\n",
    "    for i,draft_id in enumerate(drafts): \n",
    "        draft = df[df.draft_id == draft_id].iloc[0]\n",
    "        #if i % 100 == 0:\n",
    "        #    print(i)\n",
    "        wins = draft.event_match_wins\n",
    "        rank = draft.user_rank\n",
    "        if wins >= 4 and rank in suitable_rank:\n",
    "            relevant_draft_ids.append(draft_id)\n",
    "    relevant_drafts = df[df.draft_id.apply(lambda x: x in relevant_draft_ids)]\n",
    "    return relevant_drafts"
   ]
  },
  {
   "cell_type": "code",
   "execution_count": 124,
   "id": "c1b71947-a03a-47c5-8195-b2f179f4c391",
   "metadata": {},
   "outputs": [],
   "source": [
    "relevant_drafts = remove_bad_drafts(all_drafts)"
   ]
  },
  {
   "cell_type": "markdown",
   "id": "2b6358d4-1abb-4988-b3c4-3568664fcdb4",
   "metadata": {},
   "source": [
    "#### Group colors"
   ]
  },
  {
   "cell_type": "code",
   "execution_count": 125,
   "id": "7a8e8983-74cf-41ad-9a2d-e7586ab043f4",
   "metadata": {},
   "outputs": [],
   "source": [
    "relevant_drafts = relevant_drafts.copy()"
   ]
  },
  {
   "cell_type": "code",
   "execution_count": 126,
   "id": "b4f72e8a-c774-40d4-bd25-fa0ac37726f1",
   "metadata": {},
   "outputs": [],
   "source": [
    "def find_color(x):\n",
    "    #print (x)\n",
    "    return str(cards[cards.name_short == x].iloc[0].colorIdentity)\n",
    "\n",
    "def find_casting_cost(x):\n",
    "    #print (x)\n",
    "    return int(cards[cards.name_short == x].iloc[0].manaValue)"
   ]
  },
  {
   "cell_type": "code",
   "execution_count": 127,
   "id": "243eba1f-c699-4bfe-b93c-491bdc560257",
   "metadata": {},
   "outputs": [],
   "source": [
    "card_list = relevant_drafts[relevant_drafts.columns[272+14:272*2+14]]"
   ]
  },
  {
   "cell_type": "code",
   "execution_count": 128,
   "id": "917c4e24-1313-46b5-91cd-e2f40a349019",
   "metadata": {},
   "outputs": [],
   "source": [
    "g_mask = [1 if \"pool_\" in c and \"G\" in  find_color(c.split(\"_\")[1]) else 0 for c in card_list.columns]\n",
    "b_mask = [1 if \"pool_\" in c and \"B\" in  find_color(c.split(\"_\")[1]) else 0 for c in card_list.columns]\n",
    "u_mask = [1 if \"pool_\" in c and \"U\" in  find_color(c.split(\"_\")[1]) else 0 for c in card_list.columns]\n",
    "r_mask = [1 if \"pool_\" in c and \"R\" in  find_color(c.split(\"_\")[1]) else 0 for c in card_list.columns]\n",
    "w_mask = [1 if \"pool_\" in c and \"W\" in  find_color(c.split(\"_\")[1]) else 0 for c in card_list.columns]"
   ]
  },
  {
   "cell_type": "code",
   "execution_count": 129,
   "id": "01bbdb72-375e-4759-a63f-ade7592d6b02",
   "metadata": {},
   "outputs": [],
   "source": [
    "relevant_drafts[\"G\"] = np.array(card_list).dot(np.array(g_mask))\n",
    "relevant_drafts[\"B\"] = np.array(card_list).dot(np.array(b_mask))\n",
    "relevant_drafts[\"R\"] = np.array(card_list).dot(np.array(r_mask))\n",
    "relevant_drafts[\"W\"] = np.array(card_list).dot(np.array(w_mask))\n",
    "relevant_drafts[\"U\"] = np.array(card_list).dot(np.array(u_mask))"
   ]
  },
  {
   "cell_type": "code",
   "execution_count": 130,
   "id": "575920ce-9813-46ff-804b-72876f3f9c6c",
   "metadata": {},
   "outputs": [],
   "source": [
    "one_mask = [1 if \"pool_\" in c and find_casting_cost(c.split(\"_\")[1]) <= 1 else 0 for c in card_list.columns]\n",
    "two_mask = [1 if \"pool_\" in c and find_casting_cost(c.split(\"_\")[1]) == 2 else 0 for c in card_list.columns]\n",
    "three_mask = [1 if \"pool_\" in c and find_casting_cost(c.split(\"_\")[1]) == 3 else 0 for c in card_list.columns]\n",
    "four_mask = [1 if \"pool_\" in c and find_casting_cost(c.split(\"_\")[1]) == 4 else 0 for c in card_list.columns]\n",
    "five_mask = [1 if \"pool_\" in c and find_casting_cost(c.split(\"_\")[1]) == 5 else 0 for c in card_list.columns]\n",
    "six_mask = [1 if \"pool_\" in c and find_casting_cost(c.split(\"_\")[1]) >= 6 else 0 for c in card_list.columns]"
   ]
  },
  {
   "cell_type": "code",
   "execution_count": 131,
   "id": "2d51365a-ef45-42c7-ab5a-c7232492cff8",
   "metadata": {},
   "outputs": [],
   "source": [
    "relevant_drafts[\"One\"] = np.array(card_list).dot(np.array(one_mask))\n",
    "relevant_drafts[\"Two\"] = np.array(card_list).dot(np.array(two_mask))\n",
    "relevant_drafts[\"Three\"] = np.array(card_list).dot(np.array(three_mask))\n",
    "relevant_drafts[\"Four\"] = np.array(card_list).dot(np.array(four_mask))\n",
    "relevant_drafts[\"Five\"] = np.array(card_list).dot(np.array(five_mask))\n",
    "relevant_drafts[\"Six\"] = np.array(card_list).dot(np.array(six_mask))"
   ]
  },
  {
   "cell_type": "code",
   "execution_count": 49,
   "id": "66e6c14c-1ef2-4766-bb4c-5533441619d0",
   "metadata": {},
   "outputs": [
    {
     "data": {
      "text/plain": [
       "4"
      ]
     },
     "execution_count": 49,
     "metadata": {},
     "output_type": "execute_result"
    }
   ],
   "source": [
    "relevant_drafts[relevant_drafts.columns[272+14:-5]].iloc[4].sum()"
   ]
  },
  {
   "cell_type": "code",
   "execution_count": 34,
   "id": "c4f9b745-8ded-496c-9376-93b29c690718",
   "metadata": {},
   "outputs": [
    {
     "data": {
      "text/plain": [
       "(2370, 544)"
      ]
     },
     "execution_count": 34,
     "metadata": {},
     "output_type": "execute_result"
    }
   ],
   "source": [
    "card_list.shape"
   ]
  },
  {
   "cell_type": "code",
   "execution_count": 35,
   "id": "b452a5c2-e371-4a01-9174-b5f9b4047a42",
   "metadata": {},
   "outputs": [
    {
     "data": {
      "text/plain": [
       "(544,)"
      ]
     },
     "execution_count": 35,
     "metadata": {},
     "output_type": "execute_result"
    }
   ],
   "source": [
    "np.array(g_mask).shape"
   ]
  },
  {
   "cell_type": "code",
   "execution_count": 69,
   "id": "db7e549a-1602-4257-a7a9-eed6ced4b98b",
   "metadata": {},
   "outputs": [
    {
     "data": {
      "text/html": [
       "<div>\n",
       "<style scoped>\n",
       "    .dataframe tbody tr th:only-of-type {\n",
       "        vertical-align: middle;\n",
       "    }\n",
       "\n",
       "    .dataframe tbody tr th {\n",
       "        vertical-align: top;\n",
       "    }\n",
       "\n",
       "    .dataframe thead th {\n",
       "        text-align: right;\n",
       "    }\n",
       "</style>\n",
       "<table border=\"1\" class=\"dataframe\">\n",
       "  <thead>\n",
       "    <tr style=\"text-align: right;\">\n",
       "      <th></th>\n",
       "      <th>One</th>\n",
       "      <th>Two</th>\n",
       "      <th>Three</th>\n",
       "      <th>Four</th>\n",
       "      <th>Five</th>\n",
       "      <th>Six</th>\n",
       "    </tr>\n",
       "  </thead>\n",
       "  <tbody>\n",
       "    <tr>\n",
       "      <th>1</th>\n",
       "      <td>0</td>\n",
       "      <td>0</td>\n",
       "      <td>0</td>\n",
       "      <td>0</td>\n",
       "      <td>0</td>\n",
       "      <td>0</td>\n",
       "    </tr>\n",
       "    <tr>\n",
       "      <th>2</th>\n",
       "      <td>0</td>\n",
       "      <td>0</td>\n",
       "      <td>1</td>\n",
       "      <td>0</td>\n",
       "      <td>0</td>\n",
       "      <td>0</td>\n",
       "    </tr>\n",
       "    <tr>\n",
       "      <th>3</th>\n",
       "      <td>0</td>\n",
       "      <td>0</td>\n",
       "      <td>2</td>\n",
       "      <td>0</td>\n",
       "      <td>0</td>\n",
       "      <td>0</td>\n",
       "    </tr>\n",
       "    <tr>\n",
       "      <th>4</th>\n",
       "      <td>1</td>\n",
       "      <td>0</td>\n",
       "      <td>2</td>\n",
       "      <td>0</td>\n",
       "      <td>0</td>\n",
       "      <td>0</td>\n",
       "    </tr>\n",
       "    <tr>\n",
       "      <th>5</th>\n",
       "      <td>1</td>\n",
       "      <td>0</td>\n",
       "      <td>2</td>\n",
       "      <td>1</td>\n",
       "      <td>0</td>\n",
       "      <td>0</td>\n",
       "    </tr>\n",
       "    <tr>\n",
       "      <th>...</th>\n",
       "      <td>...</td>\n",
       "      <td>...</td>\n",
       "      <td>...</td>\n",
       "      <td>...</td>\n",
       "      <td>...</td>\n",
       "      <td>...</td>\n",
       "    </tr>\n",
       "    <tr>\n",
       "      <th>9995</th>\n",
       "      <td>2</td>\n",
       "      <td>2</td>\n",
       "      <td>0</td>\n",
       "      <td>2</td>\n",
       "      <td>0</td>\n",
       "      <td>0</td>\n",
       "    </tr>\n",
       "    <tr>\n",
       "      <th>9996</th>\n",
       "      <td>2</td>\n",
       "      <td>3</td>\n",
       "      <td>0</td>\n",
       "      <td>2</td>\n",
       "      <td>0</td>\n",
       "      <td>0</td>\n",
       "    </tr>\n",
       "    <tr>\n",
       "      <th>9997</th>\n",
       "      <td>2</td>\n",
       "      <td>3</td>\n",
       "      <td>1</td>\n",
       "      <td>2</td>\n",
       "      <td>0</td>\n",
       "      <td>0</td>\n",
       "    </tr>\n",
       "    <tr>\n",
       "      <th>9998</th>\n",
       "      <td>3</td>\n",
       "      <td>3</td>\n",
       "      <td>1</td>\n",
       "      <td>2</td>\n",
       "      <td>0</td>\n",
       "      <td>0</td>\n",
       "    </tr>\n",
       "    <tr>\n",
       "      <th>9999</th>\n",
       "      <td>3</td>\n",
       "      <td>3</td>\n",
       "      <td>1</td>\n",
       "      <td>3</td>\n",
       "      <td>0</td>\n",
       "      <td>0</td>\n",
       "    </tr>\n",
       "  </tbody>\n",
       "</table>\n",
       "<p>2370 rows × 6 columns</p>\n",
       "</div>"
      ],
      "text/plain": [
       "      One  Two  Three  Four  Five  Six\n",
       "1       0    0      0     0     0    0\n",
       "2       0    0      1     0     0    0\n",
       "3       0    0      2     0     0    0\n",
       "4       1    0      2     0     0    0\n",
       "5       1    0      2     1     0    0\n",
       "...   ...  ...    ...   ...   ...  ...\n",
       "9995    2    2      0     2     0    0\n",
       "9996    2    3      0     2     0    0\n",
       "9997    2    3      1     2     0    0\n",
       "9998    3    3      1     2     0    0\n",
       "9999    3    3      1     3     0    0\n",
       "\n",
       "[2370 rows x 6 columns]"
      ]
     },
     "execution_count": 69,
     "metadata": {},
     "output_type": "execute_result"
    }
   ],
   "source": [
    "relevant_drafts[[\"One\",\"Two\",\"Three\",\"Four\",\"Five\", \"Six\"]]"
   ]
  },
  {
   "cell_type": "code",
   "execution_count": 64,
   "id": "ba461099-50d1-45a4-9b7b-67cf6ffb21c1",
   "metadata": {},
   "outputs": [
    {
     "data": {
      "text/html": [
       "<div>\n",
       "<style scoped>\n",
       "    .dataframe tbody tr th:only-of-type {\n",
       "        vertical-align: middle;\n",
       "    }\n",
       "\n",
       "    .dataframe tbody tr th {\n",
       "        vertical-align: top;\n",
       "    }\n",
       "\n",
       "    .dataframe thead th {\n",
       "        text-align: right;\n",
       "    }\n",
       "</style>\n",
       "<table border=\"1\" class=\"dataframe\">\n",
       "  <thead>\n",
       "    <tr style=\"text-align: right;\">\n",
       "      <th></th>\n",
       "      <th>G</th>\n",
       "      <th>R</th>\n",
       "      <th>B</th>\n",
       "      <th>W</th>\n",
       "      <th>U</th>\n",
       "    </tr>\n",
       "  </thead>\n",
       "  <tbody>\n",
       "    <tr>\n",
       "      <th>1</th>\n",
       "      <td>0</td>\n",
       "      <td>0</td>\n",
       "      <td>0</td>\n",
       "      <td>0</td>\n",
       "      <td>0</td>\n",
       "    </tr>\n",
       "    <tr>\n",
       "      <th>2</th>\n",
       "      <td>1</td>\n",
       "      <td>0</td>\n",
       "      <td>0</td>\n",
       "      <td>0</td>\n",
       "      <td>0</td>\n",
       "    </tr>\n",
       "    <tr>\n",
       "      <th>3</th>\n",
       "      <td>1</td>\n",
       "      <td>0</td>\n",
       "      <td>0</td>\n",
       "      <td>1</td>\n",
       "      <td>0</td>\n",
       "    </tr>\n",
       "    <tr>\n",
       "      <th>4</th>\n",
       "      <td>1</td>\n",
       "      <td>0</td>\n",
       "      <td>0</td>\n",
       "      <td>2</td>\n",
       "      <td>0</td>\n",
       "    </tr>\n",
       "    <tr>\n",
       "      <th>5</th>\n",
       "      <td>1</td>\n",
       "      <td>0</td>\n",
       "      <td>0</td>\n",
       "      <td>3</td>\n",
       "      <td>0</td>\n",
       "    </tr>\n",
       "    <tr>\n",
       "      <th>...</th>\n",
       "      <td>...</td>\n",
       "      <td>...</td>\n",
       "      <td>...</td>\n",
       "      <td>...</td>\n",
       "      <td>...</td>\n",
       "    </tr>\n",
       "    <tr>\n",
       "      <th>9995</th>\n",
       "      <td>0</td>\n",
       "      <td>0</td>\n",
       "      <td>3</td>\n",
       "      <td>2</td>\n",
       "      <td>2</td>\n",
       "    </tr>\n",
       "    <tr>\n",
       "      <th>9996</th>\n",
       "      <td>1</td>\n",
       "      <td>0</td>\n",
       "      <td>3</td>\n",
       "      <td>2</td>\n",
       "      <td>3</td>\n",
       "    </tr>\n",
       "    <tr>\n",
       "      <th>9997</th>\n",
       "      <td>1</td>\n",
       "      <td>0</td>\n",
       "      <td>3</td>\n",
       "      <td>2</td>\n",
       "      <td>4</td>\n",
       "    </tr>\n",
       "    <tr>\n",
       "      <th>9998</th>\n",
       "      <td>1</td>\n",
       "      <td>0</td>\n",
       "      <td>3</td>\n",
       "      <td>3</td>\n",
       "      <td>4</td>\n",
       "    </tr>\n",
       "    <tr>\n",
       "      <th>9999</th>\n",
       "      <td>1</td>\n",
       "      <td>0</td>\n",
       "      <td>4</td>\n",
       "      <td>3</td>\n",
       "      <td>4</td>\n",
       "    </tr>\n",
       "  </tbody>\n",
       "</table>\n",
       "<p>2370 rows × 5 columns</p>\n",
       "</div>"
      ],
      "text/plain": [
       "      G  R  B  W  U\n",
       "1     0  0  0  0  0\n",
       "2     1  0  0  0  0\n",
       "3     1  0  0  1  0\n",
       "4     1  0  0  2  0\n",
       "5     1  0  0  3  0\n",
       "...  .. .. .. .. ..\n",
       "9995  0  0  3  2  2\n",
       "9996  1  0  3  2  3\n",
       "9997  1  0  3  2  4\n",
       "9998  1  0  3  3  4\n",
       "9999  1  0  4  3  4\n",
       "\n",
       "[2370 rows x 5 columns]"
      ]
     },
     "execution_count": 64,
     "metadata": {},
     "output_type": "execute_result"
    }
   ],
   "source": [
    "relevant_drafts[[\"G\",\"R\",\"B\",\"W\",\"U\"]]"
   ]
  },
  {
   "cell_type": "code",
   "execution_count": 29,
   "id": "8497e2a4-7f4b-4d21-a764-1e129fc153e2",
   "metadata": {},
   "outputs": [
    {
     "data": {
      "text/plain": [
       "array([0, 1, 1, ..., 1, 1, 1], dtype=int64)"
      ]
     },
     "execution_count": 29,
     "metadata": {},
     "output_type": "execute_result"
    }
   ],
   "source": [
    "np.array(card_list).dot(np.array(mp))\n"
   ]
  },
  {
   "cell_type": "code",
   "execution_count": null,
   "id": "70a060da-0069-47ad-a296-e5f7623fa2f8",
   "metadata": {},
   "outputs": [],
   "source": [
    "one_draft.pick.apply(lambda x: x+\" \"+find_color(x)+\" \"+find_casting_cost(x))"
   ]
  },
  {
   "cell_type": "markdown",
   "id": "b173b5da-9912-4992-838d-0592272b41c3",
   "metadata": {},
   "source": [
    "#### Go through data"
   ]
  },
  {
   "cell_type": "markdown",
   "id": "d423403e-5588-401d-97c2-18149a6e770c",
   "metadata": {},
   "source": [
    "#### Test and train split"
   ]
  },
  {
   "cell_type": "code",
   "execution_count": 132,
   "id": "44542074-37b6-4c63-a94c-e0005e5551d3",
   "metadata": {},
   "outputs": [],
   "source": [
    "x = relevant_drafts[list(relevant_drafts.columns[14:]) +['pack_number']]\n",
    "y = relevant_drafts[\"pick\"]"
   ]
  },
  {
   "cell_type": "code",
   "execution_count": 133,
   "id": "21ae1d00-6197-48f2-8313-8aae96ec1b70",
   "metadata": {},
   "outputs": [],
   "source": [
    "threshold = int(len(x) * 0.8)\n",
    "x_train = x[:threshold]\n",
    "x_test = x[threshold:]\n",
    "y_train = y[:threshold]\n",
    "y_test = y[threshold:]"
   ]
  },
  {
   "cell_type": "code",
   "execution_count": 178,
   "id": "27e9993c-2d55-4706-a931-59a387d259f5",
   "metadata": {},
   "outputs": [
    {
     "ename": "MemoryError",
     "evalue": "could not allocate 69992448 bytes",
     "output_type": "error",
     "traceback": [
      "\u001b[1;31m---------------------------------------------------------------------------\u001b[0m",
      "\u001b[1;31mMemoryError\u001b[0m                               Traceback (most recent call last)",
      "\u001b[1;32m<ipython-input-178-3f5d9ef2f991>\u001b[0m in \u001b[0;36m<module>\u001b[1;34m\u001b[0m\n\u001b[0;32m      1\u001b[0m \u001b[0mclf\u001b[0m \u001b[1;33m=\u001b[0m \u001b[0mRandomForestClassifier\u001b[0m\u001b[1;33m(\u001b[0m\u001b[0mrandom_state\u001b[0m\u001b[1;33m=\u001b[0m\u001b[1;36m0\u001b[0m\u001b[1;33m,\u001b[0m \u001b[0mn_estimators\u001b[0m\u001b[1;33m=\u001b[0m\u001b[1;36m100\u001b[0m\u001b[1;33m)\u001b[0m\u001b[1;33m\u001b[0m\u001b[1;33m\u001b[0m\u001b[0m\n\u001b[1;32m----> 2\u001b[1;33m \u001b[0mclf\u001b[0m\u001b[1;33m.\u001b[0m\u001b[0mfit\u001b[0m\u001b[1;33m(\u001b[0m\u001b[0mx_train\u001b[0m\u001b[1;33m,\u001b[0m \u001b[0my_train\u001b[0m\u001b[1;33m)\u001b[0m\u001b[1;33m\u001b[0m\u001b[1;33m\u001b[0m\u001b[0m\n\u001b[0m",
      "\u001b[1;32mc:\\users\\vitoj\\appdata\\local\\programs\\python\\python38\\lib\\site-packages\\sklearn\\ensemble\\_forest.py\u001b[0m in \u001b[0;36mfit\u001b[1;34m(self, X, y, sample_weight)\u001b[0m\n\u001b[0;32m    385\u001b[0m             \u001b[1;31m# parallel_backend contexts set at a higher level,\u001b[0m\u001b[1;33m\u001b[0m\u001b[1;33m\u001b[0m\u001b[1;33m\u001b[0m\u001b[0m\n\u001b[0;32m    386\u001b[0m             \u001b[1;31m# since correctness does not rely on using threads.\u001b[0m\u001b[1;33m\u001b[0m\u001b[1;33m\u001b[0m\u001b[1;33m\u001b[0m\u001b[0m\n\u001b[1;32m--> 387\u001b[1;33m             trees = Parallel(n_jobs=self.n_jobs, verbose=self.verbose,\n\u001b[0m\u001b[0;32m    388\u001b[0m                              \u001b[1;33m**\u001b[0m\u001b[0m_joblib_parallel_args\u001b[0m\u001b[1;33m(\u001b[0m\u001b[0mprefer\u001b[0m\u001b[1;33m=\u001b[0m\u001b[1;34m'threads'\u001b[0m\u001b[1;33m)\u001b[0m\u001b[1;33m)\u001b[0m\u001b[1;33m(\u001b[0m\u001b[1;33m\u001b[0m\u001b[1;33m\u001b[0m\u001b[0m\n\u001b[0;32m    389\u001b[0m                 delayed(_parallel_build_trees)(\n",
      "\u001b[1;32mc:\\users\\vitoj\\appdata\\local\\programs\\python\\python38\\lib\\site-packages\\joblib\\parallel.py\u001b[0m in \u001b[0;36m__call__\u001b[1;34m(self, iterable)\u001b[0m\n\u001b[0;32m   1042\u001b[0m                 \u001b[0mself\u001b[0m\u001b[1;33m.\u001b[0m\u001b[0m_iterating\u001b[0m \u001b[1;33m=\u001b[0m \u001b[0mself\u001b[0m\u001b[1;33m.\u001b[0m\u001b[0m_original_iterator\u001b[0m \u001b[1;32mis\u001b[0m \u001b[1;32mnot\u001b[0m \u001b[1;32mNone\u001b[0m\u001b[1;33m\u001b[0m\u001b[1;33m\u001b[0m\u001b[0m\n\u001b[0;32m   1043\u001b[0m \u001b[1;33m\u001b[0m\u001b[0m\n\u001b[1;32m-> 1044\u001b[1;33m             \u001b[1;32mwhile\u001b[0m \u001b[0mself\u001b[0m\u001b[1;33m.\u001b[0m\u001b[0mdispatch_one_batch\u001b[0m\u001b[1;33m(\u001b[0m\u001b[0miterator\u001b[0m\u001b[1;33m)\u001b[0m\u001b[1;33m:\u001b[0m\u001b[1;33m\u001b[0m\u001b[1;33m\u001b[0m\u001b[0m\n\u001b[0m\u001b[0;32m   1045\u001b[0m                 \u001b[1;32mpass\u001b[0m\u001b[1;33m\u001b[0m\u001b[1;33m\u001b[0m\u001b[0m\n\u001b[0;32m   1046\u001b[0m \u001b[1;33m\u001b[0m\u001b[0m\n",
      "\u001b[1;32mc:\\users\\vitoj\\appdata\\local\\programs\\python\\python38\\lib\\site-packages\\joblib\\parallel.py\u001b[0m in \u001b[0;36mdispatch_one_batch\u001b[1;34m(self, iterator)\u001b[0m\n\u001b[0;32m    857\u001b[0m                 \u001b[1;32mreturn\u001b[0m \u001b[1;32mFalse\u001b[0m\u001b[1;33m\u001b[0m\u001b[1;33m\u001b[0m\u001b[0m\n\u001b[0;32m    858\u001b[0m             \u001b[1;32melse\u001b[0m\u001b[1;33m:\u001b[0m\u001b[1;33m\u001b[0m\u001b[1;33m\u001b[0m\u001b[0m\n\u001b[1;32m--> 859\u001b[1;33m                 \u001b[0mself\u001b[0m\u001b[1;33m.\u001b[0m\u001b[0m_dispatch\u001b[0m\u001b[1;33m(\u001b[0m\u001b[0mtasks\u001b[0m\u001b[1;33m)\u001b[0m\u001b[1;33m\u001b[0m\u001b[1;33m\u001b[0m\u001b[0m\n\u001b[0m\u001b[0;32m    860\u001b[0m                 \u001b[1;32mreturn\u001b[0m \u001b[1;32mTrue\u001b[0m\u001b[1;33m\u001b[0m\u001b[1;33m\u001b[0m\u001b[0m\n\u001b[0;32m    861\u001b[0m \u001b[1;33m\u001b[0m\u001b[0m\n",
      "\u001b[1;32mc:\\users\\vitoj\\appdata\\local\\programs\\python\\python38\\lib\\site-packages\\joblib\\parallel.py\u001b[0m in \u001b[0;36m_dispatch\u001b[1;34m(self, batch)\u001b[0m\n\u001b[0;32m    775\u001b[0m         \u001b[1;32mwith\u001b[0m \u001b[0mself\u001b[0m\u001b[1;33m.\u001b[0m\u001b[0m_lock\u001b[0m\u001b[1;33m:\u001b[0m\u001b[1;33m\u001b[0m\u001b[1;33m\u001b[0m\u001b[0m\n\u001b[0;32m    776\u001b[0m             \u001b[0mjob_idx\u001b[0m \u001b[1;33m=\u001b[0m \u001b[0mlen\u001b[0m\u001b[1;33m(\u001b[0m\u001b[0mself\u001b[0m\u001b[1;33m.\u001b[0m\u001b[0m_jobs\u001b[0m\u001b[1;33m)\u001b[0m\u001b[1;33m\u001b[0m\u001b[1;33m\u001b[0m\u001b[0m\n\u001b[1;32m--> 777\u001b[1;33m             \u001b[0mjob\u001b[0m \u001b[1;33m=\u001b[0m \u001b[0mself\u001b[0m\u001b[1;33m.\u001b[0m\u001b[0m_backend\u001b[0m\u001b[1;33m.\u001b[0m\u001b[0mapply_async\u001b[0m\u001b[1;33m(\u001b[0m\u001b[0mbatch\u001b[0m\u001b[1;33m,\u001b[0m \u001b[0mcallback\u001b[0m\u001b[1;33m=\u001b[0m\u001b[0mcb\u001b[0m\u001b[1;33m)\u001b[0m\u001b[1;33m\u001b[0m\u001b[1;33m\u001b[0m\u001b[0m\n\u001b[0m\u001b[0;32m    778\u001b[0m             \u001b[1;31m# A job can complete so quickly than its callback is\u001b[0m\u001b[1;33m\u001b[0m\u001b[1;33m\u001b[0m\u001b[1;33m\u001b[0m\u001b[0m\n\u001b[0;32m    779\u001b[0m             \u001b[1;31m# called before we get here, causing self._jobs to\u001b[0m\u001b[1;33m\u001b[0m\u001b[1;33m\u001b[0m\u001b[1;33m\u001b[0m\u001b[0m\n",
      "\u001b[1;32mc:\\users\\vitoj\\appdata\\local\\programs\\python\\python38\\lib\\site-packages\\joblib\\_parallel_backends.py\u001b[0m in \u001b[0;36mapply_async\u001b[1;34m(self, func, callback)\u001b[0m\n\u001b[0;32m    206\u001b[0m     \u001b[1;32mdef\u001b[0m \u001b[0mapply_async\u001b[0m\u001b[1;33m(\u001b[0m\u001b[0mself\u001b[0m\u001b[1;33m,\u001b[0m \u001b[0mfunc\u001b[0m\u001b[1;33m,\u001b[0m \u001b[0mcallback\u001b[0m\u001b[1;33m=\u001b[0m\u001b[1;32mNone\u001b[0m\u001b[1;33m)\u001b[0m\u001b[1;33m:\u001b[0m\u001b[1;33m\u001b[0m\u001b[1;33m\u001b[0m\u001b[0m\n\u001b[0;32m    207\u001b[0m         \u001b[1;34m\"\"\"Schedule a func to be run\"\"\"\u001b[0m\u001b[1;33m\u001b[0m\u001b[1;33m\u001b[0m\u001b[0m\n\u001b[1;32m--> 208\u001b[1;33m         \u001b[0mresult\u001b[0m \u001b[1;33m=\u001b[0m \u001b[0mImmediateResult\u001b[0m\u001b[1;33m(\u001b[0m\u001b[0mfunc\u001b[0m\u001b[1;33m)\u001b[0m\u001b[1;33m\u001b[0m\u001b[1;33m\u001b[0m\u001b[0m\n\u001b[0m\u001b[0;32m    209\u001b[0m         \u001b[1;32mif\u001b[0m \u001b[0mcallback\u001b[0m\u001b[1;33m:\u001b[0m\u001b[1;33m\u001b[0m\u001b[1;33m\u001b[0m\u001b[0m\n\u001b[0;32m    210\u001b[0m             \u001b[0mcallback\u001b[0m\u001b[1;33m(\u001b[0m\u001b[0mresult\u001b[0m\u001b[1;33m)\u001b[0m\u001b[1;33m\u001b[0m\u001b[1;33m\u001b[0m\u001b[0m\n",
      "\u001b[1;32mc:\\users\\vitoj\\appdata\\local\\programs\\python\\python38\\lib\\site-packages\\joblib\\_parallel_backends.py\u001b[0m in \u001b[0;36m__init__\u001b[1;34m(self, batch)\u001b[0m\n\u001b[0;32m    570\u001b[0m         \u001b[1;31m# Don't delay the application, to avoid keeping the input\u001b[0m\u001b[1;33m\u001b[0m\u001b[1;33m\u001b[0m\u001b[1;33m\u001b[0m\u001b[0m\n\u001b[0;32m    571\u001b[0m         \u001b[1;31m# arguments in memory\u001b[0m\u001b[1;33m\u001b[0m\u001b[1;33m\u001b[0m\u001b[1;33m\u001b[0m\u001b[0m\n\u001b[1;32m--> 572\u001b[1;33m         \u001b[0mself\u001b[0m\u001b[1;33m.\u001b[0m\u001b[0mresults\u001b[0m \u001b[1;33m=\u001b[0m \u001b[0mbatch\u001b[0m\u001b[1;33m(\u001b[0m\u001b[1;33m)\u001b[0m\u001b[1;33m\u001b[0m\u001b[1;33m\u001b[0m\u001b[0m\n\u001b[0m\u001b[0;32m    573\u001b[0m \u001b[1;33m\u001b[0m\u001b[0m\n\u001b[0;32m    574\u001b[0m     \u001b[1;32mdef\u001b[0m \u001b[0mget\u001b[0m\u001b[1;33m(\u001b[0m\u001b[0mself\u001b[0m\u001b[1;33m)\u001b[0m\u001b[1;33m:\u001b[0m\u001b[1;33m\u001b[0m\u001b[1;33m\u001b[0m\u001b[0m\n",
      "\u001b[1;32mc:\\users\\vitoj\\appdata\\local\\programs\\python\\python38\\lib\\site-packages\\joblib\\parallel.py\u001b[0m in \u001b[0;36m__call__\u001b[1;34m(self)\u001b[0m\n\u001b[0;32m    260\u001b[0m         \u001b[1;31m# change the default number of processes to -1\u001b[0m\u001b[1;33m\u001b[0m\u001b[1;33m\u001b[0m\u001b[1;33m\u001b[0m\u001b[0m\n\u001b[0;32m    261\u001b[0m         \u001b[1;32mwith\u001b[0m \u001b[0mparallel_backend\u001b[0m\u001b[1;33m(\u001b[0m\u001b[0mself\u001b[0m\u001b[1;33m.\u001b[0m\u001b[0m_backend\u001b[0m\u001b[1;33m,\u001b[0m \u001b[0mn_jobs\u001b[0m\u001b[1;33m=\u001b[0m\u001b[0mself\u001b[0m\u001b[1;33m.\u001b[0m\u001b[0m_n_jobs\u001b[0m\u001b[1;33m)\u001b[0m\u001b[1;33m:\u001b[0m\u001b[1;33m\u001b[0m\u001b[1;33m\u001b[0m\u001b[0m\n\u001b[1;32m--> 262\u001b[1;33m             return [func(*args, **kwargs)\n\u001b[0m\u001b[0;32m    263\u001b[0m                     for func, args, kwargs in self.items]\n\u001b[0;32m    264\u001b[0m \u001b[1;33m\u001b[0m\u001b[0m\n",
      "\u001b[1;32mc:\\users\\vitoj\\appdata\\local\\programs\\python\\python38\\lib\\site-packages\\joblib\\parallel.py\u001b[0m in \u001b[0;36m<listcomp>\u001b[1;34m(.0)\u001b[0m\n\u001b[0;32m    260\u001b[0m         \u001b[1;31m# change the default number of processes to -1\u001b[0m\u001b[1;33m\u001b[0m\u001b[1;33m\u001b[0m\u001b[1;33m\u001b[0m\u001b[0m\n\u001b[0;32m    261\u001b[0m         \u001b[1;32mwith\u001b[0m \u001b[0mparallel_backend\u001b[0m\u001b[1;33m(\u001b[0m\u001b[0mself\u001b[0m\u001b[1;33m.\u001b[0m\u001b[0m_backend\u001b[0m\u001b[1;33m,\u001b[0m \u001b[0mn_jobs\u001b[0m\u001b[1;33m=\u001b[0m\u001b[0mself\u001b[0m\u001b[1;33m.\u001b[0m\u001b[0m_n_jobs\u001b[0m\u001b[1;33m)\u001b[0m\u001b[1;33m:\u001b[0m\u001b[1;33m\u001b[0m\u001b[1;33m\u001b[0m\u001b[0m\n\u001b[1;32m--> 262\u001b[1;33m             return [func(*args, **kwargs)\n\u001b[0m\u001b[0;32m    263\u001b[0m                     for func, args, kwargs in self.items]\n\u001b[0;32m    264\u001b[0m \u001b[1;33m\u001b[0m\u001b[0m\n",
      "\u001b[1;32mc:\\users\\vitoj\\appdata\\local\\programs\\python\\python38\\lib\\site-packages\\sklearn\\utils\\fixes.py\u001b[0m in \u001b[0;36m__call__\u001b[1;34m(self, *args, **kwargs)\u001b[0m\n\u001b[0;32m    220\u001b[0m     \u001b[1;32mdef\u001b[0m \u001b[0m__call__\u001b[0m\u001b[1;33m(\u001b[0m\u001b[0mself\u001b[0m\u001b[1;33m,\u001b[0m \u001b[1;33m*\u001b[0m\u001b[0margs\u001b[0m\u001b[1;33m,\u001b[0m \u001b[1;33m**\u001b[0m\u001b[0mkwargs\u001b[0m\u001b[1;33m)\u001b[0m\u001b[1;33m:\u001b[0m\u001b[1;33m\u001b[0m\u001b[1;33m\u001b[0m\u001b[0m\n\u001b[0;32m    221\u001b[0m         \u001b[1;32mwith\u001b[0m \u001b[0mconfig_context\u001b[0m\u001b[1;33m(\u001b[0m\u001b[1;33m**\u001b[0m\u001b[0mself\u001b[0m\u001b[1;33m.\u001b[0m\u001b[0mconfig\u001b[0m\u001b[1;33m)\u001b[0m\u001b[1;33m:\u001b[0m\u001b[1;33m\u001b[0m\u001b[1;33m\u001b[0m\u001b[0m\n\u001b[1;32m--> 222\u001b[1;33m             \u001b[1;32mreturn\u001b[0m \u001b[0mself\u001b[0m\u001b[1;33m.\u001b[0m\u001b[0mfunction\u001b[0m\u001b[1;33m(\u001b[0m\u001b[1;33m*\u001b[0m\u001b[0margs\u001b[0m\u001b[1;33m,\u001b[0m \u001b[1;33m**\u001b[0m\u001b[0mkwargs\u001b[0m\u001b[1;33m)\u001b[0m\u001b[1;33m\u001b[0m\u001b[1;33m\u001b[0m\u001b[0m\n\u001b[0m",
      "\u001b[1;32mc:\\users\\vitoj\\appdata\\local\\programs\\python\\python38\\lib\\site-packages\\sklearn\\ensemble\\_forest.py\u001b[0m in \u001b[0;36m_parallel_build_trees\u001b[1;34m(tree, forest, X, y, sample_weight, tree_idx, n_trees, verbose, class_weight, n_samples_bootstrap)\u001b[0m\n\u001b[0;32m    167\u001b[0m                                                         indices=indices)\n\u001b[0;32m    168\u001b[0m \u001b[1;33m\u001b[0m\u001b[0m\n\u001b[1;32m--> 169\u001b[1;33m         \u001b[0mtree\u001b[0m\u001b[1;33m.\u001b[0m\u001b[0mfit\u001b[0m\u001b[1;33m(\u001b[0m\u001b[0mX\u001b[0m\u001b[1;33m,\u001b[0m \u001b[0my\u001b[0m\u001b[1;33m,\u001b[0m \u001b[0msample_weight\u001b[0m\u001b[1;33m=\u001b[0m\u001b[0mcurr_sample_weight\u001b[0m\u001b[1;33m,\u001b[0m \u001b[0mcheck_input\u001b[0m\u001b[1;33m=\u001b[0m\u001b[1;32mFalse\u001b[0m\u001b[1;33m)\u001b[0m\u001b[1;33m\u001b[0m\u001b[1;33m\u001b[0m\u001b[0m\n\u001b[0m\u001b[0;32m    170\u001b[0m     \u001b[1;32melse\u001b[0m\u001b[1;33m:\u001b[0m\u001b[1;33m\u001b[0m\u001b[1;33m\u001b[0m\u001b[0m\n\u001b[0;32m    171\u001b[0m         \u001b[0mtree\u001b[0m\u001b[1;33m.\u001b[0m\u001b[0mfit\u001b[0m\u001b[1;33m(\u001b[0m\u001b[0mX\u001b[0m\u001b[1;33m,\u001b[0m \u001b[0my\u001b[0m\u001b[1;33m,\u001b[0m \u001b[0msample_weight\u001b[0m\u001b[1;33m=\u001b[0m\u001b[0msample_weight\u001b[0m\u001b[1;33m,\u001b[0m \u001b[0mcheck_input\u001b[0m\u001b[1;33m=\u001b[0m\u001b[1;32mFalse\u001b[0m\u001b[1;33m)\u001b[0m\u001b[1;33m\u001b[0m\u001b[1;33m\u001b[0m\u001b[0m\n",
      "\u001b[1;32mc:\\users\\vitoj\\appdata\\local\\programs\\python\\python38\\lib\\site-packages\\sklearn\\tree\\_classes.py\u001b[0m in \u001b[0;36mfit\u001b[1;34m(self, X, y, sample_weight, check_input, X_idx_sorted)\u001b[0m\n\u001b[0;32m    896\u001b[0m         \"\"\"\n\u001b[0;32m    897\u001b[0m \u001b[1;33m\u001b[0m\u001b[0m\n\u001b[1;32m--> 898\u001b[1;33m         super().fit(\n\u001b[0m\u001b[0;32m    899\u001b[0m             \u001b[0mX\u001b[0m\u001b[1;33m,\u001b[0m \u001b[0my\u001b[0m\u001b[1;33m,\u001b[0m\u001b[1;33m\u001b[0m\u001b[1;33m\u001b[0m\u001b[0m\n\u001b[0;32m    900\u001b[0m             \u001b[0msample_weight\u001b[0m\u001b[1;33m=\u001b[0m\u001b[0msample_weight\u001b[0m\u001b[1;33m,\u001b[0m\u001b[1;33m\u001b[0m\u001b[1;33m\u001b[0m\u001b[0m\n",
      "\u001b[1;32mc:\\users\\vitoj\\appdata\\local\\programs\\python\\python38\\lib\\site-packages\\sklearn\\tree\\_classes.py\u001b[0m in \u001b[0;36mfit\u001b[1;34m(self, X, y, sample_weight, check_input, X_idx_sorted)\u001b[0m\n\u001b[0;32m    387\u001b[0m                                            min_impurity_split)\n\u001b[0;32m    388\u001b[0m \u001b[1;33m\u001b[0m\u001b[0m\n\u001b[1;32m--> 389\u001b[1;33m         \u001b[0mbuilder\u001b[0m\u001b[1;33m.\u001b[0m\u001b[0mbuild\u001b[0m\u001b[1;33m(\u001b[0m\u001b[0mself\u001b[0m\u001b[1;33m.\u001b[0m\u001b[0mtree_\u001b[0m\u001b[1;33m,\u001b[0m \u001b[0mX\u001b[0m\u001b[1;33m,\u001b[0m \u001b[0my\u001b[0m\u001b[1;33m,\u001b[0m \u001b[0msample_weight\u001b[0m\u001b[1;33m)\u001b[0m\u001b[1;33m\u001b[0m\u001b[1;33m\u001b[0m\u001b[0m\n\u001b[0m\u001b[0;32m    390\u001b[0m \u001b[1;33m\u001b[0m\u001b[0m\n\u001b[0;32m    391\u001b[0m         \u001b[1;32mif\u001b[0m \u001b[0mself\u001b[0m\u001b[1;33m.\u001b[0m\u001b[0mn_outputs_\u001b[0m \u001b[1;33m==\u001b[0m \u001b[1;36m1\u001b[0m \u001b[1;32mand\u001b[0m \u001b[0mis_classifier\u001b[0m\u001b[1;33m(\u001b[0m\u001b[0mself\u001b[0m\u001b[1;33m)\u001b[0m\u001b[1;33m:\u001b[0m\u001b[1;33m\u001b[0m\u001b[1;33m\u001b[0m\u001b[0m\n",
      "\u001b[1;32msklearn\\tree\\_tree.pyx\u001b[0m in \u001b[0;36msklearn.tree._tree.DepthFirstTreeBuilder.build\u001b[1;34m()\u001b[0m\n",
      "\u001b[1;32msklearn\\tree\\_tree.pyx\u001b[0m in \u001b[0;36msklearn.tree._tree.DepthFirstTreeBuilder.build\u001b[1;34m()\u001b[0m\n",
      "\u001b[1;32msklearn\\tree\\_tree.pyx\u001b[0m in \u001b[0;36msklearn.tree._tree.Tree._add_node\u001b[1;34m()\u001b[0m\n",
      "\u001b[1;32msklearn\\tree\\_tree.pyx\u001b[0m in \u001b[0;36msklearn.tree._tree.Tree._resize_c\u001b[1;34m()\u001b[0m\n",
      "\u001b[1;32msklearn\\tree\\_utils.pyx\u001b[0m in \u001b[0;36msklearn.tree._utils.safe_realloc\u001b[1;34m()\u001b[0m\n",
      "\u001b[1;31mMemoryError\u001b[0m: could not allocate 69992448 bytes"
     ]
    }
   ],
   "source": [
    "clf = RandomForestClassifier(random_state=0, n_estimators=100)\n",
    "clf.fit(x_train, y_train)"
   ]
  },
  {
   "cell_type": "code",
   "execution_count": null,
   "id": "2da94d13-065e-4923-a5d4-edf939c1bfaf",
   "metadata": {},
   "outputs": [],
   "source": [
    "predictions = clf.predict(x_test)"
   ]
  },
  {
   "cell_type": "code",
   "execution_count": null,
   "id": "2e20f0be-1184-42fe-9707-734c42cf300a",
   "metadata": {},
   "outputs": [],
   "source": [
    "accuracy_score(predictions, y_test)"
   ]
  },
  {
   "cell_type": "code",
   "execution_count": null,
   "id": "9d22ec60-14e8-46f7-88ec-12ecea0dd35b",
   "metadata": {},
   "outputs": [],
   "source": [
    "predictions_prob = clf.predict_proba(x_test)"
   ]
  },
  {
   "cell_type": "code",
   "execution_count": null,
   "id": "51521232-26f5-4f2b-9ea5-acabf6cf78b6",
   "metadata": {},
   "outputs": [],
   "source": [
    "def check_predictions(predictions, x_test):\n",
    "    suma = 0\n",
    "    for i,p in enumerate(predictions):\n",
    "        column_name = \"pack_card_\"+p\n",
    "        suma += x_test.iloc[i][column_name]\n",
    "    print(suma/len(predictions))\n",
    "    #print(p)"
   ]
  },
  {
   "cell_type": "code",
   "execution_count": null,
   "id": "690d1026-7454-4d1f-bfd4-6f826355622e",
   "metadata": {},
   "outputs": [],
   "source": [
    "check_predictions(predictions, x_test)"
   ]
  },
  {
   "cell_type": "markdown",
   "id": "c3e2d662-ac3a-46fe-9930-6ffb18b5d11b",
   "metadata": {},
   "source": [
    "#### Change predictions"
   ]
  },
  {
   "cell_type": "code",
   "execution_count": 89,
   "id": "d6cd2e74-95f0-4829-bf01-9ee1a6ecd88c",
   "metadata": {},
   "outputs": [],
   "source": [
    "def parse_pack(row):\n",
    "    pack = [c for c in row.index if \"pack_card_\" in c]\n",
    "    #print(pack)\n",
    "    names = []\n",
    "    for i,p in enumerate(pack): \n",
    "        if row[p] == 1:\n",
    "            names.append((i,p.split(\"_\")[2]))\n",
    "    return names"
   ]
  },
  {
   "cell_type": "code",
   "execution_count": 140,
   "id": "07e41cdd-c558-4a3d-a3e8-9dc1f0efa609",
   "metadata": {},
   "outputs": [],
   "source": [
    "probs = []\n",
    "predictions_adjusted = []\n",
    "for index in range(len(x_test)):\n",
    "    pack = parse_pack(x_test.iloc[index])\n",
    "    values = [list(clf.classes_).index(card) for i, card in pack]\n",
    "    normalized = predictions_prob[index][values] / predictions_prob[index][values].sum()\n",
    "    pick_index = normalized.argmax()\n",
    "    pick_card = list(clf.classes_)[values[pick_index]]\n",
    "    normalized = (normalized*100).astype(int).astype(float)/100 \n",
    "    predictions_adjusted.append(pick_card)"
   ]
  },
  {
   "cell_type": "code",
   "execution_count": 142,
   "id": "05ad56cd-bfc3-49e3-ae97-71eddae1ee4b",
   "metadata": {},
   "outputs": [
    {
     "name": "stdout",
     "output_type": "stream",
     "text": [
      "1.0\n"
     ]
    }
   ],
   "source": [
    "check_predictions(predictions_adjusted, x_test)"
   ]
  },
  {
   "cell_type": "code",
   "execution_count": 143,
   "id": "d3519625-7b82-4cf5-b17d-d69fdf80413a",
   "metadata": {},
   "outputs": [
    {
     "data": {
      "text/plain": [
       "0.422680412371134"
      ]
     },
     "execution_count": 143,
     "metadata": {},
     "output_type": "execute_result"
    }
   ],
   "source": [
    "accuracy_score(predictions_adjusted, y_test)"
   ]
  },
  {
   "cell_type": "markdown",
   "id": "a92261d1-384c-4ae5-bc5a-085288063ddc",
   "metadata": {},
   "source": [
    "#### Show examples"
   ]
  },
  {
   "cell_type": "code",
   "execution_count": 147,
   "id": "ae3e9686-eea7-4efa-b6cd-c0f5206b7802",
   "metadata": {},
   "outputs": [],
   "source": [
    "def shown_pack_predictions(pack_data, probabilities, index, expected, predicted):\n",
    "    pack = parse_pack(pack_data.iloc[index])\n",
    "    print(pack_data.iloc[index].pack_number)\n",
    "    print(expected.iloc[index] +\"   //   \"+ predicted[index])\n",
    "    for i,card in pack:\n",
    "        i = list(clf.classes_).index(card)\n",
    "        print(card+\" \"+str(probabilities[index][i]))"
   ]
  },
  {
   "cell_type": "code",
   "execution_count": 152,
   "id": "86399198-e18b-481b-a733-ca13785de7a7",
   "metadata": {},
   "outputs": [
    {
     "data": {
      "text/plain": [
       "5141"
      ]
     },
     "execution_count": 152,
     "metadata": {},
     "output_type": "execute_result"
    }
   ],
   "source": [
    "len(x_test)"
   ]
  },
  {
   "cell_type": "code",
   "execution_count": 176,
   "id": "2bb86870-6df9-4f81-9118-5dd5d46872d2",
   "metadata": {},
   "outputs": [
    {
     "name": "stdout",
     "output_type": "stream",
     "text": [
      "1\n",
      "Cathar Commando   //   Cathar Commando\n",
      "Brimstone Vandal 0.03\n",
      "Cathar Commando 0.15\n",
      "Harvesttide Sentry 0.06\n",
      "No Way Out 0.15\n",
      "Storm Skreelix 0.02\n",
      "Tavern Ruffian 0.04\n"
     ]
    }
   ],
   "source": [
    "shown_pack_predictions(x_test,predictions_prob,4036, y_test, predictions)"
   ]
  },
  {
   "cell_type": "code",
   "execution_count": null,
   "id": "3a25f017-1d4a-4a57-a895-19882b7a3df1",
   "metadata": {},
   "outputs": [],
   "source": []
  },
  {
   "cell_type": "code",
   "execution_count": 149,
   "id": "8273a752-33ed-400e-a0ef-f634eeb546d9",
   "metadata": {},
   "outputs": [
    {
     "data": {
      "text/plain": [
       "[(139, 'Larder Zombie')]"
      ]
     },
     "execution_count": 149,
     "metadata": {},
     "output_type": "execute_result"
    }
   ],
   "source": [
    "display_pack(x_test.iloc[0])"
   ]
  },
  {
   "cell_type": "code",
   "execution_count": 123,
   "id": "26d28124-a452-4ca3-ae45-9ccf491bf1f0",
   "metadata": {},
   "outputs": [
    {
     "data": {
      "text/plain": [
       "array([[0.  , 0.  , 0.  , 0.  , 0.  , 0.  , 0.  , 0.  , 0.  , 0.  , 0.  ,\n",
       "        0.  , 0.  , 0.  , 0.  , 0.  , 0.  , 0.  , 0.04, 0.  , 0.  , 0.  ,\n",
       "        0.  , 0.  , 0.01, 0.  , 0.  , 0.  , 0.  , 0.  , 0.  , 0.  , 0.  ,\n",
       "        0.  , 0.  , 0.  , 0.  , 0.  , 0.  , 0.  , 0.  , 0.  , 0.  , 0.  ,\n",
       "        0.02, 0.  , 0.  , 0.  , 0.  , 0.  , 0.  , 0.  , 0.  , 0.  , 0.  ,\n",
       "        0.  , 0.  , 0.  , 0.  , 0.  , 0.  , 0.01, 0.  , 0.  , 0.  , 0.  ,\n",
       "        0.  , 0.  , 0.  , 0.  , 0.  , 0.  , 0.  , 0.  , 0.  , 0.  , 0.  ,\n",
       "        0.  , 0.  , 0.01, 0.  , 0.  , 0.  , 0.  , 0.  , 0.  , 0.01, 0.  ,\n",
       "        0.  , 0.  , 0.  , 0.  , 0.  , 0.  , 0.  , 0.  , 0.  , 0.01, 0.  ,\n",
       "        0.01, 0.  , 0.  , 0.  , 0.  , 0.  , 0.  , 0.  , 0.  , 0.  , 0.  ,\n",
       "        0.  , 0.  , 0.  , 0.  , 0.  , 0.  , 0.  , 0.  , 0.  , 0.  , 0.  ,\n",
       "        0.  , 0.03, 0.  , 0.  , 0.  , 0.  , 0.  , 0.  , 0.  , 0.  , 0.  ,\n",
       "        0.  , 0.01, 0.  , 0.  , 0.  , 0.53, 0.  , 0.  , 0.  , 0.  , 0.  ,\n",
       "        0.  , 0.  , 0.  , 0.  , 0.  , 0.  , 0.  , 0.  , 0.  , 0.  , 0.  ,\n",
       "        0.  , 0.  , 0.  , 0.  , 0.01, 0.  , 0.  , 0.  , 0.  , 0.  , 0.  ,\n",
       "        0.  , 0.  , 0.  , 0.  , 0.  , 0.01, 0.01, 0.  , 0.  , 0.  , 0.01,\n",
       "        0.  , 0.  , 0.  , 0.  , 0.  , 0.  , 0.  , 0.  , 0.  , 0.  , 0.  ,\n",
       "        0.  , 0.  , 0.  , 0.01, 0.  , 0.  , 0.  , 0.  , 0.  , 0.  , 0.01,\n",
       "        0.  , 0.01, 0.  , 0.08, 0.  , 0.  , 0.01, 0.01, 0.  , 0.01, 0.01,\n",
       "        0.  , 0.  , 0.  , 0.01, 0.  , 0.  , 0.  , 0.  , 0.  , 0.  , 0.  ,\n",
       "        0.  , 0.  , 0.  , 0.  , 0.01, 0.  , 0.  , 0.  , 0.02, 0.  , 0.01,\n",
       "        0.  , 0.  , 0.  , 0.  , 0.  , 0.  , 0.01, 0.  , 0.  , 0.  , 0.01,\n",
       "        0.  , 0.01, 0.  , 0.  , 0.  , 0.  , 0.  , 0.  , 0.03, 0.  , 0.  ,\n",
       "        0.  , 0.  , 0.  , 0.  , 0.  , 0.  , 0.  , 0.  , 0.  , 0.  , 0.  ,\n",
       "        0.  , 0.01, 0.  ],\n",
       "       [0.  , 0.02, 0.  , 0.  , 0.  , 0.  , 0.  , 0.  , 0.  , 0.02, 0.01,\n",
       "        0.01, 0.01, 0.  , 0.01, 0.01, 0.  , 0.  , 0.  , 0.  , 0.01, 0.  ,\n",
       "        0.  , 0.01, 0.  , 0.  , 0.  , 0.  , 0.  , 0.  , 0.  , 0.01, 0.  ,\n",
       "        0.01, 0.  , 0.  , 0.  , 0.  , 0.  , 0.01, 0.  , 0.  , 0.  , 0.01,\n",
       "        0.  , 0.  , 0.  , 0.  , 0.  , 0.  , 0.  , 0.01, 0.  , 0.  , 0.  ,\n",
       "        0.  , 0.  , 0.  , 0.  , 0.  , 0.  , 0.  , 0.  , 0.  , 0.  , 0.  ,\n",
       "        0.01, 0.  , 0.01, 0.  , 0.02, 0.  , 0.  , 0.01, 0.  , 0.01, 0.  ,\n",
       "        0.  , 0.  , 0.01, 0.1 , 0.  , 0.  , 0.  , 0.  , 0.  , 0.  , 0.  ,\n",
       "        0.  , 0.  , 0.  , 0.  , 0.  , 0.  , 0.  , 0.  , 0.  , 0.  , 0.  ,\n",
       "        0.  , 0.  , 0.  , 0.01, 0.  , 0.  , 0.02, 0.  , 0.01, 0.  , 0.  ,\n",
       "        0.  , 0.  , 0.  , 0.  , 0.  , 0.  , 0.01, 0.  , 0.  , 0.01, 0.  ,\n",
       "        0.02, 0.  , 0.  , 0.  , 0.01, 0.  , 0.  , 0.  , 0.  , 0.  , 0.  ,\n",
       "        0.  , 0.  , 0.  , 0.  , 0.  , 0.01, 0.  , 0.02, 0.  , 0.  , 0.01,\n",
       "        0.  , 0.  , 0.03, 0.  , 0.01, 0.  , 0.  , 0.  , 0.  , 0.  , 0.  ,\n",
       "        0.01, 0.01, 0.  , 0.01, 0.01, 0.  , 0.  , 0.  , 0.  , 0.  , 0.  ,\n",
       "        0.  , 0.  , 0.  , 0.22, 0.  , 0.  , 0.  , 0.  , 0.  , 0.  , 0.  ,\n",
       "        0.  , 0.  , 0.  , 0.  , 0.  , 0.  , 0.  , 0.  , 0.  , 0.  , 0.  ,\n",
       "        0.  , 0.  , 0.  , 0.01, 0.  , 0.  , 0.  , 0.  , 0.  , 0.  , 0.  ,\n",
       "        0.01, 0.  , 0.  , 0.02, 0.01, 0.  , 0.  , 0.  , 0.  , 0.01, 0.  ,\n",
       "        0.  , 0.  , 0.  , 0.02, 0.  , 0.  , 0.  , 0.  , 0.06, 0.  , 0.  ,\n",
       "        0.01, 0.  , 0.02, 0.  , 0.  , 0.  , 0.02, 0.  , 0.01, 0.  , 0.  ,\n",
       "        0.  , 0.  , 0.  , 0.  , 0.  , 0.  , 0.  , 0.  , 0.  , 0.  , 0.  ,\n",
       "        0.  , 0.  , 0.01, 0.  , 0.  , 0.  , 0.  , 0.  , 0.01, 0.  , 0.  ,\n",
       "        0.01, 0.  , 0.01, 0.  , 0.  , 0.  , 0.  , 0.  , 0.  , 0.  , 0.  ,\n",
       "        0.  , 0.  , 0.  ]])"
      ]
     },
     "execution_count": 123,
     "metadata": {},
     "output_type": "execute_result"
    }
   ],
   "source": [
    "clf.predict_proba(x_test.iloc[0:2])"
   ]
  },
  {
   "cell_type": "code",
   "execution_count": 120,
   "id": "fe4aba06-f1eb-4651-ba34-b5c54a7f7bab",
   "metadata": {},
   "outputs": [
    {
     "data": {
      "text/plain": [
       "['Blessed Defiance',\n",
       " 'Candlegrove Witch',\n",
       " 'Consider',\n",
       " 'Drownyard Amalgam',\n",
       " 'Ecstatic Awakener',\n",
       " 'Fading Hope',\n",
       " 'Hound Tamer',\n",
       " 'Immolation',\n",
       " 'Lambholt Harrier',\n",
       " \"Olivia's Midnight Ambush\",\n",
       " 'Otherworldly Gaze',\n",
       " \"Sigarda's Splendor\",\n",
       " 'Snarling Wolf']"
      ]
     },
     "execution_count": 120,
     "metadata": {},
     "output_type": "execute_result"
    }
   ],
   "source": [
    "display_pack(x_test.iloc[2])"
   ]
  },
  {
   "cell_type": "code",
   "execution_count": 90,
   "id": "746de8a2-e6a1-447a-8885-d9fb7abe33a7",
   "metadata": {},
   "outputs": [
    {
     "data": {
      "text/plain": [
       "47117    Tovolar, Dire Overlord\n",
       "47118          Eccentric Farmer\n",
       "47119            Skaab Wrangler\n",
       "47120            Cathartic Pyre\n",
       "47121         Burn the Accursed\n",
       "                  ...          \n",
       "99995          Thraben Exorcism\n",
       "99996            Smoldering Egg\n",
       "99997                Immolation\n",
       "99998               Galedrifter\n",
       "99999                   Startle\n",
       "Name: pick, Length: 12851, dtype: object"
      ]
     },
     "execution_count": 90,
     "metadata": {},
     "output_type": "execute_result"
    }
   ],
   "source": [
    "y_test"
   ]
  },
  {
   "cell_type": "code",
   "execution_count": 76,
   "id": "f2936a6c-9432-4c3f-94fa-fd7a453d6449",
   "metadata": {},
   "outputs": [
    {
     "data": {
      "text/plain": [
       "25701"
      ]
     },
     "execution_count": 76,
     "metadata": {},
     "output_type": "execute_result"
    }
   ],
   "source": [
    "len(relevant_drafts)"
   ]
  },
  {
   "cell_type": "code",
   "execution_count": 73,
   "id": "c6cc3bf1-9df0-4b55-85ca-592a19f1d542",
   "metadata": {},
   "outputs": [
    {
     "data": {
      "text/plain": [
       "2579"
      ]
     },
     "execution_count": 73,
     "metadata": {},
     "output_type": "execute_result"
    }
   ],
   "source": [
    "len(df.draft_id.unique())"
   ]
  },
  {
   "cell_type": "code",
   "execution_count": 72,
   "id": "87e12527-4577-458e-a547-63fd034d9e2a",
   "metadata": {},
   "outputs": [
    {
     "data": {
      "text/plain": [
       "668"
      ]
     },
     "execution_count": 72,
     "metadata": {},
     "output_type": "execute_result"
    }
   ],
   "source": [
    "len(relevant_draft)"
   ]
  },
  {
   "cell_type": "code",
   "execution_count": 68,
   "id": "94573a94-c506-4fcb-8cde-a3e0d62a17df",
   "metadata": {},
   "outputs": [
    {
     "data": {
      "text/plain": [
       "2579"
      ]
     },
     "execution_count": 68,
     "metadata": {},
     "output_type": "execute_result"
    }
   ],
   "source": [
    "len)"
   ]
  },
  {
   "cell_type": "code",
   "execution_count": 64,
   "id": "d9731740-b88d-49b2-94e6-48b3c1971396",
   "metadata": {},
   "outputs": [
    {
     "data": {
      "text/plain": [
       "1           Dawnhart Mentor G 3\n",
       "2             Borrowed Time W 3\n",
       "3                Candletrap W 1\n",
       "4      Search Party Captain W 4\n",
       "5      Shadowbeast Sighting G 4\n",
       "6              Bird Admirer G 3\n",
       "7          Join the Dance G,W 2\n",
       "8       Celestus Sanctifier W 3\n",
       "9        Sunrise Cavalier R,W 3\n",
       "10          Tireless Hauler G 5\n",
       "11     Path to the Festival G 3\n",
       "12          Tireless Hauler G 5\n",
       "13          Stolen Vitality R 2\n",
       "14        Hedgewitch's Mask W 1\n",
       "15        Outland Liberator G 2\n",
       "16         Join the Dance G,W 2\n",
       "17          Ritual Guardian W 3\n",
       "18            Bramble Armor G 2\n",
       "19       Duel for Dominance G 2\n",
       "20    Might of the Old Ways G 2\n",
       "21     Dawnhart Rejuvenator G 4\n",
       "22          Tireless Hauler G 5\n",
       "23          Lunarch Veteran W 1\n",
       "24         Return to Nature G 2\n",
       "25           Firmament Sage U 4\n",
       "26        Moonrager's Slash R 3\n",
       "27         Thraben Exorcism W 2\n",
       "28         Thraben Exorcism W 2\n",
       "29              Loyal Gryff W 3\n",
       "30               Clear Shot G 3\n",
       "31          Cathar Commando W 2\n",
       "32               Unruly Mob W 2\n",
       "33            Borrowed Time W 3\n",
       "34       Harvesttide Sentry G 2\n",
       "35          Sungold Barrage W 3\n",
       "36           Mystic Skull nan 2\n",
       "37          Ritual Guardian W 3\n",
       "38          Cathar Commando W 2\n",
       "39     Path to the Festival G 3\n",
       "40           Necrosynthesis B 2\n",
       "41        Drownyard Amalgam U 5\n",
       "42         Abandon the Post R 2\n",
       "Name: pick, dtype: object"
      ]
     },
     "execution_count": 64,
     "metadata": {},
     "output_type": "execute_result"
    }
   ],
   "source": [
    "one_draft.pick.apply(lambda x: x+\" \"+find_color(x)+\" \"+find_casting_cost(x))"
   ]
  },
  {
   "cell_type": "code",
   "execution_count": 161,
   "id": "80d070f2-e7d6-4a3e-86fa-72dc4c49eb88",
   "metadata": {},
   "outputs": [
    {
     "data": {
      "text/plain": [
       "['user_match_win_rate_bucket',\n",
       " 'user_n_matches_bucket',\n",
       " 'draft_id',\n",
       " 'draft_time',\n",
       " 'expansion',\n",
       " 'event_type',\n",
       " 'user_rank',\n",
       " 'event_match_wins',\n",
       " 'event_match_losses',\n",
       " 'pack_number',\n",
       " 'pick_number',\n",
       " 'pick',\n",
       " 'pick_maindeck_rate',\n",
       " 'pick_sideboard_in_rate',\n",
       " 'pack_card_Abandon the Post',\n",
       " 'pack_card_Adeline, Resplendent Cathar',\n",
       " 'pack_card_Ambitious Farmhand',\n",
       " 'pack_card_Angelfire Ignition',\n",
       " 'pack_card_Arcane Infusion',\n",
       " 'pack_card_Ardent Elementalist',\n",
       " \"pack_card_Arlinn, the Pack's Hope\",\n",
       " 'pack_card_Arrogant Outlaw',\n",
       " 'pack_card_Augur of Autumn',\n",
       " 'pack_card_Baithook Angler',\n",
       " 'pack_card_Baneblade Scoundrel',\n",
       " 'pack_card_Bat Whisperer',\n",
       " 'pack_card_Beloved Beggar',\n",
       " 'pack_card_Bereaved Survivor',\n",
       " 'pack_card_Bird Admirer',\n",
       " 'pack_card_Bladebrand',\n",
       " 'pack_card_Bladestitched Skaab',\n",
       " 'pack_card_Blessed Defiance',\n",
       " 'pack_card_Blood Pact',\n",
       " 'pack_card_Bloodline Culling',\n",
       " 'pack_card_Bloodthirsty Adversary',\n",
       " 'pack_card_Bloodtithe Collector',\n",
       " 'pack_card_Borrowed Time',\n",
       " 'pack_card_Bounding Wolf',\n",
       " 'pack_card_Bramble Armor',\n",
       " 'pack_card_Briarbridge Tracker',\n",
       " 'pack_card_Brimstone Vandal',\n",
       " 'pack_card_Brood Weaver',\n",
       " 'pack_card_Brutal Cathar',\n",
       " 'pack_card_Burly Breaker',\n",
       " 'pack_card_Burn Down the House',\n",
       " 'pack_card_Burn the Accursed',\n",
       " \"pack_card_Can't Stay Away\",\n",
       " 'pack_card_Candlegrove Witch',\n",
       " 'pack_card_Candlelit Cavalry',\n",
       " 'pack_card_Candletrap',\n",
       " 'pack_card_Cathar Commando',\n",
       " \"pack_card_Cathar's Call\",\n",
       " 'pack_card_Cathartic Pyre',\n",
       " 'pack_card_Celestus Sanctifier',\n",
       " 'pack_card_Champion of the Perished',\n",
       " 'pack_card_Chaplain of Alms',\n",
       " 'pack_card_Clarion Cathars',\n",
       " 'pack_card_Clear Shot',\n",
       " 'pack_card_Component Collector',\n",
       " 'pack_card_Consider',\n",
       " 'pack_card_Consuming Blob',\n",
       " 'pack_card_Contortionist Troupe',\n",
       " 'pack_card_Corpse Cobble',\n",
       " 'pack_card_Covert Cutpurse',\n",
       " 'pack_card_Covetous Castaway',\n",
       " 'pack_card_Crawl from the Cellar',\n",
       " 'pack_card_Croaking Counterpart',\n",
       " 'pack_card_Crossroads Candleguide',\n",
       " 'pack_card_Curse of Leeches',\n",
       " 'pack_card_Curse of Shaken Faith',\n",
       " 'pack_card_Curse of Silence',\n",
       " 'pack_card_Curse of Surveillance',\n",
       " 'pack_card_Dawnhart Mentor',\n",
       " 'pack_card_Dawnhart Rejuvenator',\n",
       " 'pack_card_Dawnhart Wardens',\n",
       " 'pack_card_Deathbonnet Sprout',\n",
       " 'pack_card_Defend the Celestus',\n",
       " 'pack_card_Defenestrate',\n",
       " 'pack_card_Delver of Secrets',\n",
       " 'pack_card_Dennick, Pious Apprentice',\n",
       " 'pack_card_Deserted Beach',\n",
       " 'pack_card_Devious Cover-Up',\n",
       " 'pack_card_Devoted Grafkeeper',\n",
       " 'pack_card_Dire-Strain Rampage',\n",
       " 'pack_card_Diregraf Horde',\n",
       " 'pack_card_Diregraf Rebirth',\n",
       " 'pack_card_Dissipate',\n",
       " 'pack_card_Dreadhound',\n",
       " 'pack_card_Drownyard Amalgam',\n",
       " \"pack_card_Dryad's Revival\",\n",
       " 'pack_card_Duel for Dominance',\n",
       " 'pack_card_Duelcraft Trainer',\n",
       " 'pack_card_Duress',\n",
       " 'pack_card_Eaten Alive',\n",
       " 'pack_card_Eccentric Farmer',\n",
       " 'pack_card_Ecstatic Awakener',\n",
       " 'pack_card_Electric Revelation',\n",
       " 'pack_card_Enduring Angel',\n",
       " 'pack_card_Evolving Wilds',\n",
       " 'pack_card_Fading Hope',\n",
       " 'pack_card_Faithful Mending',\n",
       " 'pack_card_Falcon Abomination',\n",
       " 'pack_card_Falkenrath Perforator',\n",
       " 'pack_card_Falkenrath Pit Fighter',\n",
       " 'pack_card_Famished Foragers',\n",
       " 'pack_card_Fangblade Brigand',\n",
       " 'pack_card_Fateful Absence',\n",
       " 'pack_card_Festival Crasher',\n",
       " 'pack_card_Field of Ruin',\n",
       " 'pack_card_Firmament Sage',\n",
       " 'pack_card_Flame Channeler',\n",
       " 'pack_card_Flare of Faith',\n",
       " 'pack_card_Fleshtaker',\n",
       " 'pack_card_Flip the Switch',\n",
       " 'pack_card_Florian, Voldaren Scion',\n",
       " 'pack_card_Forest',\n",
       " 'pack_card_Foul Play',\n",
       " 'pack_card_Galedrifter',\n",
       " 'pack_card_Galvanic Iteration',\n",
       " 'pack_card_Gavony Dawnguard',\n",
       " 'pack_card_Gavony Silversmith',\n",
       " 'pack_card_Gavony Trapper',\n",
       " 'pack_card_Geistflame Reservoir',\n",
       " 'pack_card_Geistwave',\n",
       " \"pack_card_Ghoulcaller's Harvest\",\n",
       " 'pack_card_Ghoulish Procession',\n",
       " 'pack_card_Gisa, Glorious Resurrector',\n",
       " 'pack_card_Grafted Identity',\n",
       " 'pack_card_Graveyard Trespasser',\n",
       " 'pack_card_Grizzly Ghoul',\n",
       " 'pack_card_Hallowed Respite',\n",
       " 'pack_card_Harvesttide Infiltrator',\n",
       " 'pack_card_Harvesttide Sentry',\n",
       " 'pack_card_Haunted Ridge',\n",
       " \"pack_card_Hedgewitch's Mask\",\n",
       " 'pack_card_Heirloom Mirror',\n",
       " 'pack_card_Hobbling Zombie',\n",
       " 'pack_card_Homestead Courage',\n",
       " 'pack_card_Hostile Hostel',\n",
       " 'pack_card_Hound Tamer',\n",
       " 'pack_card_Howl of the Hunt',\n",
       " 'pack_card_Hungry for More',\n",
       " 'pack_card_Immolation',\n",
       " 'pack_card_Infernal Grasp',\n",
       " 'pack_card_Intrepid Adversary',\n",
       " 'pack_card_Island',\n",
       " \"pack_card_Jack-o'-Lantern\",\n",
       " 'pack_card_Jadar, Ghoulcaller of Nephalia',\n",
       " 'pack_card_Jerren, Corrupted Bishop',\n",
       " 'pack_card_Join the Dance',\n",
       " 'pack_card_Katilda, Dawnhart Prime',\n",
       " 'pack_card_Kessig Naturalist',\n",
       " 'pack_card_Lambholt Harrier',\n",
       " 'pack_card_Larder Zombie',\n",
       " 'pack_card_Lier, Disciple of the Drowned',\n",
       " 'pack_card_Liesa, Forgotten Archangel',\n",
       " 'pack_card_Light Up the Night',\n",
       " 'pack_card_Locked in the Cemetery',\n",
       " 'pack_card_Lord of the Forsaken',\n",
       " 'pack_card_Loyal Gryff',\n",
       " 'pack_card_Ludevic, Necrogenius',\n",
       " 'pack_card_Lunar Frenzy',\n",
       " 'pack_card_Lunarch Veteran',\n",
       " 'pack_card_Malevolent Hermit',\n",
       " 'pack_card_Mask of Griselbrand',\n",
       " 'pack_card_Memory Deluge',\n",
       " 'pack_card_Might of the Old Ways',\n",
       " \"pack_card_Moonrager's Slash\",\n",
       " 'pack_card_Moonsilver Key',\n",
       " 'pack_card_Moonveil Regent',\n",
       " 'pack_card_Morbid Opportunist',\n",
       " 'pack_card_Morkrut Behemoth',\n",
       " 'pack_card_Mountain',\n",
       " 'pack_card_Mounted Dreadknight',\n",
       " 'pack_card_Mourning Patrol',\n",
       " 'pack_card_Mysterious Tome',\n",
       " 'pack_card_Mystic Skull',\n",
       " 'pack_card_Nebelgast Intruder',\n",
       " 'pack_card_Necrosynthesis',\n",
       " \"pack_card_Neonate's Rush\",\n",
       " 'pack_card_No Way Out',\n",
       " 'pack_card_Novice Occultist',\n",
       " 'pack_card_Obsessive Astronomer',\n",
       " \"pack_card_Odric's Outrider\",\n",
       " 'pack_card_Old Stickfingers',\n",
       " \"pack_card_Olivia's Midnight Ambush\",\n",
       " 'pack_card_Ominous Roost',\n",
       " 'pack_card_Organ Hoarder',\n",
       " 'pack_card_Otherworldly Gaze',\n",
       " 'pack_card_Outland Liberator',\n",
       " 'pack_card_Overgrown Farmland',\n",
       " 'pack_card_Overwhelmed Archivist',\n",
       " \"pack_card_Pack's Betrayal\",\n",
       " 'pack_card_Path to the Festival',\n",
       " 'pack_card_Patrician Geist',\n",
       " 'pack_card_Pestilent Wolf',\n",
       " 'pack_card_Phantom Carriage',\n",
       " 'pack_card_Pithing Needle',\n",
       " 'pack_card_Plains',\n",
       " 'pack_card_Play with Fire',\n",
       " 'pack_card_Plummet',\n",
       " 'pack_card_Poppet Stitcher',\n",
       " 'pack_card_Primal Adversary',\n",
       " 'pack_card_Purifying Dragon',\n",
       " 'pack_card_Raze the Effigy',\n",
       " 'pack_card_Reckless Stormseeker',\n",
       " 'pack_card_Rem Karolus, Stalwart Slayer',\n",
       " 'pack_card_Return to Nature',\n",
       " 'pack_card_Revenge of the Drowned',\n",
       " 'pack_card_Rise of the Ants',\n",
       " 'pack_card_Rite of Harmony',\n",
       " 'pack_card_Rite of Oblivion',\n",
       " 'pack_card_Ritual Guardian',\n",
       " 'pack_card_Ritual of Hope',\n",
       " 'pack_card_Rockfall Vale',\n",
       " 'pack_card_Rootcoil Creeper',\n",
       " 'pack_card_Rotten Reunion',\n",
       " 'pack_card_Sacred Fire',\n",
       " \"pack_card_Saryth, the Viper's Fang\",\n",
       " 'pack_card_Search Party Captain',\n",
       " 'pack_card_Secrets of the Key',\n",
       " 'pack_card_Seize the Storm',\n",
       " 'pack_card_Shadowbeast Sighting',\n",
       " 'pack_card_Shady Traveler',\n",
       " 'pack_card_Shipwreck Marsh',\n",
       " 'pack_card_Shipwreck Sifters',\n",
       " 'pack_card_Siege Zombie',\n",
       " \"pack_card_Sigarda's Splendor\",\n",
       " 'pack_card_Sigarda, Champion of Light',\n",
       " 'pack_card_Sigardian Savior',\n",
       " 'pack_card_Silver Bolt',\n",
       " 'pack_card_Siphon Insight',\n",
       " 'pack_card_Skaab Wrangler',\n",
       " 'pack_card_Slaughter Specialist',\n",
       " 'pack_card_Slogurk, the Overslime',\n",
       " 'pack_card_Sludge Monster',\n",
       " 'pack_card_Smoldering Egg',\n",
       " 'pack_card_Snarling Wolf',\n",
       " 'pack_card_Soul-Guide Gryff',\n",
       " 'pack_card_Spectral Adversary',\n",
       " 'pack_card_Spellrune Painter',\n",
       " 'pack_card_Startle',\n",
       " 'pack_card_Stolen Vitality',\n",
       " 'pack_card_Storm Skreelix',\n",
       " 'pack_card_Storm the Festival',\n",
       " 'pack_card_Stormrider Spirit',\n",
       " 'pack_card_Stromkirk Bloodthief',\n",
       " 'pack_card_Stuffed Bear',\n",
       " 'pack_card_Sungold Barrage',\n",
       " 'pack_card_Sungold Sentinel',\n",
       " 'pack_card_Sunrise Cavalier',\n",
       " 'pack_card_Sunset Revelry',\n",
       " 'pack_card_Sunstreak Phoenix',\n",
       " 'pack_card_Suspicious Stowaway',\n",
       " 'pack_card_Swamp',\n",
       " 'pack_card_Tainted Adversary',\n",
       " 'pack_card_Tapping at the Window',\n",
       " 'pack_card_Tavern Ruffian',\n",
       " 'pack_card_Teferi, Who Slows the Sunset',\n",
       " 'pack_card_The Celestus',\n",
       " 'pack_card_The Meathook Massacre',\n",
       " 'pack_card_Thermo-Alchemist',\n",
       " 'pack_card_Thraben Exorcism',\n",
       " 'pack_card_Timberland Guide',\n",
       " 'pack_card_Tireless Hauler',\n",
       " \"pack_card_Tovolar's Huntmaster\",\n",
       " 'pack_card_Tovolar, Dire Overlord',\n",
       " 'pack_card_Triskaidekaphile',\n",
       " 'pack_card_Turn the Earth',\n",
       " 'pack_card_Unblinking Observer',\n",
       " 'pack_card_Unnatural Growth',\n",
       " 'pack_card_Unnatural Moonrise',\n",
       " 'pack_card_Unruly Mob',\n",
       " 'pack_card_Vadrik, Astral Archmage',\n",
       " 'pack_card_Vampire Interloper',\n",
       " 'pack_card_Vampire Socialite',\n",
       " 'pack_card_Vanquish the Horde',\n",
       " 'pack_card_Vengeful Strangler',\n",
       " 'pack_card_Village Watch',\n",
       " 'pack_card_Vivisection',\n",
       " 'pack_card_Voldaren Ambusher',\n",
       " 'pack_card_Voldaren Stinger',\n",
       " 'pack_card_Wake to Slaughter',\n",
       " 'pack_card_Willow Geist',\n",
       " 'pack_card_Winterthorn Blessing',\n",
       " 'pack_card_Wrenn and Seven',\n",
       " 'pool_Abandon the Post',\n",
       " 'pool_Adeline, Resplendent Cathar',\n",
       " 'pool_Ambitious Farmhand',\n",
       " 'pool_Angelfire Ignition',\n",
       " 'pool_Arcane Infusion',\n",
       " 'pool_Ardent Elementalist',\n",
       " \"pool_Arlinn, the Pack's Hope\",\n",
       " 'pool_Arrogant Outlaw',\n",
       " 'pool_Augur of Autumn',\n",
       " 'pool_Baithook Angler',\n",
       " 'pool_Baneblade Scoundrel',\n",
       " 'pool_Bat Whisperer',\n",
       " 'pool_Beloved Beggar',\n",
       " 'pool_Bereaved Survivor',\n",
       " 'pool_Bird Admirer',\n",
       " 'pool_Bladebrand',\n",
       " 'pool_Bladestitched Skaab',\n",
       " 'pool_Blessed Defiance',\n",
       " 'pool_Blood Pact',\n",
       " 'pool_Bloodline Culling',\n",
       " 'pool_Bloodthirsty Adversary',\n",
       " 'pool_Bloodtithe Collector',\n",
       " 'pool_Borrowed Time',\n",
       " 'pool_Bounding Wolf',\n",
       " 'pool_Bramble Armor',\n",
       " 'pool_Briarbridge Tracker',\n",
       " 'pool_Brimstone Vandal',\n",
       " 'pool_Brood Weaver',\n",
       " 'pool_Brutal Cathar',\n",
       " 'pool_Burly Breaker',\n",
       " 'pool_Burn Down the House',\n",
       " 'pool_Burn the Accursed',\n",
       " \"pool_Can't Stay Away\",\n",
       " 'pool_Candlegrove Witch',\n",
       " 'pool_Candlelit Cavalry',\n",
       " 'pool_Candletrap',\n",
       " 'pool_Cathar Commando',\n",
       " \"pool_Cathar's Call\",\n",
       " 'pool_Cathartic Pyre',\n",
       " 'pool_Celestus Sanctifier',\n",
       " 'pool_Champion of the Perished',\n",
       " 'pool_Chaplain of Alms',\n",
       " 'pool_Clarion Cathars',\n",
       " 'pool_Clear Shot',\n",
       " 'pool_Component Collector',\n",
       " 'pool_Consider',\n",
       " 'pool_Consuming Blob',\n",
       " 'pool_Contortionist Troupe',\n",
       " 'pool_Corpse Cobble',\n",
       " 'pool_Covert Cutpurse',\n",
       " 'pool_Covetous Castaway',\n",
       " 'pool_Crawl from the Cellar',\n",
       " 'pool_Croaking Counterpart',\n",
       " 'pool_Crossroads Candleguide',\n",
       " 'pool_Curse of Leeches',\n",
       " 'pool_Curse of Shaken Faith',\n",
       " 'pool_Curse of Silence',\n",
       " 'pool_Curse of Surveillance',\n",
       " 'pool_Dawnhart Mentor',\n",
       " 'pool_Dawnhart Rejuvenator',\n",
       " 'pool_Dawnhart Wardens',\n",
       " 'pool_Deathbonnet Sprout',\n",
       " 'pool_Defend the Celestus',\n",
       " 'pool_Defenestrate',\n",
       " 'pool_Delver of Secrets',\n",
       " 'pool_Dennick, Pious Apprentice',\n",
       " 'pool_Deserted Beach',\n",
       " 'pool_Devious Cover-Up',\n",
       " 'pool_Devoted Grafkeeper',\n",
       " 'pool_Dire-Strain Rampage',\n",
       " 'pool_Diregraf Horde',\n",
       " 'pool_Diregraf Rebirth',\n",
       " 'pool_Dissipate',\n",
       " 'pool_Dreadhound',\n",
       " 'pool_Drownyard Amalgam',\n",
       " \"pool_Dryad's Revival\",\n",
       " 'pool_Duel for Dominance',\n",
       " 'pool_Duelcraft Trainer',\n",
       " 'pool_Duress',\n",
       " 'pool_Eaten Alive',\n",
       " 'pool_Eccentric Farmer',\n",
       " 'pool_Ecstatic Awakener',\n",
       " 'pool_Electric Revelation',\n",
       " 'pool_Enduring Angel',\n",
       " 'pool_Evolving Wilds',\n",
       " 'pool_Fading Hope',\n",
       " 'pool_Faithful Mending',\n",
       " 'pool_Falcon Abomination',\n",
       " 'pool_Falkenrath Perforator',\n",
       " 'pool_Falkenrath Pit Fighter',\n",
       " 'pool_Famished Foragers',\n",
       " 'pool_Fangblade Brigand',\n",
       " 'pool_Fateful Absence',\n",
       " 'pool_Festival Crasher',\n",
       " 'pool_Field of Ruin',\n",
       " 'pool_Firmament Sage',\n",
       " 'pool_Flame Channeler',\n",
       " 'pool_Flare of Faith',\n",
       " 'pool_Fleshtaker',\n",
       " 'pool_Flip the Switch',\n",
       " 'pool_Florian, Voldaren Scion',\n",
       " 'pool_Forest',\n",
       " 'pool_Foul Play',\n",
       " 'pool_Galedrifter',\n",
       " 'pool_Galvanic Iteration',\n",
       " 'pool_Gavony Dawnguard',\n",
       " 'pool_Gavony Silversmith',\n",
       " 'pool_Gavony Trapper',\n",
       " 'pool_Geistflame Reservoir',\n",
       " 'pool_Geistwave',\n",
       " \"pool_Ghoulcaller's Harvest\",\n",
       " 'pool_Ghoulish Procession',\n",
       " 'pool_Gisa, Glorious Resurrector',\n",
       " 'pool_Grafted Identity',\n",
       " 'pool_Graveyard Trespasser',\n",
       " 'pool_Grizzly Ghoul',\n",
       " 'pool_Hallowed Respite',\n",
       " 'pool_Harvesttide Infiltrator',\n",
       " 'pool_Harvesttide Sentry',\n",
       " 'pool_Haunted Ridge',\n",
       " \"pool_Hedgewitch's Mask\",\n",
       " 'pool_Heirloom Mirror',\n",
       " 'pool_Hobbling Zombie',\n",
       " 'pool_Homestead Courage',\n",
       " 'pool_Hostile Hostel',\n",
       " 'pool_Hound Tamer',\n",
       " 'pool_Howl of the Hunt',\n",
       " 'pool_Hungry for More',\n",
       " 'pool_Immolation',\n",
       " 'pool_Infernal Grasp',\n",
       " 'pool_Intrepid Adversary',\n",
       " 'pool_Island',\n",
       " \"pool_Jack-o'-Lantern\",\n",
       " 'pool_Jadar, Ghoulcaller of Nephalia',\n",
       " 'pool_Jerren, Corrupted Bishop',\n",
       " 'pool_Join the Dance',\n",
       " 'pool_Katilda, Dawnhart Prime',\n",
       " 'pool_Kessig Naturalist',\n",
       " 'pool_Lambholt Harrier',\n",
       " 'pool_Larder Zombie',\n",
       " 'pool_Lier, Disciple of the Drowned',\n",
       " 'pool_Liesa, Forgotten Archangel',\n",
       " 'pool_Light Up the Night',\n",
       " 'pool_Locked in the Cemetery',\n",
       " 'pool_Lord of the Forsaken',\n",
       " 'pool_Loyal Gryff',\n",
       " 'pool_Ludevic, Necrogenius',\n",
       " 'pool_Lunar Frenzy',\n",
       " 'pool_Lunarch Veteran',\n",
       " 'pool_Malevolent Hermit',\n",
       " 'pool_Mask of Griselbrand',\n",
       " 'pool_Memory Deluge',\n",
       " 'pool_Might of the Old Ways',\n",
       " \"pool_Moonrager's Slash\",\n",
       " 'pool_Moonsilver Key',\n",
       " 'pool_Moonveil Regent',\n",
       " 'pool_Morbid Opportunist',\n",
       " 'pool_Morkrut Behemoth',\n",
       " 'pool_Mountain',\n",
       " 'pool_Mounted Dreadknight',\n",
       " 'pool_Mourning Patrol',\n",
       " 'pool_Mysterious Tome',\n",
       " 'pool_Mystic Skull',\n",
       " 'pool_Nebelgast Intruder',\n",
       " 'pool_Necrosynthesis',\n",
       " \"pool_Neonate's Rush\",\n",
       " 'pool_No Way Out',\n",
       " 'pool_Novice Occultist',\n",
       " 'pool_Obsessive Astronomer',\n",
       " \"pool_Odric's Outrider\",\n",
       " 'pool_Old Stickfingers',\n",
       " \"pool_Olivia's Midnight Ambush\",\n",
       " 'pool_Ominous Roost',\n",
       " 'pool_Organ Hoarder',\n",
       " 'pool_Otherworldly Gaze',\n",
       " 'pool_Outland Liberator',\n",
       " 'pool_Overgrown Farmland',\n",
       " 'pool_Overwhelmed Archivist',\n",
       " \"pool_Pack's Betrayal\",\n",
       " 'pool_Path to the Festival',\n",
       " 'pool_Patrician Geist',\n",
       " 'pool_Pestilent Wolf',\n",
       " 'pool_Phantom Carriage',\n",
       " 'pool_Pithing Needle',\n",
       " 'pool_Plains',\n",
       " 'pool_Play with Fire',\n",
       " 'pool_Plummet',\n",
       " 'pool_Poppet Stitcher',\n",
       " 'pool_Primal Adversary',\n",
       " 'pool_Purifying Dragon',\n",
       " 'pool_Raze the Effigy',\n",
       " 'pool_Reckless Stormseeker',\n",
       " 'pool_Rem Karolus, Stalwart Slayer',\n",
       " 'pool_Return to Nature',\n",
       " 'pool_Revenge of the Drowned',\n",
       " 'pool_Rise of the Ants',\n",
       " 'pool_Rite of Harmony',\n",
       " 'pool_Rite of Oblivion',\n",
       " 'pool_Ritual Guardian',\n",
       " 'pool_Ritual of Hope',\n",
       " 'pool_Rockfall Vale',\n",
       " 'pool_Rootcoil Creeper',\n",
       " 'pool_Rotten Reunion',\n",
       " 'pool_Sacred Fire',\n",
       " \"pool_Saryth, the Viper's Fang\",\n",
       " 'pool_Search Party Captain',\n",
       " 'pool_Secrets of the Key',\n",
       " 'pool_Seize the Storm',\n",
       " 'pool_Shadowbeast Sighting',\n",
       " 'pool_Shady Traveler',\n",
       " 'pool_Shipwreck Marsh',\n",
       " 'pool_Shipwreck Sifters',\n",
       " 'pool_Siege Zombie',\n",
       " \"pool_Sigarda's Splendor\",\n",
       " 'pool_Sigarda, Champion of Light',\n",
       " 'pool_Sigardian Savior',\n",
       " 'pool_Silver Bolt',\n",
       " 'pool_Siphon Insight',\n",
       " 'pool_Skaab Wrangler',\n",
       " 'pool_Slaughter Specialist',\n",
       " 'pool_Slogurk, the Overslime',\n",
       " 'pool_Sludge Monster',\n",
       " 'pool_Smoldering Egg',\n",
       " 'pool_Snarling Wolf',\n",
       " 'pool_Soul-Guide Gryff',\n",
       " 'pool_Spectral Adversary',\n",
       " 'pool_Spellrune Painter',\n",
       " 'pool_Startle',\n",
       " 'pool_Stolen Vitality',\n",
       " 'pool_Storm Skreelix',\n",
       " 'pool_Storm the Festival',\n",
       " 'pool_Stormrider Spirit',\n",
       " 'pool_Stromkirk Bloodthief',\n",
       " 'pool_Stuffed Bear',\n",
       " 'pool_Sungold Barrage',\n",
       " 'pool_Sungold Sentinel',\n",
       " 'pool_Sunrise Cavalier',\n",
       " 'pool_Sunset Revelry',\n",
       " 'pool_Sunstreak Phoenix',\n",
       " 'pool_Suspicious Stowaway',\n",
       " 'pool_Swamp',\n",
       " 'pool_Tainted Adversary',\n",
       " 'pool_Tapping at the Window',\n",
       " 'pool_Tavern Ruffian',\n",
       " 'pool_Teferi, Who Slows the Sunset',\n",
       " 'pool_The Celestus',\n",
       " 'pool_The Meathook Massacre',\n",
       " 'pool_Thermo-Alchemist',\n",
       " 'pool_Thraben Exorcism',\n",
       " 'pool_Timberland Guide',\n",
       " 'pool_Tireless Hauler',\n",
       " \"pool_Tovolar's Huntmaster\",\n",
       " 'pool_Tovolar, Dire Overlord',\n",
       " 'pool_Triskaidekaphile',\n",
       " 'pool_Turn the Earth',\n",
       " 'pool_Unblinking Observer',\n",
       " 'pool_Unnatural Growth',\n",
       " 'pool_Unnatural Moonrise',\n",
       " 'pool_Unruly Mob',\n",
       " 'pool_Vadrik, Astral Archmage',\n",
       " 'pool_Vampire Interloper',\n",
       " 'pool_Vampire Socialite',\n",
       " 'pool_Vanquish the Horde',\n",
       " 'pool_Vengeful Strangler',\n",
       " 'pool_Village Watch',\n",
       " 'pool_Vivisection',\n",
       " 'pool_Voldaren Ambusher',\n",
       " 'pool_Voldaren Stinger',\n",
       " 'pool_Wake to Slaughter',\n",
       " 'pool_Willow Geist',\n",
       " 'pool_Winterthorn Blessing',\n",
       " 'pool_Wrenn and Seven']"
      ]
     },
     "execution_count": 161,
     "metadata": {},
     "output_type": "execute_result"
    }
   ],
   "source": [
    "list(df.columns)"
   ]
  },
  {
   "cell_type": "code",
   "execution_count": 6,
   "id": "5142a39a-7aa6-4b06-a0f9-0b2ad8c8d6cf",
   "metadata": {},
   "outputs": [
    {
     "data": {
      "text/html": [
       "<div>\n",
       "<style scoped>\n",
       "    .dataframe tbody tr th:only-of-type {\n",
       "        vertical-align: middle;\n",
       "    }\n",
       "\n",
       "    .dataframe tbody tr th {\n",
       "        vertical-align: top;\n",
       "    }\n",
       "\n",
       "    .dataframe thead th {\n",
       "        text-align: right;\n",
       "    }\n",
       "</style>\n",
       "<table border=\"1\" class=\"dataframe\">\n",
       "  <thead>\n",
       "    <tr style=\"text-align: right;\">\n",
       "      <th></th>\n",
       "      <th>user_match_win_rate_bucket</th>\n",
       "      <th>user_n_matches_bucket</th>\n",
       "      <th>draft_id</th>\n",
       "      <th>draft_time</th>\n",
       "      <th>expansion</th>\n",
       "      <th>event_type</th>\n",
       "      <th>user_rank</th>\n",
       "      <th>event_match_wins</th>\n",
       "      <th>event_match_losses</th>\n",
       "      <th>pack_number</th>\n",
       "      <th>...</th>\n",
       "      <th>pool_Vanquish the Horde</th>\n",
       "      <th>pool_Vengeful Strangler</th>\n",
       "      <th>pool_Village Watch</th>\n",
       "      <th>pool_Vivisection</th>\n",
       "      <th>pool_Voldaren Ambusher</th>\n",
       "      <th>pool_Voldaren Stinger</th>\n",
       "      <th>pool_Wake to Slaughter</th>\n",
       "      <th>pool_Willow Geist</th>\n",
       "      <th>pool_Winterthorn Blessing</th>\n",
       "      <th>pool_Wrenn and Seven</th>\n",
       "    </tr>\n",
       "  </thead>\n",
       "  <tbody>\n",
       "    <tr>\n",
       "      <th>0</th>\n",
       "      <td>0.64</td>\n",
       "      <td>10</td>\n",
       "      <td>b0d333a808b8448babc0739ca3b24802</td>\n",
       "      <td>2021-09-16 19:28:18</td>\n",
       "      <td>MID</td>\n",
       "      <td>PremierDraft</td>\n",
       "      <td>gold</td>\n",
       "      <td>6</td>\n",
       "      <td>3</td>\n",
       "      <td>0</td>\n",
       "      <td>...</td>\n",
       "      <td>0</td>\n",
       "      <td>0</td>\n",
       "      <td>0</td>\n",
       "      <td>0</td>\n",
       "      <td>0</td>\n",
       "      <td>0</td>\n",
       "      <td>0</td>\n",
       "      <td>0</td>\n",
       "      <td>0</td>\n",
       "      <td>0</td>\n",
       "    </tr>\n",
       "    <tr>\n",
       "      <th>1</th>\n",
       "      <td>0.64</td>\n",
       "      <td>10</td>\n",
       "      <td>28ca1deb1aa440218a3a8852bf6c80b8</td>\n",
       "      <td>2021-09-20 15:23:16</td>\n",
       "      <td>MID</td>\n",
       "      <td>PremierDraft</td>\n",
       "      <td>platinum</td>\n",
       "      <td>4</td>\n",
       "      <td>3</td>\n",
       "      <td>0</td>\n",
       "      <td>...</td>\n",
       "      <td>0</td>\n",
       "      <td>0</td>\n",
       "      <td>0</td>\n",
       "      <td>0</td>\n",
       "      <td>0</td>\n",
       "      <td>0</td>\n",
       "      <td>0</td>\n",
       "      <td>0</td>\n",
       "      <td>0</td>\n",
       "      <td>0</td>\n",
       "    </tr>\n",
       "    <tr>\n",
       "      <th>2</th>\n",
       "      <td>0.64</td>\n",
       "      <td>10</td>\n",
       "      <td>28ca1deb1aa440218a3a8852bf6c80b8</td>\n",
       "      <td>2021-09-20 15:23:16</td>\n",
       "      <td>MID</td>\n",
       "      <td>PremierDraft</td>\n",
       "      <td>platinum</td>\n",
       "      <td>4</td>\n",
       "      <td>3</td>\n",
       "      <td>0</td>\n",
       "      <td>...</td>\n",
       "      <td>0</td>\n",
       "      <td>0</td>\n",
       "      <td>0</td>\n",
       "      <td>0</td>\n",
       "      <td>0</td>\n",
       "      <td>0</td>\n",
       "      <td>0</td>\n",
       "      <td>0</td>\n",
       "      <td>0</td>\n",
       "      <td>0</td>\n",
       "    </tr>\n",
       "    <tr>\n",
       "      <th>3</th>\n",
       "      <td>0.64</td>\n",
       "      <td>10</td>\n",
       "      <td>28ca1deb1aa440218a3a8852bf6c80b8</td>\n",
       "      <td>2021-09-20 15:23:16</td>\n",
       "      <td>MID</td>\n",
       "      <td>PremierDraft</td>\n",
       "      <td>platinum</td>\n",
       "      <td>4</td>\n",
       "      <td>3</td>\n",
       "      <td>0</td>\n",
       "      <td>...</td>\n",
       "      <td>0</td>\n",
       "      <td>0</td>\n",
       "      <td>0</td>\n",
       "      <td>0</td>\n",
       "      <td>0</td>\n",
       "      <td>0</td>\n",
       "      <td>0</td>\n",
       "      <td>0</td>\n",
       "      <td>0</td>\n",
       "      <td>0</td>\n",
       "    </tr>\n",
       "    <tr>\n",
       "      <th>4</th>\n",
       "      <td>0.64</td>\n",
       "      <td>10</td>\n",
       "      <td>28ca1deb1aa440218a3a8852bf6c80b8</td>\n",
       "      <td>2021-09-20 15:23:16</td>\n",
       "      <td>MID</td>\n",
       "      <td>PremierDraft</td>\n",
       "      <td>platinum</td>\n",
       "      <td>4</td>\n",
       "      <td>3</td>\n",
       "      <td>0</td>\n",
       "      <td>...</td>\n",
       "      <td>0</td>\n",
       "      <td>0</td>\n",
       "      <td>0</td>\n",
       "      <td>0</td>\n",
       "      <td>0</td>\n",
       "      <td>0</td>\n",
       "      <td>0</td>\n",
       "      <td>0</td>\n",
       "      <td>0</td>\n",
       "      <td>0</td>\n",
       "    </tr>\n",
       "  </tbody>\n",
       "</table>\n",
       "<p>5 rows × 558 columns</p>\n",
       "</div>"
      ],
      "text/plain": [
       "   user_match_win_rate_bucket  user_n_matches_bucket  \\\n",
       "0                        0.64                     10   \n",
       "1                        0.64                     10   \n",
       "2                        0.64                     10   \n",
       "3                        0.64                     10   \n",
       "4                        0.64                     10   \n",
       "\n",
       "                           draft_id           draft_time expansion  \\\n",
       "0  b0d333a808b8448babc0739ca3b24802  2021-09-16 19:28:18       MID   \n",
       "1  28ca1deb1aa440218a3a8852bf6c80b8  2021-09-20 15:23:16       MID   \n",
       "2  28ca1deb1aa440218a3a8852bf6c80b8  2021-09-20 15:23:16       MID   \n",
       "3  28ca1deb1aa440218a3a8852bf6c80b8  2021-09-20 15:23:16       MID   \n",
       "4  28ca1deb1aa440218a3a8852bf6c80b8  2021-09-20 15:23:16       MID   \n",
       "\n",
       "     event_type user_rank  event_match_wins  event_match_losses  pack_number  \\\n",
       "0  PremierDraft      gold                 6                   3            0   \n",
       "1  PremierDraft  platinum                 4                   3            0   \n",
       "2  PremierDraft  platinum                 4                   3            0   \n",
       "3  PremierDraft  platinum                 4                   3            0   \n",
       "4  PremierDraft  platinum                 4                   3            0   \n",
       "\n",
       "   ...  pool_Vanquish the Horde pool_Vengeful Strangler  pool_Village Watch  \\\n",
       "0  ...                        0                       0                   0   \n",
       "1  ...                        0                       0                   0   \n",
       "2  ...                        0                       0                   0   \n",
       "3  ...                        0                       0                   0   \n",
       "4  ...                        0                       0                   0   \n",
       "\n",
       "   pool_Vivisection  pool_Voldaren Ambusher  pool_Voldaren Stinger  \\\n",
       "0                 0                       0                      0   \n",
       "1                 0                       0                      0   \n",
       "2                 0                       0                      0   \n",
       "3                 0                       0                      0   \n",
       "4                 0                       0                      0   \n",
       "\n",
       "   pool_Wake to Slaughter  pool_Willow Geist  pool_Winterthorn Blessing  \\\n",
       "0                       0                  0                          0   \n",
       "1                       0                  0                          0   \n",
       "2                       0                  0                          0   \n",
       "3                       0                  0                          0   \n",
       "4                       0                  0                          0   \n",
       "\n",
       "   pool_Wrenn and Seven  \n",
       "0                     0  \n",
       "1                     0  \n",
       "2                     0  \n",
       "3                     0  \n",
       "4                     0  \n",
       "\n",
       "[5 rows x 558 columns]"
      ]
     },
     "execution_count": 6,
     "metadata": {},
     "output_type": "execute_result"
    }
   ],
   "source": [
    "df.head()"
   ]
  },
  {
   "cell_type": "code",
   "execution_count": null,
   "id": "35be8bd3-de1c-47c5-bd94-33b960e52128",
   "metadata": {},
   "outputs": [],
   "source": [
    "clf = RandomForestClassifier(max_depth=2, random_state=0)\n",
    "clf.fit(X, y)\n",
    "clf.predict([[0, 0, 0, 0]]))"
   ]
  }
 ],
 "metadata": {
  "kernelspec": {
   "display_name": "Python 3",
   "language": "python",
   "name": "python3"
  },
  "language_info": {
   "codemirror_mode": {
    "name": "ipython",
    "version": 3
   },
   "file_extension": ".py",
   "mimetype": "text/x-python",
   "name": "python",
   "nbconvert_exporter": "python",
   "pygments_lexer": "ipython3",
   "version": "3.8.7"
  }
 },
 "nbformat": 4,
 "nbformat_minor": 5
}
