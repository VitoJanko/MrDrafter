{
 "cells": [
  {
   "cell_type": "code",
   "execution_count": 9,
   "id": "4a216a0e-1ebf-4c15-aca8-b4318e9652c7",
   "metadata": {},
   "outputs": [],
   "source": [
    "import pandas as pd"
   ]
  },
  {
   "cell_type": "code",
   "execution_count": 10,
   "id": "2cfc95a2-ed8a-4fab-8ad9-32cbd7893f6c",
   "metadata": {},
   "outputs": [],
   "source": [
    "%%capture\n",
    "cards = pd.read_csv(\"data/cards.csv\")"
   ]
  },
  {
   "cell_type": "code",
   "execution_count": 11,
   "id": "b111b458-ee43-4cf6-b725-ae605ca62351",
   "metadata": {},
   "outputs": [],
   "source": [
    "def shorten(name):\n",
    "    if \"//\" not in name:\n",
    "        return name\n",
    "    return name.split(\"//\")[0][:-1]"
   ]
  },
  {
   "cell_type": "code",
   "execution_count": 12,
   "id": "03ba8fbd-a53f-46c5-a4b3-bf4b212d89b8",
   "metadata": {},
   "outputs": [],
   "source": [
    "cards[\"name_short\"] = cards[\"name\"].apply(lambda name: shorten(name))"
   ]
  }
 ],
 "metadata": {
  "kernelspec": {
   "display_name": "Python 3",
   "language": "python",
   "name": "python3"
  },
  "language_info": {
   "codemirror_mode": {
    "name": "ipython",
    "version": 3
   },
   "file_extension": ".py",
   "mimetype": "text/x-python",
   "name": "python",
   "nbconvert_exporter": "python",
   "pygments_lexer": "ipython3",
   "version": "3.8.7"
  }
 },
 "nbformat": 4,
 "nbformat_minor": 5
}
