{
 "cells": [
  {
   "cell_type": "code",
   "execution_count": 66,
   "id": "b84cfaa4-e6ff-4a5e-835c-f2454e5721cd",
   "metadata": {},
   "outputs": [],
   "source": [
    "class Simulator():\n",
    "    \n",
    "    players = None\n",
    "    packs = None\n",
    "    rotation = None\n",
    "    generator = None\n",
    "    \n",
    "    def __init__(self, players, generator):\n",
    "        self.players = players\n",
    "        if len(players) !=8: \n",
    "            print(f\"Warning: There are {len(players)} players!\")\n",
    "        self.rotation = -1\n",
    "        self.generator = generator\n",
    "    \n",
    "    def start(self):\n",
    "        self.new_pack()\n",
    "        self.play_pack()\n",
    "        self.new_pack()\n",
    "        self.play_pack()\n",
    "        self.new_pack()\n",
    "        self.play_pack()\n",
    "        \n",
    "    def new_pack(self):\n",
    "        self.rotation = self.rotation * -1\n",
    "        self.packs = [self.generator() for _ in range(len(self.players))]\n",
    "    \n",
    "    def play_pack(self):\n",
    "        while len(self.packs[0]) > 0:\n",
    "            self.turn()\n",
    "    \n",
    "    def turn(self):\n",
    "        next_packs = [None] * len(self.players)\n",
    "        for i in range(len(self.players)):\n",
    "            self.players[i].pre_pick(self.packs[i])\n",
    "            picked = self.players[i].pick(self.packs[i])\n",
    "            self.players[i].post_pick(self.packs[i], picked)\n",
    "            self.packs[i].remove(picked)\n",
    "            next_player = (i+self.rotation) % len(self.players)\n",
    "            next_packs[next_player] = self.packs[i]\n",
    "        self.packs = next_packs\n",
    "            \n",
    "    "
   ]
  },
  {
   "cell_type": "code",
   "execution_count": 73,
   "id": "2718d35d-d121-42e9-96fc-8d25de453ae6",
   "metadata": {},
   "outputs": [],
   "source": [
    "#%run player.ipynb\n",
    "#%run boosters.ipynb\n",
    "\n",
    "#def sample_generator():\n",
    "#    for i in range(30):\n",
    "#        yield [[\"A\", \"B\", \"C\"], [\"a\", \"b\", \"c\"], [\"1\", \"2\", \"3\"]][i%3]\n",
    "        \n",
    "#gen = sample_generator()\n",
    "#pod = Simulator([Dummy(), Dummy(), Dummy()], booster_simple_vow)"
   ]
  }
 ],
 "metadata": {
  "kernelspec": {
   "display_name": "Python 3",
   "language": "python",
   "name": "python3"
  },
  "language_info": {
   "codemirror_mode": {
    "name": "ipython",
    "version": 3
   },
   "file_extension": ".py",
   "mimetype": "text/x-python",
   "name": "python",
   "nbconvert_exporter": "python",
   "pygments_lexer": "ipython3",
   "version": "3.8.7"
  }
 },
 "nbformat": 4,
 "nbformat_minor": 5
}
