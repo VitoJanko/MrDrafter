{
 "cells": [
  {
   "cell_type": "code",
   "execution_count": null,
   "metadata": {},
   "outputs": [],
   "source": [
    "import tensorflow as tf\n",
    "from tensorflow import keras\n",
    "from tensorflow.keras import layers\n",
    "from tensorflow.keras import regularizers\n",
    "import numpy as np\n",
    "import pandas as pd"
   ]
  },
  {
   "cell_type": "code",
   "execution_count": 33,
   "metadata": {},
   "outputs": [],
   "source": [
    "%run \"data_generator.ipynb\""
   ]
  },
  {
   "cell_type": "code",
   "execution_count": 2,
   "metadata": {},
   "outputs": [],
   "source": [
    "relevant_drafts = pd.read_csv(\"./data/VOW_prepared.csv\", index_col=0, nrows = 1)\n",
    "card_names = [c.split(\"_\")[1] for c in relevant_drafts.columns if \"pool_\" in c]"
   ]
  },
  {
   "cell_type": "code",
   "execution_count": 5,
   "metadata": {},
   "outputs": [],
   "source": []
  },
  {
   "cell_type": "code",
   "execution_count": 34,
   "metadata": {},
   "outputs": [],
   "source": [
    "columns = list(relevant_drafts.columns[14:]) +['pack_number']\n",
    "train_generator = DraftReadFileGenerator(\"./Data/VOW_prepared.csv\", 0, 800000, 128, 128000, columns, card_names)\n",
    "valid_generator = DraftReadFileGenerator(\"./Data/VOW_prepared.csv\", 800000, 900000, 128, 128000, columns, card_names)\n",
    "test_generator = DraftReadFileGenerator(\"./Data/VOW_prepared.csv\", 900000, 1000000, 128, 128000, columns, card_names)"
   ]
  },
  {
   "cell_type": "code",
   "execution_count": null,
   "metadata": {},
   "outputs": [],
   "source": []
  },
  {
   "cell_type": "code",
   "execution_count": null,
   "metadata": {},
   "outputs": [],
   "source": [
    "#x = relevant_drafts[list(relevant_drafts.columns[14:]) +['pack_number']]\n",
    "#y = relevant_drafts[\"pick\"]"
   ]
  },
  {
   "cell_type": "code",
   "execution_count": null,
   "metadata": {},
   "outputs": [],
   "source": [
    "#pick_names = [c for c in relevant_drafts.columns if \"pack_card_\" in c]"
   ]
  },
  {
   "cell_type": "code",
   "execution_count": null,
   "metadata": {},
   "outputs": [],
   "source": [
    "#deck_type = [\"One\", \"Two\", \"Three\", \"Four\", \"Five\", \"Six\", \"R\", \"G\", \"B\", \"A\", \"U\", \"W\"]"
   ]
  },
  {
   "cell_type": "code",
   "execution_count": null,
   "metadata": {},
   "outputs": [],
   "source": [
    "#x = x[pick_names + deck_type]"
   ]
  },
  {
   "cell_type": "code",
   "execution_count": null,
   "metadata": {},
   "outputs": [],
   "source": [
    "#y_index = [card_names.index(y_name) for y_name in y]\n",
    "#y = keras.utils.to_categorical(y_index, len(card_names))"
   ]
  },
  {
   "cell_type": "code",
   "execution_count": 23,
   "metadata": {},
   "outputs": [],
   "source": [
    "#threshold_valid = int(len(x) * 0.8)\n",
    "#threshold_test = int(len(x) * 0.9)\n",
    "#x_train = x[:threshold_valid]\n",
    "#x_valid = x[threshold_valid:threshold_test]\n",
    "\n",
    "#x_test = x[threshold_test:]\n",
    "#y_train = y[:threshold_valid]\n",
    "#y_valid = y[threshold_valid:threshold_test]\n",
    "#y_test = y[threshold_test:]"
   ]
  },
  {
   "cell_type": "code",
   "execution_count": 7,
   "metadata": {},
   "outputs": [],
   "source": [
    "size = len(card_names)\n",
    "input_size = len(columns)"
   ]
  },
  {
   "cell_type": "code",
   "execution_count": 37,
   "metadata": {},
   "outputs": [
    {
     "name": "stdout",
     "output_type": "stream",
     "text": [
      "Model: \"sequential_3\"\n",
      "_________________________________________________________________\n",
      " Layer (type)                Output Shape              Param #   \n",
      "=================================================================\n",
      " dense_12 (Dense)            (None, 1088)              607104    \n",
      "                                                                 \n",
      " dense_13 (Dense)            (None, 1088)              1184832   \n",
      "                                                                 \n",
      " dense_14 (Dense)            (None, 272)               296208    \n",
      "                                                                 \n",
      "=================================================================\n",
      "Total params: 2,088,144\n",
      "Trainable params: 2,088,144\n",
      "Non-trainable params: 0\n",
      "_________________________________________________________________\n"
     ]
    }
   ],
   "source": [
    "model = keras.Sequential(\n",
    "    [\n",
    "        keras.Input(shape=(input_size)),\n",
    "        layers.Dense(4*size, activation=\"relu\", kernel_regularizer=regularizers.l2(0.001)),\n",
    "        layers.Dense(4*size, activation=\"relu\", kernel_regularizer=regularizers.l2(0.001)),\n",
    "        #layers.Dense(5*size, activation=\"relu\", kernel_regularizer=regularizers.l2(0.001)),\n",
    "        layers.Dense(size, activation=\"softmax\"),\n",
    "    ]\n",
    ")\n",
    "\n",
    "model.summary()"
   ]
  },
  {
   "cell_type": "code",
   "execution_count": null,
   "metadata": {},
   "outputs": [
    {
     "name": "stdout",
     "output_type": "stream",
     "text": [
      "Epoch 1/20\n",
      "6250/6250 [==============================] - 182s 29ms/step - loss: 3.0995 - accuracy: 0.4387 - val_loss: 2.4419 - val_accuracy: 0.5346\n",
      "Epoch 2/20\n",
      "6250/6250 [==============================] - 186s 30ms/step - loss: 2.3066 - accuracy: 0.5362 - val_loss: 2.1208 - val_accuracy: 0.5654\n",
      "Epoch 3/20\n",
      "6250/6250 [==============================] - 183s 29ms/step - loss: 2.0380 - accuracy: 0.5662 - val_loss: 1.9007 - val_accuracy: 0.5981\n",
      "Epoch 4/20\n",
      "6250/6250 [==============================] - 182s 29ms/step - loss: 1.8848 - accuracy: 0.5832 - val_loss: 1.7987 - val_accuracy: 0.6016\n",
      "Epoch 5/20\n",
      "6250/6250 [==============================] - 182s 29ms/step - loss: 1.7891 - accuracy: 0.5927 - val_loss: 1.6948 - val_accuracy: 0.6119\n",
      "Epoch 6/20\n",
      "6250/6250 [==============================] - 181s 29ms/step - loss: 1.7206 - accuracy: 0.6002 - val_loss: 1.6523 - val_accuracy: 0.6195\n",
      "Epoch 7/20\n",
      "6250/6250 [==============================] - 182s 29ms/step - loss: 1.6634 - accuracy: 0.6072 - val_loss: 1.6129 - val_accuracy: 0.6175\n",
      "Epoch 8/20\n",
      "6250/6250 [==============================] - 181s 29ms/step - loss: 1.6244 - accuracy: 0.6124 - val_loss: 1.5662 - val_accuracy: 0.6285\n",
      "Epoch 9/20\n",
      "6250/6250 [==============================] - 183s 29ms/step - loss: 1.5892 - accuracy: 0.6166 - val_loss: 1.5504 - val_accuracy: 0.6331\n",
      "Epoch 10/20\n",
      "6250/6250 [==============================] - 183s 29ms/step - loss: 1.5588 - accuracy: 0.6200 - val_loss: 1.5176 - val_accuracy: 0.6324\n",
      "Epoch 11/20\n",
      "6250/6250 [==============================] - 180s 29ms/step - loss: 1.5383 - accuracy: 0.6220 - val_loss: 1.5144 - val_accuracy: 0.6330\n",
      "Epoch 12/20\n",
      "6250/6250 [==============================] - 183s 29ms/step - loss: 1.5157 - accuracy: 0.6247 - val_loss: 1.5073 - val_accuracy: 0.6270\n",
      "Epoch 13/20\n",
      "6250/6250 [==============================] - 184s 30ms/step - loss: 1.4989 - accuracy: 0.6268 - val_loss: 1.5085 - val_accuracy: 0.6306\n",
      "Epoch 14/20\n",
      "6250/6250 [==============================] - 185s 30ms/step - loss: 1.4801 - accuracy: 0.6298 - val_loss: 1.4333 - val_accuracy: 0.6425\n",
      "Epoch 15/20\n",
      "6250/6250 [==============================] - 184s 29ms/step - loss: 1.4666 - accuracy: 0.6310 - val_loss: 1.4345 - val_accuracy: 0.6418\n",
      "Epoch 16/20\n",
      "6250/6250 [==============================] - 184s 29ms/step - loss: 1.4545 - accuracy: 0.6322 - val_loss: 1.4508 - val_accuracy: 0.6360\n",
      "Epoch 17/20\n",
      "6250/6250 [==============================] - 186s 30ms/step - loss: 1.4433 - accuracy: 0.6339 - val_loss: 1.4226 - val_accuracy: 0.6451\n",
      "Epoch 18/20\n",
      "6249/6250 [============================>.] - ETA: 0s - loss: 1.4366 - accuracy: 0.6347"
     ]
    }
   ],
   "source": [
    "batch_size = 128\n",
    "epochs = 20\n",
    "\n",
    "model.compile(loss=\"categorical_crossentropy\", optimizer=\"adam\", metrics=[\"accuracy\"])\n",
    "\n",
    "model.fit(x = train_generator, epochs=epochs, validation_data = valid_generator, shuffle=False)"
   ]
  },
  {
   "cell_type": "code",
   "execution_count": 17,
   "metadata": {},
   "outputs": [],
   "source": [
    "prediction_test = model.predict(x_test)\n",
    "prediction_valid = model.predict(x_valid)\n",
    "prediction_train = model.predict(x_train)"
   ]
  },
  {
   "cell_type": "code",
   "execution_count": 18,
   "metadata": {},
   "outputs": [],
   "source": [
    "from sklearn.metrics import accuracy_score"
   ]
  },
  {
   "cell_type": "code",
   "execution_count": 19,
   "metadata": {},
   "outputs": [],
   "source": [
    "def prob_to_cards(lst):\n",
    "    return [card_names[np.argmax(x)] for x in lst]"
   ]
  },
  {
   "cell_type": "code",
   "execution_count": 20,
   "metadata": {},
   "outputs": [
    {
     "name": "stdout",
     "output_type": "stream",
     "text": [
      "0.65515875\n",
      "0.63919\n",
      "0.64725\n"
     ]
    }
   ],
   "source": [
    "print(accuracy_score(prob_to_cards(y_train), prob_to_cards(prediction_train)))\n",
    "print(accuracy_score(prob_to_cards(y_valid), prob_to_cards(prediction_valid)))\n",
    "print(accuracy_score(prob_to_cards(y_test), prob_to_cards(prediction_test)))"
   ]
  },
  {
   "cell_type": "code",
   "execution_count": null,
   "metadata": {},
   "outputs": [],
   "source": [
    "def parse_pack(row):\n",
    "    pack = [c for c in row.index if \"pack_card_\" in c]\n",
    "    #print(pack)\n",
    "    names = []\n",
    "    for i,p in enumerate(pack): \n",
    "        if row[p] == 1:\n",
    "            names.append((i,p.split(\"_\")[2]))\n",
    "    return names"
   ]
  },
  {
   "cell_type": "code",
   "execution_count": null,
   "metadata": {},
   "outputs": [],
   "source": [
    "def shown_pack_predictions(pack_data, probabilities, index, expected, predicted):\n",
    "    pack = parse_pack(pack_data.iloc[index])\n",
    "    print(pack_data.iloc[index].pack_number)\n",
    "    print(expected[index])\n",
    "    for i,card in pack:\n",
    "        i = list(clf.classes_).index(card)\n",
    "        print(card+\" \"+str(probabilities[index][i]))"
   ]
  },
  {
   "cell_type": "code",
   "execution_count": null,
   "metadata": {},
   "outputs": [],
   "source": [
    "card_names[np.argmax(sample_prediction[0])]"
   ]
  },
  {
   "cell_type": "code",
   "execution_count": null,
   "metadata": {},
   "outputs": [],
   "source": [
    "shown_pack_predictions(x_test[:100],sample_prediction,0, y_test[:100], None)"
   ]
  },
  {
   "cell_type": "code",
   "execution_count": null,
   "metadata": {},
   "outputs": [],
   "source": [
    "sample_prediction[0].max()"
   ]
  },
  {
   "cell_type": "code",
   "execution_count": null,
   "metadata": {},
   "outputs": [],
   "source": [
    "x_test.shape"
   ]
  },
  {
   "cell_type": "code",
   "execution_count": null,
   "metadata": {},
   "outputs": [],
   "source": [
    "num_classes = 10\n",
    "input_shape = (28, 28, 1)\n",
    "\n",
    "# the data, split between train and test sets\n",
    "(x_train, y_train), (x_test, y_test) = keras.datasets.mnist.load_data()\n",
    "\n",
    "# Scale images to the [0, 1] range\n",
    "x_train = x_train.astype(\"float32\") / 255\n",
    "x_test = x_test.astype(\"float32\") / 255\n",
    "# Make sure images have shape (28, 28, 1)\n",
    "x_train = np.expand_dims(x_train, -1)\n",
    "x_test = np.expand_dims(x_test, -1)\n",
    "print(\"x_train shape:\", x_train.shape)\n",
    "print(x_train.shape[0], \"train samples\")\n",
    "print(x_test.shape[0], \"test samples\")\n",
    "\n",
    "\n",
    "# convert class vectors to binary class matrices\n"
   ]
  },
  {
   "cell_type": "code",
   "execution_count": null,
   "metadata": {},
   "outputs": [],
   "source": [
    "model = keras.Sequential(\n",
    "    [\n",
    "        keras.Input(shape=input_shape),\n",
    "        layers.Conv2D(32, kernel_size=(3, 3), activation=\"relu\"),\n",
    "        layers.MaxPooling2D(pool_size=(2, 2)),\n",
    "        layers.Conv2D(64, kernel_size=(3, 3), activation=\"relu\"),\n",
    "        layers.MaxPooling2D(pool_size=(2, 2)),\n",
    "        layers.Flatten(),\n",
    "        layers.Dropout(0.5),\n",
    "        layers.Dense(num_classes, activation=\"softmax\"),\n",
    "    ]\n",
    ")\n",
    "\n",
    "model.summary()"
   ]
  },
  {
   "cell_type": "code",
   "execution_count": null,
   "metadata": {},
   "outputs": [],
   "source": [
    "batch_size = 128\n",
    "epochs = 15\n",
    "\n",
    "model.compile(loss=\"categorical_crossentropy\", optimizer=\"adam\", metrics=[\"accuracy\"])\n",
    "\n",
    "model.fit(x_train, y_train, batch_size=batch_size, epochs=epochs, validation_split=0.1)"
   ]
  },
  {
   "cell_type": "code",
   "execution_count": null,
   "metadata": {},
   "outputs": [],
   "source": [
    "score = model.evaluate(x_test, y_test, verbose=0)\n",
    "print(\"Test loss:\", score[0])\n",
    "print(\"Test accuracy:\", score[1])"
   ]
  },
  {
   "cell_type": "code",
   "execution_count": null,
   "metadata": {},
   "outputs": [],
   "source": []
  }
 ],
 "metadata": {
  "kernelspec": {
   "display_name": "Python 3",
   "language": "python",
   "name": "python3"
  },
  "language_info": {
   "codemirror_mode": {
    "name": "ipython",
    "version": 3
   },
   "file_extension": ".py",
   "mimetype": "text/x-python",
   "name": "python",
   "nbconvert_exporter": "python",
   "pygments_lexer": "ipython3",
   "version": "3.7.0"
  }
 },
 "nbformat": 4,
 "nbformat_minor": 4
}
