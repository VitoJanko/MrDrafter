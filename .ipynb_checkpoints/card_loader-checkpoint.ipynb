{
 "cells": [
  {
   "cell_type": "code",
   "execution_count": 9,
   "id": "4a216a0e-1ebf-4c15-aca8-b4318e9652c7",
   "metadata": {},
   "outputs": [],
   "source": [
    "import pandas as pd"
   ]
  },
  {
   "cell_type": "code",
   "execution_count": 10,
   "id": "2cfc95a2-ed8a-4fab-8ad9-32cbd7893f6c",
   "metadata": {},
   "outputs": [],
   "source": [
    "%%capture\n",
    "cards = pd.read_csv(\"data/cards.csv\")"
   ]
  },
  {
   "cell_type": "code",
   "execution_count": 11,
   "id": "b111b458-ee43-4cf6-b725-ae605ca62351",
   "metadata": {},
   "outputs": [],
   "source": [
    "def shorten(name):\n",
    "    if \"//\" not in name:\n",
    "        return name\n",
    "    return name.split(\"//\")[0][:-1]"
   ]
  },
  {
   "cell_type": "code",
   "execution_count": 12,
   "id": "03ba8fbd-a53f-46c5-a4b3-bf4b212d89b8",
   "metadata": {},
   "outputs": [],
   "source": [
    "cards[\"name_short\"] = cards[\"name\"].apply(lambda name: shorten(name))"
   ]
  },
  {
   "cell_type": "code",
   "execution_count": 2,
   "id": "f8e745b5-dd6e-48fd-b43d-6bb7e7f55cc3",
   "metadata": {},
   "outputs": [
    {
     "ename": "NameError",
     "evalue": "name 'cards' is not defined",
     "output_type": "error",
     "traceback": [
      "\u001b[1;31m---------------------------------------------------------------------------\u001b[0m",
      "\u001b[1;31mNameError\u001b[0m                                 Traceback (most recent call last)",
      "\u001b[1;32m<ipython-input-2-6ad10611ede8>\u001b[0m in \u001b[0;36m<module>\u001b[1;34m\u001b[0m\n\u001b[1;32m----> 1\u001b[1;33m \u001b[0mcards\u001b[0m\u001b[1;33m.\u001b[0m\u001b[0mcolors\u001b[0m \u001b[1;33m=\u001b[0m \u001b[0mcards\u001b[0m\u001b[1;33m.\u001b[0m\u001b[0mcolors\u001b[0m\u001b[1;33m.\u001b[0m\u001b[0mfillna\u001b[0m\u001b[1;33m(\u001b[0m\u001b[1;34m\"\"\u001b[0m\u001b[1;33m)\u001b[0m\u001b[1;33m\u001b[0m\u001b[0m\n\u001b[0m",
      "\u001b[1;31mNameError\u001b[0m: name 'cards' is not defined"
     ]
    }
   ],
   "source": [
    "cards.colors = cards.colors.fillna(\"\")"
   ]
  }
 ],
 "metadata": {
  "kernelspec": {
   "display_name": "Python 3",
   "language": "python",
   "name": "python3"
  },
  "language_info": {
   "codemirror_mode": {
    "name": "ipython",
    "version": 3
   },
   "file_extension": ".py",
   "mimetype": "text/x-python",
   "name": "python",
   "nbconvert_exporter": "python",
   "pygments_lexer": "ipython3",
   "version": "3.7.0"
  }
 },
 "nbformat": 4,
 "nbformat_minor": 5
}
