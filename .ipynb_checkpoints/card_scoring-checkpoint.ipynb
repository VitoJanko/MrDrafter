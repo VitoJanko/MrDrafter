{
 "cells": [
  {
   "cell_type": "code",
   "execution_count": 46,
   "id": "763c1f1c-d40b-4cde-9312-0bf08abdc4e5",
   "metadata": {},
   "outputs": [],
   "source": [
    "import pandas as pd\n",
    "import math"
   ]
  },
  {
   "cell_type": "code",
   "execution_count": 4,
   "id": "46322208-221c-4e90-a2f2-30d6227eec05",
   "metadata": {},
   "outputs": [
    {
     "name": "stderr",
     "output_type": "stream",
     "text": [
      "c:\\users\\vitoj\\appdata\\local\\programs\\python\\python38\\lib\\site-packages\\IPython\\core\\interactiveshell.py:3146: DtypeWarning: Columns (9) have mixed types.Specify dtype option on import or set low_memory=False.\n",
      "  has_raised = await self.run_ast_nodes(code_ast.body, cell_name,\n"
     ]
    }
   ],
   "source": [
    "df = pd.read_csv(\"data/game_data_public.VOW.PremierDraft.csv\")"
   ]
  },
  {
   "cell_type": "code",
   "execution_count": 5,
   "id": "3aaf14c9-97a1-4cac-be91-b001d7af9164",
   "metadata": {},
   "outputs": [
    {
     "data": {
      "text/plain": [
       "(494030, 1106)"
      ]
     },
     "execution_count": 5,
     "metadata": {},
     "output_type": "execute_result"
    }
   ],
   "source": [
    "df.shape"
   ]
  },
  {
   "cell_type": "code",
   "execution_count": 42,
   "id": "607dfb13-0d00-4f38-b365-ae6ff5f0886b",
   "metadata": {},
   "outputs": [],
   "source": [
    "average_wp = df.won.sum() / len(df)"
   ]
  },
  {
   "cell_type": "code",
   "execution_count": 15,
   "id": "e2cb2d2e-4561-48b5-af54-415908b7dd22",
   "metadata": {},
   "outputs": [],
   "source": [
    "drawn_cards = df.columns[[\"drawn_\" in name for name in df.columns]]"
   ]
  },
  {
   "cell_type": "code",
   "execution_count": 21,
   "id": "9cfe38c9-6d7d-4aa4-b857-0364e30bb22c",
   "metadata": {},
   "outputs": [
    {
     "data": {
      "text/plain": [
       "0.5808695652173913"
      ]
     },
     "execution_count": 21,
     "metadata": {},
     "output_type": "execute_result"
    }
   ],
   "source": [
    "relevant = df[(df.drawn_Abrade>0) | ((df.opening_hand_Abrade>0))]\n",
    "relevant.won.sum() / len(relevant)"
   ]
  },
  {
   "cell_type": "code",
   "execution_count": 52,
   "id": "2a1a371e-02a0-416a-96c1-cdfcda03b58b",
   "metadata": {},
   "outputs": [],
   "source": [
    "def assign_grade(wp):\n",
    "    if abs(wp-average_wp) < 0.025: \n",
    "        return \"C\"\n",
    "    if wp > average_wp + 0.075:\n",
    "        return \"A\"\n",
    "    if wp > average_wp:\n",
    "        return \"B\"\n",
    "    if wp < average_wp -0.075:\n",
    "        return \"F\"\n",
    "    if wp < average_wp:\n",
    "        return \"D\""
   ]
  },
  {
   "cell_type": "code",
   "execution_count": 53,
   "id": "99d5d40c-43d1-4cf7-ad62-1e59553f054e",
   "metadata": {},
   "outputs": [],
   "source": [
    "win_rates = []\n",
    "for name in drawn_cards:\n",
    "    base_name = name.split(\"_\")[-1]\n",
    "    df[\"times_in_hand\"] = df[\"drawn_\"+base_name] + df[\"opening_hand_\"+base_name]\n",
    "    won_games = (df[\"times_in_hand\"] * df.won).sum()\n",
    "    all_games = df[\"times_in_hand\"].sum()\n",
    "    win_rate = won_games / all_games\n",
    "    win_rates.append((base_name, assign_grade(win_rate), win_rate))"
   ]
  },
  {
   "cell_type": "code",
   "execution_count": 58,
   "id": "cc85bf72-523d-4ae0-958b-b6ff58c33ffb",
   "metadata": {},
   "outputs": [],
   "source": [
    "data = pd.DataFrame(win_rates, columns = [\"name\", \"grade\", \"win_rate\"])"
   ]
  },
  {
   "cell_type": "code",
   "execution_count": 83,
   "id": "93d5b476-4e6a-47cf-a4d6-253384fb1b22",
   "metadata": {},
   "outputs": [],
   "source": [
    "%run \"card_loader.ipynb\""
   ]
  },
  {
   "cell_type": "code",
   "execution_count": 85,
   "id": "8be611bb-f110-4e92-a859-8e00b64a59fe",
   "metadata": {},
   "outputs": [],
   "source": [
    "data[\"rarity\"] = data[\"name\"].apply(lambda x: cards[cards.name_short == x].iloc[0].rarity)"
   ]
  },
  {
   "cell_type": "code",
   "execution_count": 95,
   "id": "0585693a-1641-4b1a-aade-c2e404b6ecc8",
   "metadata": {},
   "outputs": [],
   "source": [
    "data[\"colors\"] = data[\"name\"].apply(lambda x: cards[cards.name_short == x].iloc[0].colors)"
   ]
  },
  {
   "cell_type": "code",
   "execution_count": 96,
   "id": "bbef2793-5fb3-4ada-a401-d67074cdb6ac",
   "metadata": {},
   "outputs": [],
   "source": [
    "data.to_csv(\"./results/card_scores_vows.csv\")"
   ]
  },
  {
   "cell_type": "code",
   "execution_count": 90,
   "id": "f668ac70-0e4e-4d03-a086-bb15983823d6",
   "metadata": {},
   "outputs": [
    {
     "name": "stdout",
     "output_type": "stream",
     "text": [
      "A 6 7 1 0\n",
      "B 7 17 18 4\n",
      "C 6 26 36 68\n",
      "D 0 9 23 31\n",
      "F 1 6 4 2\n"
     ]
    }
   ],
   "source": [
    "for letter in [\"A\", \"B\", \"C\", \"D\", \"F\"]:\n",
    "    string = letter \n",
    "    for rarity in [\"mythic\", \"rare\", \"uncommon\", \"common\"]:\n",
    "        string += \" \"+str(sum((data[\"grade\"]==letter) & (data[\"rarity\"]==rarity)))\n",
    "    print (string)\n",
    "    \n",
    "    #print (letter, sum(data[\"grade\"]==letter) / len(data)) "
   ]
  },
  {
   "cell_type": "code",
   "execution_count": 92,
   "id": "b764bfd2-0319-4d10-b5c2-07d87f5d52dc",
   "metadata": {},
   "outputs": [
    {
     "data": {
      "text/html": [
       "<div>\n",
       "<style scoped>\n",
       "    .dataframe tbody tr th:only-of-type {\n",
       "        vertical-align: middle;\n",
       "    }\n",
       "\n",
       "    .dataframe tbody tr th {\n",
       "        vertical-align: top;\n",
       "    }\n",
       "\n",
       "    .dataframe thead th {\n",
       "        text-align: right;\n",
       "    }\n",
       "</style>\n",
       "<table border=\"1\" class=\"dataframe\">\n",
       "  <thead>\n",
       "    <tr style=\"text-align: right;\">\n",
       "      <th></th>\n",
       "      <th>name</th>\n",
       "      <th>grade</th>\n",
       "      <th>win_rate</th>\n",
       "      <th>rarity</th>\n",
       "    </tr>\n",
       "  </thead>\n",
       "  <tbody>\n",
       "    <tr>\n",
       "      <th>38</th>\n",
       "      <td>Cemetery Gatekeeper</td>\n",
       "      <td>C</td>\n",
       "      <td>0.554118</td>\n",
       "      <td>mythic</td>\n",
       "    </tr>\n",
       "    <tr>\n",
       "      <th>41</th>\n",
       "      <td>Cemetery Prowler</td>\n",
       "      <td>C</td>\n",
       "      <td>0.562850</td>\n",
       "      <td>mythic</td>\n",
       "    </tr>\n",
       "    <tr>\n",
       "      <th>43</th>\n",
       "      <td>Chandra, Dressed to Kill</td>\n",
       "      <td>C</td>\n",
       "      <td>0.530933</td>\n",
       "      <td>mythic</td>\n",
       "    </tr>\n",
       "    <tr>\n",
       "      <th>58</th>\n",
       "      <td>Cultivator Colossus</td>\n",
       "      <td>C</td>\n",
       "      <td>0.538260</td>\n",
       "      <td>mythic</td>\n",
       "    </tr>\n",
       "    <tr>\n",
       "      <th>114</th>\n",
       "      <td>Hallowed Haunting</td>\n",
       "      <td>C</td>\n",
       "      <td>0.560033</td>\n",
       "      <td>mythic</td>\n",
       "    </tr>\n",
       "    <tr>\n",
       "      <th>201</th>\n",
       "      <td>Savior of Ollenbock</td>\n",
       "      <td>C</td>\n",
       "      <td>0.565003</td>\n",
       "      <td>mythic</td>\n",
       "    </tr>\n",
       "  </tbody>\n",
       "</table>\n",
       "</div>"
      ],
      "text/plain": [
       "                         name grade  win_rate  rarity\n",
       "38        Cemetery Gatekeeper     C  0.554118  mythic\n",
       "41           Cemetery Prowler     C  0.562850  mythic\n",
       "43   Chandra, Dressed to Kill     C  0.530933  mythic\n",
       "58        Cultivator Colossus     C  0.538260  mythic\n",
       "114         Hallowed Haunting     C  0.560033  mythic\n",
       "201       Savior of Ollenbock     C  0.565003  mythic"
      ]
     },
     "execution_count": 92,
     "metadata": {},
     "output_type": "execute_result"
    }
   ],
   "source": [
    "data[(data[\"grade\"]==\"C\") & (data[\"rarity\"]==\"mythic\")]"
   ]
  },
  {
   "cell_type": "code",
   "execution_count": null,
   "id": "b52b33a2-ab3a-45ce-8bc0-17679f5f1711",
   "metadata": {},
   "outputs": [],
   "source": [
    "data.to"
   ]
  },
  {
   "cell_type": "code",
   "execution_count": 54,
   "id": "26fa6374-15b8-4186-90d7-59268c87da6e",
   "metadata": {},
   "outputs": [
    {
     "data": {
      "text/plain": [
       "[('Toxrill, the Corrosive', 'A', 0.6751697559185171),\n",
       " ('Halana and Alena, Partners', 'A', 0.6720264317180616),\n",
       " ('Wedding Announcement', 'A', 0.6668845315904139),\n",
       " ('Dreadfeast Demon', 'A', 0.6646982838162022),\n",
       " ('Avabruck Caretaker', 'A', 0.6606929510155317),\n",
       " ('Henrika Domnathi', 'A', 0.6598257502420135),\n",
       " ('Katilda, Dawnhart Martyr', 'A', 0.6489242631513493),\n",
       " ('Cemetery Desecrator', 'A', 0.6398505114083399),\n",
       " ('Volatile Arsonist', 'A', 0.6358595194085028),\n",
       " ('Anje, Maid of Dishonor', 'A', 0.6348399653979239),\n",
       " ('Sorin the Mirthless', 'A', 0.6325036603221084),\n",
       " ('Dreamshackle Geist', 'A', 0.626878488621726),\n",
       " ('Welcoming Vampire', 'A', 0.6253035734936973),\n",
       " ('Bloodtithe Harvester', 'A', 0.6225484942664238),\n",
       " ('Hullbreaker Horror', 'B', 0.6213887480993411),\n",
       " ('Bloodvial Purveyor', 'B', 0.617231207405147),\n",
       " ('Voldaren Bloodcaster', 'B', 0.6139846743295019),\n",
       " ('Faithbound Judge', 'B', 0.6119041858214372),\n",
       " ('Stensia Uprising', 'B', 0.6115942028985507),\n",
       " ('Edgar, Charmed Groom', 'B', 0.6107454828287663),\n",
       " ('Manaform Hellkite', 'B', 0.604297440849831),\n",
       " ('Brine Comber', 'B', 0.6003578884580972),\n",
       " ('Glorious Sunrise', 'B', 0.599813059153425),\n",
       " ('Biolume Egg', 'B', 0.5996397117694156),\n",
       " ('Geralf, Visionary Stitcher', 'B', 0.5995103539732735),\n",
       " ('Concealing Curtains', 'B', 0.5972372113101662),\n",
       " ('Ill-Tempered Loner', 'B', 0.5939086294416244),\n",
       " ('Wandering Mind', 'B', 0.5922749634357133),\n",
       " ('Necroduality', 'B', 0.5913214990138067),\n",
       " (\"Olivia's Attendants\", 'B', 0.5911398246423627),\n",
       " ('Parasitic Grasp', 'B', 0.5910808279781703),\n",
       " ('Overcharged Amalgam', 'B', 0.5906918525261721),\n",
       " ('Lunar Rejection', 'B', 0.5903599451986549),\n",
       " ('Alluring Suitor', 'B', 0.5877437325905293),\n",
       " ('Diver Skaab', 'B', 0.5868970344915362),\n",
       " ('Rending Flame', 'B', 0.5868136313075134),\n",
       " ('Ulvenwald Oddity', 'B', 0.5858377933305887),\n",
       " ('Voltaic Visionary', 'B', 0.5839115133232781),\n",
       " ('Markov Purifier', 'B', 0.5838601506239349),\n",
       " ('Valorous Stance', 'B', 0.5826553419758606),\n",
       " ('Old Rutstein', 'B', 0.5823948517582165),\n",
       " ('Abrade', 'B', 0.5810472054513999),\n",
       " ('Howlpack Piper', 'B', 0.58075810625666),\n",
       " ('Flame-Blessed Bolt', 'B', 0.5800641778902649),\n",
       " ('Angelic Quartermaster', 'B', 0.5797539099472664),\n",
       " (\"Vampires' Vengeance\", 'B', 0.5790785969286564),\n",
       " ('Fell Stinger', 'B', 0.5789295278126165),\n",
       " ('Cemetery Illuminator', 'B', 0.578883788354675),\n",
       " ('Cemetery Protector', 'B', 0.5766745005875441),\n",
       " ('Jacob Hauken, Inspector', 'B', 0.5764879488440728),\n",
       " ('Traveling Minister', 'B', 0.576336131770466),\n",
       " ('Infestation Expert', 'B', 0.5753716630255236),\n",
       " ('Olivia, Crimson Bride', 'B', 0.5752713544124587),\n",
       " ('Bleed Dry', 'B', 0.5747005012249669),\n",
       " ('Bramble Wurm', 'B', 0.5745282601970922),\n",
       " ('Mirrorhall Mimic', 'B', 0.5740210124164279),\n",
       " (\"Hero's Downfall\", 'B', 0.5738594689746223),\n",
       " ('Stormchaser Drake', 'B', 0.5722825470091938),\n",
       " ('Thirst for Discovery', 'B', 0.5721800116890707),\n",
       " ('Headless Rider', 'B', 0.5721014492753623),\n",
       " ('Falkenrath Forebear', 'C', 0.5711601690934711),\n",
       " ('By Invitation Only', 'C', 0.5710078972025164),\n",
       " ('Voice of the Blessed', 'C', 0.5707231602421153),\n",
       " ('Dormant Grove', 'C', 0.5702015864194412),\n",
       " ('Dollhouse of Horrors', 'C', 0.5701225846665281),\n",
       " ('Packsong Pup', 'C', 0.569701970682458),\n",
       " ('Vilespawn Spider', 'C', 0.5681159420289855),\n",
       " ('Lantern Bearer', 'C', 0.5677235647221794),\n",
       " ('Markov Waltzer', 'C', 0.5674795390011692),\n",
       " ('Diregraf Scavenger', 'C', 0.5674197412843814),\n",
       " ('Circle of Confinement', 'C', 0.5669862772695285),\n",
       " ('Hiveheart Shaman', 'C', 0.5666371345399317),\n",
       " (\"Sigarda's Imprisonment\", 'C', 0.5665998229544921),\n",
       " ('Creepy Puppeteer', 'C', 0.5663246383978242),\n",
       " ('Falkenrath Celebrants', 'C', 0.5661389857794473),\n",
       " ('Skull Skaab', 'C', 0.5651595112442352),\n",
       " ('Savior of Ollenbock', 'C', 0.5650030807147258),\n",
       " ('Torens, Fist of the Angels', 'C', 0.5648198939477053),\n",
       " ('Resistance Squad', 'C', 0.5643198362147407),\n",
       " ('Ascendant Packleader', 'C', 0.5641891891891891),\n",
       " ('Fierce Retribution', 'C', 0.5636737034912764),\n",
       " ('Lantern Flare', 'C', 0.5631925936316454),\n",
       " ('Cemetery Prowler', 'C', 0.5628500311138768),\n",
       " ('Geistlight Snare', 'C', 0.562763172869011),\n",
       " ('Kindly Ancestor', 'C', 0.5625911582759141),\n",
       " ('Scattered Thoughts', 'C', 0.5622961363531952),\n",
       " ('Twinblade Geist', 'C', 0.5616425527929952),\n",
       " ('Ballista Watcher', 'C', 0.5604750088621057),\n",
       " ('Hopeful Initiate', 'C', 0.5603883495145631),\n",
       " ('Hallowed Haunting', 'C', 0.5600328947368421),\n",
       " ('Fleeting Spirit', 'C', 0.5599962117624775),\n",
       " ('Child of the Pack', 'C', 0.5596990151598982),\n",
       " ('Bloodcrazed Socialite', 'C', 0.5595566945119314),\n",
       " ('Panicked Bystander', 'C', 0.5594485076101996),\n",
       " ('Kessig Wolfrider', 'C', 0.5592115014080332),\n",
       " ('Pointed Discussion', 'C', 0.5588405268120571),\n",
       " ('Eruth, Tormented Prophet', 'C', 0.5587404117884538),\n",
       " ('Wedding Invitation', 'C', 0.5585294293754866),\n",
       " ('Nurturing Presence', 'C', 0.5573551125876707),\n",
       " ('Heron of Hope', 'C', 0.5564540225591992),\n",
       " ('Restless Bloodseeker', 'C', 0.5562635297961851),\n",
       " ('Syncopate', 'C', 0.5557474365893146),\n",
       " ('Reclusive Taxidermist', 'C', 0.5554778045047015),\n",
       " ('Dorothea, Vengeful Victim', 'C', 0.5554620079983161),\n",
       " ('Syphon Essence', 'C', 0.5552537052129554),\n",
       " ('Wolf Strike', 'C', 0.5550534742635562),\n",
       " ('Chill of the Grave', 'C', 0.5547567125528146),\n",
       " ('Voldaren Epicure', 'C', 0.5542026708562451),\n",
       " ('Cemetery Gatekeeper', 'C', 0.5541180183023036),\n",
       " ('Ancestral Anger', 'C', 0.5538579720040969),\n",
       " ('Flourishing Hunter', 'C', 0.5538348775583078),\n",
       " ('Ancient Lumberknot', 'C', 0.5521720430107527),\n",
       " ('Undead Butler', 'C', 0.5519581805151553),\n",
       " ('Whispering Wizard', 'C', 0.5516025496134894),\n",
       " ('Stormcarved Coast', 'C', 0.5500886524822695),\n",
       " ('Cruel Witness', 'C', 0.5492015688471775),\n",
       " ('Markov Retribution', 'C', 0.5484375),\n",
       " ('Rot-Tide Gargantua', 'C', 0.5482949009418643),\n",
       " ('Weaver of Blossoms', 'C', 0.5482435033686237),\n",
       " ('Hookhand Mariner', 'C', 0.5477935562681325),\n",
       " ('Catapult Fodder', 'C', 0.5468079892170077),\n",
       " ('Gluttonous Guest', 'C', 0.5467993117110344),\n",
       " ('Drogskol Infantry', 'C', 0.5463562722613805),\n",
       " ('Desperate Farmer', 'C', 0.5458298543464143),\n",
       " ('Cradle of Safety', 'C', 0.545769097689439),\n",
       " ('Grisly Ritual', 'C', 0.5454545454545454),\n",
       " ('Inspired Idea', 'C', 0.5450420168067227),\n",
       " ('Sigardian Paladin', 'C', 0.5448269513991163),\n",
       " ('Undying Malice', 'C', 0.5446612838987653),\n",
       " ('Evolving Wilds', 'C', 0.5445782513141492),\n",
       " ('Dominating Vampire', 'C', 0.5441203116506613),\n",
       " ('Spore Crawler', 'C', 0.5439546415809815),\n",
       " ('Reckless Impulse', 'C', 0.5437361890192078),\n",
       " ('Howling Moon', 'C', 0.5435779816513762),\n",
       " ('Kessig Flamebreather', 'C', 0.5433966690124326),\n",
       " ('Grolnok, the Omnivore', 'C', 0.5429951690821256),\n",
       " (\"Alchemist's Retrieval\", 'C', 0.5429547865027301),\n",
       " ('Wretched Throng', 'C', 0.5428396987992673),\n",
       " ('Ragged Recluse', 'C', 0.5426998948735391),\n",
       " ('Courier Bat', 'C', 0.5423705722070845),\n",
       " ('Voldaren Estate', 'C', 0.542319749216301),\n",
       " ('Path of Peril', 'C', 0.5423190378942592),\n",
       " ('Sanguine Statuette', 'C', 0.5419497671577983),\n",
       " ('Gift of Fangs', 'C', 0.5419475305760433),\n",
       " ('Doomed Dissenter', 'C', 0.5418941288345719),\n",
       " ('Sundown Pass', 'C', 0.5416666666666666),\n",
       " ('Fearful Villager', 'C', 0.5415319227570914),\n",
       " ('Swamp', 'C', 0.5410143249486796),\n",
       " ('Wolfkin Outcast', 'C', 0.5406333234684818),\n",
       " ('Mountain', 'C', 0.5403352636699845),\n",
       " ('Island', 'C', 0.5402710858930561),\n",
       " ('Heron-Blessed Geist', 'C', 0.5397077703735403),\n",
       " ('Blood Petal Celebrant', 'C', 0.5395992988454128),\n",
       " ('Bloody Betrayal', 'C', 0.5388008270158512),\n",
       " ('Hungry Ridgewolf', 'C', 0.5385298185496357),\n",
       " ('Cultivator Colossus', 'C', 0.5382599580712788),\n",
       " ('Innocent Traveler', 'C', 0.538121546961326),\n",
       " ('Repository Skaab', 'C', 0.537987449574182),\n",
       " ('Cobbled Lancer', 'C', 0.537862038470042),\n",
       " ('Stitched Assistant', 'C', 0.537541409257767),\n",
       " ('Foreboding Statue', 'C', 0.5373705423192694),\n",
       " (\"Witch's Web\", 'C', 0.5358638743455497),\n",
       " ('Belligerent Guest', 'C', 0.5352249478187191),\n",
       " ('Massive Might', 'C', 0.5349878345498783),\n",
       " ('Hamlet Vanguard', 'C', 0.5347316193053676),\n",
       " ('Archghoul of Thraben', 'C', 0.5346959516684546),\n",
       " ('Blood Fountain', 'C', 0.5345907073213282),\n",
       " ('Blood Hypnotist', 'C', 0.5341113105924596),\n",
       " ('Plains', 'C', 0.5338829948469234),\n",
       " ('Runebound Wolf', 'C', 0.533375278842304),\n",
       " ('Dreamroot Cascade', 'C', 0.5327683615819209),\n",
       " ('Gutter Skulker', 'C', 0.5327173913043478),\n",
       " ('Sporeback Wolf', 'C', 0.5322021931469674),\n",
       " ('Sure Strike', 'C', 0.5312562412622329),\n",
       " ('Chandra, Dressed to Kill', 'C', 0.530932594644506),\n",
       " ('Shattered Sanctum', 'C', 0.530636292223095),\n",
       " ('Oakshade Stalker', 'C', 0.5303311258278146),\n",
       " ('Adamant Will', 'C', 0.529186262498518),\n",
       " ('Odric, Blood-Cursed', 'C', 0.5288808664259927),\n",
       " ('Binding Geist', 'C', 0.5286986890722276),\n",
       " ('Snarling Wolf', 'C', 0.5285731943471633),\n",
       " ('Steelclad Spirit', 'C', 0.5283304574426876),\n",
       " ('Deathcap Glade', 'C', 0.528084493518963),\n",
       " ('Mischievous Catgeist', 'C', 0.527250682024856),\n",
       " ('Mindleech Ghoul', 'C', 0.526807038065994),\n",
       " ('Sawblade Slinger', 'C', 0.5264231096006797),\n",
       " ('Forest', 'C', 0.5262774962634768),\n",
       " ('Persistent Specimen', 'C', 0.525835249560395),\n",
       " ('Parish-Blade Trainee', 'C', 0.5253485579868172),\n",
       " ('Rural Recruit', 'C', 0.5251442329532549),\n",
       " ('Apprentice Sharpshooter', 'C', 0.5240921787709497),\n",
       " ('Gryff Rider', 'C', 0.524041472409714),\n",
       " ('Wedding Security', 'C', 0.5238406658739596),\n",
       " ('Magma Pummeler', 'C', 0.5231950234928198),\n",
       " ('Skulking Killer', 'C', 0.5227039243887405),\n",
       " ('Piercing Light', 'C', 0.5227030937486702),\n",
       " ('Lacerate Flesh', 'D', 0.5215735391851133),\n",
       " ('Spiked Ripsaw', 'D', 0.5215686274509804),\n",
       " ('Witness the Future', 'D', 0.5214334705075446),\n",
       " ('Skywarp Skaab', 'D', 0.5213912416651649),\n",
       " (\"Investigator's Journal\", 'D', 0.5208),\n",
       " ('Dawnhart Disciple', 'D', 0.5203111026801441),\n",
       " ('Selhoff Entomber', 'D', 0.5199617956064947),\n",
       " ('Lambholt Raconteur', 'D', 0.5197517294885886),\n",
       " ('Pyre Spawn', 'D', 0.5192761006767547),\n",
       " ('Nebelgast Beguiler', 'D', 0.5191193511008111),\n",
       " ('Runo Stromkirk', 'D', 0.5186311787072243),\n",
       " ('Graf Reaver', 'D', 0.5182887001959504),\n",
       " ('Fear of Death', 'D', 0.5178155648063218),\n",
       " (\"Edgar's Awakening\", 'D', 0.5170343932511356),\n",
       " ('Screaming Swarm', 'D', 0.5167326546003017),\n",
       " ('Vampire Slayer', 'D', 0.5165080008102086),\n",
       " ('Distracting Geist', 'D', 0.5164277559304833),\n",
       " ('Gryffwing Cavalry', 'D', 0.5161642078255292),\n",
       " ('Toxic Scorpion', 'D', 0.516064139941691),\n",
       " ('Dig Up', 'D', 0.5148063781321185),\n",
       " ('Wash Away', 'D', 0.5145916076670696),\n",
       " ('Moldgraf Millipede', 'D', 0.5126906891109942),\n",
       " ('Thalia, Guardian of Thraben', 'D', 0.512675418741512),\n",
       " ('Lightning Wolf', 'D', 0.5113230035756854),\n",
       " ('Dawnhart Geist', 'D', 0.5111987603887872),\n",
       " ('Militia Rallier', 'D', 0.5111235595390525),\n",
       " ('Cloaked Cadet', 'D', 0.5091846600064454),\n",
       " ('Lantern of the Lost', 'D', 0.5074626865671642),\n",
       " ('Aim for the Head', 'D', 0.5064102564102564),\n",
       " ('Soulcipher Board', 'D', 0.5060449050086355),\n",
       " ('Serpentine Ambush', 'D', 0.505550193050193),\n",
       " ('Unhallowed Phalanx', 'D', 0.5052016985138005),\n",
       " ('Daybreak Combatants', 'D', 0.5051807760141094),\n",
       " ('Mulch', 'D', 0.50472179683512),\n",
       " ('Wanderlight Spirit', 'D', 0.5039491941509232),\n",
       " ('Honeymoon Hearse', 'D', 0.5033098882912702),\n",
       " ('Estwald Shieldbasher', 'D', 0.5026393417171247),\n",
       " ('Dreadlight Monstrosity', 'D', 0.5014157228514324),\n",
       " ('Sheltering Boughs', 'D', 0.5003403675970047),\n",
       " ('Crushing Canopy', 'D', 0.4999030444056622),\n",
       " ('Crawling Infestation', 'D', 0.49825783972125437),\n",
       " ('Unholy Officiant', 'D', 0.4958933829226716),\n",
       " ('Blood Servitor', 'D', 0.4957287082578307),\n",
       " ('Ollenbock Escort', 'D', 0.49561927518916765),\n",
       " ('Weary Prisoner', 'D', 0.4948779320248923),\n",
       " ('Supernatural Rescue', 'D', 0.49452154857560265),\n",
       " ('Ceremonial Knife', 'D', 0.4944688874921433),\n",
       " ('Arm the Cathars', 'D', 0.493560448691317),\n",
       " ('Honored Heirloom', 'D', 0.49197163583014103),\n",
       " (\"Sigarda's Summons\", 'D', 0.49161676646706587),\n",
       " ('Retrieve', 'D', 0.49118046132971505),\n",
       " ('Bloodsworn Squire', 'D', 0.49087856743144936),\n",
       " (\"Vampire's Kiss\", 'D', 0.49045728192647625),\n",
       " ('Frenzied Devils', 'D', 0.4894009216589862),\n",
       " ('Winged Portent', 'D', 0.48788198103266595),\n",
       " (\"Groom's Finery\", 'D', 0.48634453781512604),\n",
       " (\"Alchemist's Gambit\", 'D', 0.48518204911092294),\n",
       " ('Demonic Bargain', 'D', 0.4827586206896552),\n",
       " ('Dread Fugue', 'D', 0.48166786484543495),\n",
       " (\"Nature's Embrace\", 'D', 0.47841306884480744),\n",
       " ('Bramble Armor', 'D', 0.47716477895506026),\n",
       " ('Radiant Grace', 'D', 0.47675879396984927),\n",
       " ('Into the Night', 'D', 0.47244094488188976),\n",
       " ('End the Festivities', 'F', 0.47055176689398637),\n",
       " ('Curse of Hospitality', 'F', 0.46895137668424136),\n",
       " ('Patchwork Crawler', 'F', 0.4676056338028169),\n",
       " ('Dying to Serve', 'F', 0.46618433469644543),\n",
       " (\"Bride's Gown\", 'F', 0.46612576064908723),\n",
       " ('Kaya, Geist Hunter', 'F', 0.464327485380117),\n",
       " (\"Cartographer's Survey\", 'F', 0.4472630173564753),\n",
       " ('Consuming Tide', 'F', 0.44154676258992803),\n",
       " ('Sanctify', 'F', 0.4383561643835616),\n",
       " ('Laid to Rest', 'F', 0.436702649656526),\n",
       " ('Boarded Window', 'F', 0.43618167821401077),\n",
       " ('Change of Fortune', 'F', 0.38392857142857145),\n",
       " ('Splendid Reclamation', 'F', 0.3484848484848485)]"
      ]
     },
     "execution_count": 54,
     "metadata": {},
     "output_type": "execute_result"
    }
   ],
   "source": [
    "sorted(win_rates, key=lambda x: -x[2])"
   ]
  },
  {
   "cell_type": "code",
   "execution_count": 10,
   "id": "1ff7cf09-a2df-466f-861e-872bddeb4701",
   "metadata": {},
   "outputs": [
    {
     "data": {
      "text/plain": [
       "array(['user', 'draft', 'build', 'expansion', 'event', 'game', 'rank',\n",
       "       'opp', 'main', 'splash', 'on', 'num', 'won', 'opening', 'drawn',\n",
       "       'deck', 'sideboard'], dtype=object)"
      ]
     },
     "execution_count": 10,
     "metadata": {},
     "output_type": "execute_result"
    }
   ],
   "source": [
    "pd.Series(df.columns).apply(lambda x: x.split(\"_\")[0] ).unique()"
   ]
  }
 ],
 "metadata": {
  "kernelspec": {
   "display_name": "Python 3",
   "language": "python",
   "name": "python3"
  },
  "language_info": {
   "codemirror_mode": {
    "name": "ipython",
    "version": 3
   },
   "file_extension": ".py",
   "mimetype": "text/x-python",
   "name": "python",
   "nbconvert_exporter": "python",
   "pygments_lexer": "ipython3",
   "version": "3.8.7"
  }
 },
 "nbformat": 4,
 "nbformat_minor": 5
}
