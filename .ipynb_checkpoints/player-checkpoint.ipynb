{
 "cells": [
  {
   "cell_type": "code",
   "execution_count": 11,
   "id": "4d1fff73-a083-4955-a851-4473254829e2",
   "metadata": {},
   "outputs": [],
   "source": [
    "import random\n",
    "from collections import defaultdict\n",
    "import numpy as np"
   ]
  },
  {
   "cell_type": "code",
   "execution_count": 3,
   "id": "4341ab4b-431e-4440-b524-9eefee5a5ae2",
   "metadata": {},
   "outputs": [],
   "source": [
    "class Player():\n",
    "    \n",
    "    cards_picked = None\n",
    "    \n",
    "    def __init__(self):\n",
    "        self.cards_picked = []\n",
    "    \n",
    "    def pick(self, cards):\n",
    "        pick = cards[0]\n",
    "        self.cards_picked.append(pick)\n",
    "        return pick\n",
    "    \n",
    "    def pre_pick(self, cards):\n",
    "        pass\n",
    "    \n",
    "    def post_pick(self, cards, pick):\n",
    "        pass"
   ]
  },
  {
   "cell_type": "code",
   "execution_count": 4,
   "id": "00a5db60-a2b2-4c31-a737-5ecd3cdead92",
   "metadata": {},
   "outputs": [],
   "source": [
    "class Dummy(Player):\n",
    "    \n",
    "    def post_pick(self, cards, pick):\n",
    "        print(cards, pick)"
   ]
  },
  {
   "cell_type": "code",
   "execution_count": 7,
   "id": "d8f9f889-1e1f-469e-977f-f355e7117104",
   "metadata": {},
   "outputs": [],
   "source": [
    "class Random(Player):\n",
    "    \n",
    "    def pick(self, cards):\n",
    "        pick = random.choice(cards)\n",
    "        self.cards_picked.append(pick)\n",
    "        return pick"
   ]
  },
  {
   "cell_type": "code",
   "execution_count": null,
   "id": "8459dac3-f5e6-4a14-b796-4b0aa7337e45",
   "metadata": {},
   "outputs": [],
   "source": [
    "class ColorPicker(Player):\n",
    "    \n",
    "    grades = None\n",
    "    colors = None\n",
    "    \n",
    "    def __init__(self, grades, colors):\n",
    "        self.cards_picked = []\n",
    "        self.grades = grades\n",
    "        self.colors = colors\n",
    "    \n",
    "    def pick(self, cards):\n",
    "        color1 = self.colors[0]\n",
    "        color2 = self.colors[1]\n",
    "        options1 = [(card, self.grades.loc[card].win_rate) for card in cards if color1 in self.grades.loc[card].colors]\n",
    "        options2 = [(card, self.grades.loc[card].win_rate) for card in cards if color2 in self.grades.loc[card].colors]\n",
    "        options = options1 + options2\n",
    "        if len(options) >0:\n",
    "            pick = sorted(options, key = lambda x: -x[1])[0][0]\n",
    "            #print(pick)\n",
    "        else:\n",
    "            pick = random.choice(cards)\n",
    "        \n",
    "        self.cards_picked.append(pick)\n",
    "        return pick\n",
    "        \n",
    "    "
   ]
  },
  {
   "cell_type": "code",
   "execution_count": 22,
   "id": "08a0037e-65be-4ea4-8114-b1313c37d862",
   "metadata": {},
   "outputs": [],
   "source": [
    "class DynamicColorPicker(Player):\n",
    "    \n",
    "    grades = None\n",
    "    colors = None\n",
    "    cards_by_color = None \n",
    "    \n",
    "    def __init__(self, grades):\n",
    "        self.cards_picked = []\n",
    "        self.grades = grades\n",
    "        self.cards_by_color = defaultdict(list)\n",
    "    \n",
    "    def pick(self, cards):\n",
    "        \n",
    "        #print(self.cards_by_color)\n",
    "        colors = []\n",
    "        for key, card_list in self.cards_by_color.items():\n",
    "            avg_quality = np.array([self.grades.loc[card].win_rate for card in card_list]).mean() + len(card_list) * 0.006\n",
    "            colors.append((key, avg_quality))\n",
    "        colors = sorted(colors, key = lambda x: -x[1])\n",
    "        options = []\n",
    "        if len(colors) >= 2: \n",
    "            color1 = colors[0][0]\n",
    "            color2 = colors[1][0]\n",
    "            options1 = [(card, self.grades.loc[card].win_rate) for card in cards if color1 in self.grades.loc[card].colors]\n",
    "            options2 = [(card, self.grades.loc[card].win_rate) for card in cards if color2 in self.grades.loc[card].colors]\n",
    "            options = options1 + options2\n",
    "        \n",
    "        if len(self.cards_picked) < 5 or len(options) == 0:\n",
    "            all_cards = [(card, self.grades.loc[card].win_rate) for card in cards]\n",
    "            pick = sorted(all_cards, key = lambda x: -x[1])[0][0]\n",
    "        else:\n",
    "            #print(\"Options: \", options)\n",
    "            pick = sorted(options, key = lambda x: -x[1])[0][0]\n",
    "        \n",
    "        picked_color = self.grades.loc[pick].colors\n",
    "        if len(picked_color) > 0:\n",
    "            picked_color = picked_color[0]\n",
    "        else:\n",
    "            picked_color = \"A\"\n",
    "        self.cards_by_color[picked_color].append(pick)\n",
    "        self.cards_picked.append(pick)\n",
    "        return pick\n",
    "        \n",
    "    "
   ]
  }
 ],
 "metadata": {
  "kernelspec": {
   "display_name": "Python 3",
   "language": "python",
   "name": "python3"
  },
  "language_info": {
   "codemirror_mode": {
    "name": "ipython",
    "version": 3
   },
   "file_extension": ".py",
   "mimetype": "text/x-python",
   "name": "python",
   "nbconvert_exporter": "python",
   "pygments_lexer": "ipython3",
   "version": "3.7.0"
  }
 },
 "nbformat": 4,
 "nbformat_minor": 5
}
