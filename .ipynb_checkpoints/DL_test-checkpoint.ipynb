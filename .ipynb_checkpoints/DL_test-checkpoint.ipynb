{
 "cells": [
  {
   "cell_type": "code",
   "execution_count": 1,
   "metadata": {},
   "outputs": [],
   "source": [
    "import tensorflow as tf\n",
    "from tensorflow import keras\n",
    "from tensorflow.keras import layers\n",
    "from tensorflow.keras import regularizers\n",
    "import numpy as np\n",
    "import pandas as pd"
   ]
  },
  {
   "cell_type": "code",
   "execution_count": 2,
   "metadata": {},
   "outputs": [],
   "source": []
  },
  {
   "cell_type": "code",
   "execution_count": 3,
   "metadata": {},
   "outputs": [],
   "source": [
    "relevant_drafts = pd.read_csv(\"./data/VOW_prepared.csv\", index_col=0, nrows = 1000000)"
   ]
  },
  {
   "cell_type": "code",
   "execution_count": 21,
   "metadata": {},
   "outputs": [],
   "source": [
    "x = relevant_drafts[list(relevant_drafts.columns[14:]) +['pack_number']]\n",
    "y = relevant_drafts[\"pick\"]"
   ]
  },
  {
   "cell_type": "code",
   "execution_count": 5,
   "metadata": {},
   "outputs": [],
   "source": [
    "card_names = [c.split(\"_\")[1] for c in relevant_drafts.columns if \"pool_\" in c]"
   ]
  },
  {
   "cell_type": "code",
   "execution_count": 6,
   "metadata": {},
   "outputs": [],
   "source": [
    "pick_names = [c for c in relevant_drafts.columns if \"pack_card_\" in c]"
   ]
  },
  {
   "cell_type": "code",
   "execution_count": 7,
   "metadata": {},
   "outputs": [],
   "source": [
    "deck_type = [\"One\", \"Two\", \"Three\", \"Four\", \"Five\", \"Six\", \"R\", \"G\", \"B\", \"A\", \"U\", \"W\"]\n"
   ]
  },
  {
   "cell_type": "code",
   "execution_count": 8,
   "metadata": {},
   "outputs": [],
   "source": [
    "x = x[pick_names + deck_type]"
   ]
  },
  {
   "cell_type": "code",
   "execution_count": 22,
   "metadata": {},
   "outputs": [],
   "source": [
    "y_index = [card_names.index(y_name) for y_name in y]\n",
    "y = keras.utils.to_categorical(y_index, len(card_names))"
   ]
  },
  {
   "cell_type": "code",
   "execution_count": 23,
   "metadata": {},
   "outputs": [],
   "source": [
    "threshold_valid = int(len(x) * 0.8)\n",
    "threshold_test = int(len(x) * 0.9)\n",
    "x_train = x[:threshold_valid]\n",
    "x_valid = x[threshold_valid:threshold_test]\n",
    "\n",
    "x_test = x[threshold_test:]\n",
    "y_train = y[:threshold_valid]\n",
    "y_valid = y[threshold_valid:threshold_test]\n",
    "y_test = y[threshold_test:]"
   ]
  },
  {
   "cell_type": "code",
   "execution_count": 24,
   "metadata": {},
   "outputs": [],
   "source": [
    "size = len(card_names)\n",
    "input_size = len(x.columns)"
   ]
  },
  {
   "cell_type": "code",
   "execution_count": 25,
   "metadata": {},
   "outputs": [
    {
     "data": {
      "text/plain": [
       "557"
      ]
     },
     "execution_count": 25,
     "metadata": {},
     "output_type": "execute_result"
    }
   ],
   "source": [
    "input_size"
   ]
  },
  {
   "cell_type": "code",
   "execution_count": 26,
   "metadata": {},
   "outputs": [
    {
     "name": "stdout",
     "output_type": "stream",
     "text": [
      "Model: \"sequential_1\"\n",
      "_________________________________________________________________\n",
      " Layer (type)                Output Shape              Param #   \n",
      "=================================================================\n",
      " dense_3 (Dense)             (None, 1360)              758880    \n",
      "                                                                 \n",
      " dense_4 (Dense)             (None, 1360)              1850960   \n",
      "                                                                 \n",
      " dense_5 (Dense)             (None, 1360)              1850960   \n",
      "                                                                 \n",
      " dense_6 (Dense)             (None, 272)               370192    \n",
      "                                                                 \n",
      "=================================================================\n",
      "Total params: 4,830,992\n",
      "Trainable params: 4,830,992\n",
      "Non-trainable params: 0\n",
      "_________________________________________________________________\n"
     ]
    }
   ],
   "source": [
    "model = keras.Sequential(\n",
    "    [\n",
    "        keras.Input(shape=(input_size)),\n",
    "        layers.Dense(5*size, activation=\"relu\", kernel_regularizer=regularizers.l2(0.001)),\n",
    "        layers.Dense(5*size, activation=\"relu\", kernel_regularizer=regularizers.l2(0.001)),\n",
    "        layers.Dense(5*size, activation=\"relu\", kernel_regularizer=regularizers.l2(0.001)),\n",
    "        layers.Dense(size, activation=\"softmax\"),\n",
    "    ]\n",
    ")\n",
    "\n",
    "model.summary()"
   ]
  },
  {
   "cell_type": "code",
   "execution_count": 27,
   "metadata": {},
   "outputs": [
    {
     "data": {
      "text/plain": [
       "6250.0"
      ]
     },
     "execution_count": 27,
     "metadata": {},
     "output_type": "execute_result"
    }
   ],
   "source": [
    "x_train.shape[0] / 128"
   ]
  },
  {
   "cell_type": "code",
   "execution_count": 28,
   "metadata": {},
   "outputs": [
    {
     "data": {
      "text/plain": [
       "(800000, 272)"
      ]
     },
     "execution_count": 28,
     "metadata": {},
     "output_type": "execute_result"
    }
   ],
   "source": [
    "y_train.shape"
   ]
  },
  {
   "cell_type": "code",
   "execution_count": null,
   "metadata": {},
   "outputs": [
    {
     "name": "stdout",
     "output_type": "stream",
     "text": [
      "Epoch 1/60\n",
      "6250/6250 [==============================] - 302s 47ms/step - loss: 3.5958 - accuracy: 0.3015 - val_loss: 2.8762 - val_accuracy: 0.4586\n",
      "Epoch 2/60\n",
      "6250/6250 [==============================] - 288s 46ms/step - loss: 2.6234 - accuracy: 0.4991 - val_loss: 2.4976 - val_accuracy: 0.5168\n",
      "Epoch 3/60\n",
      "6250/6250 [==============================] - 290s 46ms/step - loss: 2.3204 - accuracy: 0.5439 - val_loss: 2.2712 - val_accuracy: 0.5449\n",
      "Epoch 4/60\n",
      "6250/6250 [==============================] - 291s 47ms/step - loss: 2.1540 - accuracy: 0.5629 - val_loss: 2.1239 - val_accuracy: 0.5652\n",
      "Epoch 5/60\n",
      "6250/6250 [==============================] - 291s 46ms/step - loss: 2.0486 - accuracy: 0.5744 - val_loss: 2.0476 - val_accuracy: 0.5702\n",
      "Epoch 6/60\n",
      "6250/6250 [==============================] - 291s 47ms/step - loss: 1.9655 - accuracy: 0.5830 - val_loss: 1.9745 - val_accuracy: 0.5793\n",
      "Epoch 7/60\n",
      "6250/6250 [==============================] - 291s 47ms/step - loss: 1.8983 - accuracy: 0.5898 - val_loss: 1.9227 - val_accuracy: 0.5810\n",
      "Epoch 8/60\n",
      "6250/6250 [==============================] - 291s 47ms/step - loss: 1.8470 - accuracy: 0.5946 - val_loss: 1.8539 - val_accuracy: 0.5935\n",
      "Epoch 9/60\n",
      "6250/6250 [==============================] - 293s 47ms/step - loss: 1.8042 - accuracy: 0.5988 - val_loss: 1.8262 - val_accuracy: 0.5925\n",
      "Epoch 10/60\n",
      "6250/6250 [==============================] - 292s 47ms/step - loss: 1.7671 - accuracy: 0.6028 - val_loss: 1.7990 - val_accuracy: 0.5926\n",
      "Epoch 11/60\n",
      "6250/6250 [==============================] - 296s 47ms/step - loss: 1.7377 - accuracy: 0.6062 - val_loss: 1.7537 - val_accuracy: 0.6025\n",
      "Epoch 12/60\n",
      "6250/6250 [==============================] - 294s 47ms/step - loss: 1.7104 - accuracy: 0.6090 - val_loss: 1.7546 - val_accuracy: 0.5962\n",
      "Epoch 13/60\n",
      "6250/6250 [==============================] - 292s 47ms/step - loss: 1.6860 - accuracy: 0.6119 - val_loss: 1.7371 - val_accuracy: 0.6000\n",
      "Epoch 14/60\n",
      "6250/6250 [==============================] - 291s 47ms/step - loss: 1.6643 - accuracy: 0.6143 - val_loss: 1.7117 - val_accuracy: 0.6041\n",
      "Epoch 15/60\n",
      "6250/6250 [==============================] - 291s 47ms/step - loss: 1.6439 - accuracy: 0.6161 - val_loss: 1.6451 - val_accuracy: 0.6151\n",
      "Epoch 16/60\n",
      "6250/6250 [==============================] - 291s 47ms/step - loss: 1.6241 - accuracy: 0.6182 - val_loss: 1.6717 - val_accuracy: 0.6086\n",
      "Epoch 17/60\n",
      "6250/6250 [==============================] - 293s 47ms/step - loss: 1.6104 - accuracy: 0.6203 - val_loss: 1.6378 - val_accuracy: 0.6137\n",
      "Epoch 18/60\n",
      "6250/6250 [==============================] - 289s 46ms/step - loss: 1.5983 - accuracy: 0.6211 - val_loss: 1.6374 - val_accuracy: 0.6126\n",
      "Epoch 19/60\n",
      "6250/6250 [==============================] - 287s 46ms/step - loss: 1.5823 - accuracy: 0.6229 - val_loss: 1.6038 - val_accuracy: 0.6162\n",
      "Epoch 20/60\n",
      "6250/6250 [==============================] - 286s 46ms/step - loss: 1.5691 - accuracy: 0.6244 - val_loss: 1.5890 - val_accuracy: 0.6184\n",
      "Epoch 21/60\n",
      "6250/6250 [==============================] - 287s 46ms/step - loss: 1.5602 - accuracy: 0.6257 - val_loss: 1.5967 - val_accuracy: 0.6142\n",
      "Epoch 22/60\n",
      "6250/6250 [==============================] - 287s 46ms/step - loss: 1.5505 - accuracy: 0.6270 - val_loss: 1.5978 - val_accuracy: 0.6214\n",
      "Epoch 23/60\n",
      "6250/6250 [==============================] - 287s 46ms/step - loss: 1.5416 - accuracy: 0.6271 - val_loss: 1.5638 - val_accuracy: 0.6204\n",
      "Epoch 24/60\n",
      "6250/6250 [==============================] - 288s 46ms/step - loss: 1.5343 - accuracy: 0.6278 - val_loss: 1.5643 - val_accuracy: 0.6196\n",
      "Epoch 25/60\n",
      "6250/6250 [==============================] - 288s 46ms/step - loss: 1.5232 - accuracy: 0.6299 - val_loss: 1.5754 - val_accuracy: 0.6153\n",
      "Epoch 26/60\n",
      "6250/6250 [==============================] - 291s 46ms/step - loss: 1.5174 - accuracy: 0.6302 - val_loss: 1.5411 - val_accuracy: 0.6250\n",
      "Epoch 27/60\n",
      "6250/6250 [==============================] - 287s 46ms/step - loss: 1.5095 - accuracy: 0.6316 - val_loss: 1.5622 - val_accuracy: 0.6206\n",
      "Epoch 28/60\n",
      "6250/6250 [==============================] - 288s 46ms/step - loss: 1.5049 - accuracy: 0.6320 - val_loss: 1.5423 - val_accuracy: 0.6236\n",
      "Epoch 29/60\n",
      "6250/6250 [==============================] - 287s 46ms/step - loss: 1.4990 - accuracy: 0.6322 - val_loss: 1.5210 - val_accuracy: 0.6294\n",
      "Epoch 30/60\n",
      "6250/6250 [==============================] - 287s 46ms/step - loss: 1.4907 - accuracy: 0.6334 - val_loss: 1.5049 - val_accuracy: 0.6271\n",
      "Epoch 31/60\n",
      "6250/6250 [==============================] - 286s 46ms/step - loss: 1.4873 - accuracy: 0.6336 - val_loss: 1.5161 - val_accuracy: 0.6264\n",
      "Epoch 32/60\n",
      "6250/6250 [==============================] - 285s 46ms/step - loss: 1.4811 - accuracy: 0.6346 - val_loss: 1.5154 - val_accuracy: 0.6246\n",
      "Epoch 33/60\n",
      "6250/6250 [==============================] - 285s 46ms/step - loss: 1.4791 - accuracy: 0.6345 - val_loss: 1.5168 - val_accuracy: 0.6245\n",
      "Epoch 34/60\n",
      "6250/6250 [==============================] - 287s 46ms/step - loss: 1.4721 - accuracy: 0.6353 - val_loss: 1.5022 - val_accuracy: 0.6263\n",
      "Epoch 35/60\n",
      "6250/6250 [==============================] - 285s 46ms/step - loss: 1.4683 - accuracy: 0.6359 - val_loss: 1.5033 - val_accuracy: 0.6232\n",
      "Epoch 36/60\n",
      "6250/6250 [==============================] - 289s 46ms/step - loss: 1.4627 - accuracy: 0.6362 - val_loss: 1.4677 - val_accuracy: 0.6309\n",
      "Epoch 37/60\n",
      "3232/6250 [==============>...............] - ETA: 2:12 - loss: 1.4581 - accuracy: 0.6368"
     ]
    }
   ],
   "source": [
    "batch_size = 128\n",
    "epochs = 60\n",
    "\n",
    "model.compile(loss=\"categorical_crossentropy\", optimizer=\"adam\", metrics=[\"accuracy\"])\n",
    "\n",
    "model.fit(x_train, y_train, batch_size=batch_size, epochs=epochs, validation_data = (x_valid, y_valid))"
   ]
  },
  {
   "cell_type": "code",
   "execution_count": 17,
   "metadata": {},
   "outputs": [],
   "source": [
    "prediction_test = model.predict(x_test)\n",
    "prediction_valid = model.predict(x_valid)\n",
    "prediction_train = model.predict(x_train)"
   ]
  },
  {
   "cell_type": "code",
   "execution_count": 18,
   "metadata": {},
   "outputs": [],
   "source": [
    "from sklearn.metrics import accuracy_score"
   ]
  },
  {
   "cell_type": "code",
   "execution_count": 19,
   "metadata": {},
   "outputs": [],
   "source": [
    "def prob_to_cards(lst):\n",
    "    return [card_names[np.argmax(x)] for x in lst]"
   ]
  },
  {
   "cell_type": "code",
   "execution_count": 20,
   "metadata": {},
   "outputs": [
    {
     "name": "stdout",
     "output_type": "stream",
     "text": [
      "0.65515875\n",
      "0.63919\n",
      "0.64725\n"
     ]
    }
   ],
   "source": [
    "print(accuracy_score(prob_to_cards(y_train), prob_to_cards(prediction_train)))\n",
    "print(accuracy_score(prob_to_cards(y_valid), prob_to_cards(prediction_valid)))\n",
    "print(accuracy_score(prob_to_cards(y_test), prob_to_cards(prediction_test)))"
   ]
  },
  {
   "cell_type": "code",
   "execution_count": null,
   "metadata": {},
   "outputs": [],
   "source": [
    "def parse_pack(row):\n",
    "    pack = [c for c in row.index if \"pack_card_\" in c]\n",
    "    #print(pack)\n",
    "    names = []\n",
    "    for i,p in enumerate(pack): \n",
    "        if row[p] == 1:\n",
    "            names.append((i,p.split(\"_\")[2]))\n",
    "    return names"
   ]
  },
  {
   "cell_type": "code",
   "execution_count": null,
   "metadata": {},
   "outputs": [],
   "source": [
    "def shown_pack_predictions(pack_data, probabilities, index, expected, predicted):\n",
    "    pack = parse_pack(pack_data.iloc[index])\n",
    "    print(pack_data.iloc[index].pack_number)\n",
    "    print(expected[index])\n",
    "    for i,card in pack:\n",
    "        i = list(clf.classes_).index(card)\n",
    "        print(card+\" \"+str(probabilities[index][i]))"
   ]
  },
  {
   "cell_type": "code",
   "execution_count": null,
   "metadata": {},
   "outputs": [],
   "source": [
    "card_names[np.argmax(sample_prediction[0])]"
   ]
  },
  {
   "cell_type": "code",
   "execution_count": null,
   "metadata": {},
   "outputs": [],
   "source": [
    "shown_pack_predictions(x_test[:100],sample_prediction,0, y_test[:100], None)"
   ]
  },
  {
   "cell_type": "code",
   "execution_count": null,
   "metadata": {},
   "outputs": [],
   "source": [
    "sample_prediction[0].max()"
   ]
  },
  {
   "cell_type": "code",
   "execution_count": null,
   "metadata": {},
   "outputs": [],
   "source": [
    "x_test.shape"
   ]
  },
  {
   "cell_type": "code",
   "execution_count": null,
   "metadata": {},
   "outputs": [],
   "source": [
    "num_classes = 10\n",
    "input_shape = (28, 28, 1)\n",
    "\n",
    "# the data, split between train and test sets\n",
    "(x_train, y_train), (x_test, y_test) = keras.datasets.mnist.load_data()\n",
    "\n",
    "# Scale images to the [0, 1] range\n",
    "x_train = x_train.astype(\"float32\") / 255\n",
    "x_test = x_test.astype(\"float32\") / 255\n",
    "# Make sure images have shape (28, 28, 1)\n",
    "x_train = np.expand_dims(x_train, -1)\n",
    "x_test = np.expand_dims(x_test, -1)\n",
    "print(\"x_train shape:\", x_train.shape)\n",
    "print(x_train.shape[0], \"train samples\")\n",
    "print(x_test.shape[0], \"test samples\")\n",
    "\n",
    "\n",
    "# convert class vectors to binary class matrices\n"
   ]
  },
  {
   "cell_type": "code",
   "execution_count": null,
   "metadata": {},
   "outputs": [],
   "source": [
    "model = keras.Sequential(\n",
    "    [\n",
    "        keras.Input(shape=input_shape),\n",
    "        layers.Conv2D(32, kernel_size=(3, 3), activation=\"relu\"),\n",
    "        layers.MaxPooling2D(pool_size=(2, 2)),\n",
    "        layers.Conv2D(64, kernel_size=(3, 3), activation=\"relu\"),\n",
    "        layers.MaxPooling2D(pool_size=(2, 2)),\n",
    "        layers.Flatten(),\n",
    "        layers.Dropout(0.5),\n",
    "        layers.Dense(num_classes, activation=\"softmax\"),\n",
    "    ]\n",
    ")\n",
    "\n",
    "model.summary()"
   ]
  },
  {
   "cell_type": "code",
   "execution_count": null,
   "metadata": {},
   "outputs": [],
   "source": [
    "batch_size = 128\n",
    "epochs = 15\n",
    "\n",
    "model.compile(loss=\"categorical_crossentropy\", optimizer=\"adam\", metrics=[\"accuracy\"])\n",
    "\n",
    "model.fit(x_train, y_train, batch_size=batch_size, epochs=epochs, validation_split=0.1)"
   ]
  },
  {
   "cell_type": "code",
   "execution_count": null,
   "metadata": {},
   "outputs": [],
   "source": [
    "score = model.evaluate(x_test, y_test, verbose=0)\n",
    "print(\"Test loss:\", score[0])\n",
    "print(\"Test accuracy:\", score[1])"
   ]
  },
  {
   "cell_type": "code",
   "execution_count": null,
   "metadata": {},
   "outputs": [],
   "source": []
  }
 ],
 "metadata": {
  "kernelspec": {
   "display_name": "Python 3",
   "language": "python",
   "name": "python3"
  },
  "language_info": {
   "codemirror_mode": {
    "name": "ipython",
    "version": 3
   },
   "file_extension": ".py",
   "mimetype": "text/x-python",
   "name": "python",
   "nbconvert_exporter": "python",
   "pygments_lexer": "ipython3",
   "version": "3.7.0"
  }
 },
 "nbformat": 4,
 "nbformat_minor": 4
}
